{
  "nbformat": 4,
  "nbformat_minor": 0,
  "metadata": {
    "colab": {
      "provenance": [],
      "collapsed_sections": [],
      "authorship_tag": "ABX9TyPSg6O22uaSiMyCQ2Ey2Mok",
      "include_colab_link": true
    },
    "kernelspec": {
      "name": "python3",
      "display_name": "Python 3"
    },
    "language_info": {
      "name": "python"
    }
  },
  "cells": [
    {
      "cell_type": "markdown",
      "metadata": {
        "id": "view-in-github",
        "colab_type": "text"
      },
      "source": [
        "<a href=\"https://colab.research.google.com/github/min207/ESAA/blob/main/ESAA1014.ipynb\" target=\"_parent\"><img src=\"https://colab.research.google.com/assets/colab-badge.svg\" alt=\"Open In Colab\"/></a>"
      ]
    },
    {
      "cell_type": "markdown",
      "source": [
        "###**- 문자열을 datetime 오브젝트로 변환하기**"
      ],
      "metadata": {
        "id": "ds_iJcmH4aXW"
      }
    },
    {
      "cell_type": "code",
      "execution_count": 3,
      "metadata": {
        "id": "cflieUvPzXsj"
      },
      "outputs": [],
      "source": [
        "import pandas as pd\n",
        "import os\n",
        "\n",
        "ebola=pd.read_csv('country_timeseries.csv')"
      ]
    },
    {
      "cell_type": "code",
      "source": [
        "print(ebola.info())"
      ],
      "metadata": {
        "colab": {
          "base_uri": "https://localhost:8080/"
        },
        "id": "-jvsGU4x1kAA",
        "outputId": "0e7dcf55-dccd-4296-9e9f-93bbcadb903a"
      },
      "execution_count": 4,
      "outputs": [
        {
          "output_type": "stream",
          "name": "stdout",
          "text": [
            "<class 'pandas.core.frame.DataFrame'>\n",
            "RangeIndex: 122 entries, 0 to 121\n",
            "Data columns (total 18 columns):\n",
            " #   Column               Non-Null Count  Dtype  \n",
            "---  ------               --------------  -----  \n",
            " 0   Date                 122 non-null    object \n",
            " 1   Day                  122 non-null    int64  \n",
            " 2   Cases_Guinea         93 non-null     float64\n",
            " 3   Cases_Liberia        83 non-null     float64\n",
            " 4   Cases_SierraLeone    87 non-null     float64\n",
            " 5   Cases_Nigeria        38 non-null     float64\n",
            " 6   Cases_Senegal        25 non-null     float64\n",
            " 7   Cases_UnitedStates   18 non-null     float64\n",
            " 8   Cases_Spain          16 non-null     float64\n",
            " 9   Cases_Mali           12 non-null     float64\n",
            " 10  Deaths_Guinea        92 non-null     float64\n",
            " 11  Deaths_Liberia       81 non-null     float64\n",
            " 12  Deaths_SierraLeone   87 non-null     float64\n",
            " 13  Deaths_Nigeria       38 non-null     float64\n",
            " 14  Deaths_Senegal       22 non-null     float64\n",
            " 15  Deaths_UnitedStates  18 non-null     float64\n",
            " 16  Deaths_Spain         16 non-null     float64\n",
            " 17  Deaths_Mali          12 non-null     float64\n",
            "dtypes: float64(16), int64(1), object(1)\n",
            "memory usage: 17.3+ KB\n",
            "None\n"
          ]
        }
      ]
    },
    {
      "cell_type": "code",
      "source": [
        "ebola['date_dt'] = pd.to_datetime(ebola['Date'])\n",
        "print(ebola.info())"
      ],
      "metadata": {
        "colab": {
          "base_uri": "https://localhost:8080/"
        },
        "id": "KHwXLPZf4kh6",
        "outputId": "21e66842-75c4-4cdd-e713-e74a0e9b0eda"
      },
      "execution_count": 5,
      "outputs": [
        {
          "output_type": "stream",
          "name": "stdout",
          "text": [
            "<class 'pandas.core.frame.DataFrame'>\n",
            "RangeIndex: 122 entries, 0 to 121\n",
            "Data columns (total 19 columns):\n",
            " #   Column               Non-Null Count  Dtype         \n",
            "---  ------               --------------  -----         \n",
            " 0   Date                 122 non-null    object        \n",
            " 1   Day                  122 non-null    int64         \n",
            " 2   Cases_Guinea         93 non-null     float64       \n",
            " 3   Cases_Liberia        83 non-null     float64       \n",
            " 4   Cases_SierraLeone    87 non-null     float64       \n",
            " 5   Cases_Nigeria        38 non-null     float64       \n",
            " 6   Cases_Senegal        25 non-null     float64       \n",
            " 7   Cases_UnitedStates   18 non-null     float64       \n",
            " 8   Cases_Spain          16 non-null     float64       \n",
            " 9   Cases_Mali           12 non-null     float64       \n",
            " 10  Deaths_Guinea        92 non-null     float64       \n",
            " 11  Deaths_Liberia       81 non-null     float64       \n",
            " 12  Deaths_SierraLeone   87 non-null     float64       \n",
            " 13  Deaths_Nigeria       38 non-null     float64       \n",
            " 14  Deaths_Senegal       22 non-null     float64       \n",
            " 15  Deaths_UnitedStates  18 non-null     float64       \n",
            " 16  Deaths_Spain         16 non-null     float64       \n",
            " 17  Deaths_Mali          12 non-null     float64       \n",
            " 18  date_dt              122 non-null    datetime64[ns]\n",
            "dtypes: datetime64[ns](1), float64(16), int64(1), object(1)\n",
            "memory usage: 18.2+ KB\n",
            "None\n"
          ]
        }
      ]
    },
    {
      "cell_type": "code",
      "source": [
        "# format 인자를 사용해 시간 형식 지정 가능\n",
        "test_df1 = pd.DataFrame({'order_day':['01/01/15', '02/01/15', '03/01/15']})\n",
        "\n",
        "test_df1['date_dt1'] = pd.to_datetime(test_df1['order_day'], format='%d/%m/%y')\n",
        "test_df1['date_dt2'] = pd.to_datetime(test_df1['order_day'], format='%m/%d/%y')\n",
        "test_df1['date_dt3'] = pd.to_datetime(test_df1['order_day'], format='%y/%m/%d')\n",
        "\n",
        "print(test_df1)"
      ],
      "metadata": {
        "colab": {
          "base_uri": "https://localhost:8080/"
        },
        "id": "Y-a_H4fS4rmG",
        "outputId": "0b78398f-de60-4a5f-d22d-8217da67f736"
      },
      "execution_count": 6,
      "outputs": [
        {
          "output_type": "stream",
          "name": "stdout",
          "text": [
            "  order_day   date_dt1   date_dt2   date_dt3\n",
            "0  01/01/15 2015-01-01 2015-01-01 2001-01-15\n",
            "1  02/01/15 2015-01-02 2015-02-01 2002-01-15\n",
            "2  03/01/15 2015-01-03 2015-03-01 2003-01-15\n"
          ]
        }
      ]
    },
    {
      "cell_type": "code",
      "source": [
        "test_df2 = pd.DataFrame({'order_day':['01-01-15','02-01-15','03-01-15']})\n",
        "test_df2['date_dt'] = pd.to_datetime(test_df2['order_day'], format = '%d-%m-%y')\n",
        "\n",
        "print(test_df2)"
      ],
      "metadata": {
        "colab": {
          "base_uri": "https://localhost:8080/"
        },
        "id": "AurSb1Nd5R0d",
        "outputId": "0b93ef60-7b5e-4f3a-fb8a-344a342be0c4"
      },
      "execution_count": 9,
      "outputs": [
        {
          "output_type": "stream",
          "name": "stdout",
          "text": [
            "  order_day    date_dt\n",
            "0  01-01-15 2015-01-01\n",
            "1  02-01-15 2015-01-02\n",
            "2  03-01-15 2015-01-03\n"
          ]
        }
      ]
    },
    {
      "cell_type": "markdown",
      "source": [
        "- 시간 형식 지정자\n",
        "  + %a : 요일 출력 > Sun, Mon, ..., Sat\n",
        "  + %A : 요일 출력(긴 이름) > Sunday, Monday, ..., Saturday\n",
        "  + %w : 요일 출력(숫자, 0부터 일요일) > 0,1,..., 6\n",
        "  + %d : 날짜 출력(2자리로 표시) > 01,02,..., 31\n",
        "  + %b : 월 출력 > Jan, Feb, ..., Dec\n",
        "  + %B : 월 출력(긴 이름) > January, February,..., December\n",
        "  + %m : 월 출력(숫자) > 01,02,..., 12\n",
        "  + %y : 년 출력(2자리로 표시) > 00,01,..., 99\n",
        "  + %Y : 년 출력(4자리로 표시) > 0001,0002,..., 2013,2014,..., 9999\n",
        "  + %H : 시간 출력(24시간) > 00,01,..., 23\n",
        "  + %I : 시간 출력(12시간) > 01,02,..., 12\n",
        "  + %p : AM 또는 PM 출력 > AM, PM\n",
        "  + %M : 분 출력(2자리로 표시) > 00,01,..., 59\n",
        "  + %S : 초 출력(2자리로 표시) > 00,01,..., 59\n",
        "  + %f : 마이크로초 출력 > 000000,000001,..., 999999\n",
        "  + %z : UTC 차이 출력(+HHMM이나 -HHMM형태) > (None),+0000,-0400,+1030\n",
        "  + %Z : 기준 지역 이름 출력 > (None),UTC,EST,CST\n",
        "  + %j : 올해의 지난 일 수 출력(1일, 2일,...) > 001,002,..., 366\n",
        "  + %U : 올해의 지난 주 수 출력(1주, 2주,...) > 00,01,..., 53\n",
        "  + %c : 날짜와 시간 출력 > Tue Aug 16 21:30:00 1988\n",
        "  + %x : 날짜 출력 > 08/16/88 (None); 08/16/1988\n",
        "  + %X : 시간 출력 > 21:30:00\n",
        "  + %G : 년 출력(ISO 8601 형식) > 0001,0002,..., 2013,2014,..., 9999\n",
        "  + %u : 요일 출력(ISO 8601 형식) > 1,2,..., 7\n",
        "  + %V : 올해의 지난 주 수 출력(ISO 8601 형식) > 01,02,..., 53"
      ],
      "metadata": {
        "id": "fe8r4jYb6A4n"
      }
    },
    {
      "cell_type": "markdown",
      "source": [
        "###**- 시계열 데이터 구분해서 추출**"
      ],
      "metadata": {
        "id": "1XXRzpw77UPE"
      }
    },
    {
      "cell_type": "code",
      "source": [
        "from datetime import datetime"
      ],
      "metadata": {
        "id": "u-I6iT0F7X81"
      },
      "execution_count": 11,
      "outputs": []
    },
    {
      "cell_type": "code",
      "source": [
        "now=datetime.now()\n",
        "print(now)\n",
        "\n",
        "nowDate=now.strftime('%Y-%m-%d')\n",
        "print(nowDate)\n",
        "\n",
        "nowTime=now.strftime('%H:%M:%S')\n",
        "print(nowTime)\n",
        "\n",
        "nowDatetime=now.strftime('%Y-%m-%d %H:%M:%S')\n",
        "print(nowDatetime)"
      ],
      "metadata": {
        "colab": {
          "base_uri": "https://localhost:8080/"
        },
        "id": "HMATVMs35suj",
        "outputId": "513b0c0f-bc9a-439d-a156-b15e4b478bf3"
      },
      "execution_count": 12,
      "outputs": [
        {
          "output_type": "stream",
          "name": "stdout",
          "text": [
            "2022-10-12 11:22:19.287954\n",
            "2022-10-12\n",
            "11:22:19\n",
            "2022-10-12 11:22:19\n"
          ]
        }
      ]
    },
    {
      "cell_type": "markdown",
      "source": [
        "###**- datetime 오브젝트로 변환하기: read_csv 메서드**"
      ],
      "metadata": {
        "id": "hyLqWkqw7ogd"
      }
    },
    {
      "cell_type": "code",
      "source": [
        "ebola1 = pd.read_csv('country_timeseries.csv', parse_dates=['Date'])\n",
        "print(ebola1.info())"
      ],
      "metadata": {
        "colab": {
          "base_uri": "https://localhost:8080/"
        },
        "id": "wgb66DEZ7jlU",
        "outputId": "1a254af6-e52d-4d99-9eed-85b9ac2fa33a"
      },
      "execution_count": 13,
      "outputs": [
        {
          "output_type": "stream",
          "name": "stdout",
          "text": [
            "<class 'pandas.core.frame.DataFrame'>\n",
            "RangeIndex: 122 entries, 0 to 121\n",
            "Data columns (total 18 columns):\n",
            " #   Column               Non-Null Count  Dtype         \n",
            "---  ------               --------------  -----         \n",
            " 0   Date                 122 non-null    datetime64[ns]\n",
            " 1   Day                  122 non-null    int64         \n",
            " 2   Cases_Guinea         93 non-null     float64       \n",
            " 3   Cases_Liberia        83 non-null     float64       \n",
            " 4   Cases_SierraLeone    87 non-null     float64       \n",
            " 5   Cases_Nigeria        38 non-null     float64       \n",
            " 6   Cases_Senegal        25 non-null     float64       \n",
            " 7   Cases_UnitedStates   18 non-null     float64       \n",
            " 8   Cases_Spain          16 non-null     float64       \n",
            " 9   Cases_Mali           12 non-null     float64       \n",
            " 10  Deaths_Guinea        92 non-null     float64       \n",
            " 11  Deaths_Liberia       81 non-null     float64       \n",
            " 12  Deaths_SierraLeone   87 non-null     float64       \n",
            " 13  Deaths_Nigeria       38 non-null     float64       \n",
            " 14  Deaths_Senegal       22 non-null     float64       \n",
            " 15  Deaths_UnitedStates  18 non-null     float64       \n",
            " 16  Deaths_Spain         16 non-null     float64       \n",
            " 17  Deaths_Mali          12 non-null     float64       \n",
            "dtypes: datetime64[ns](1), float64(16), int64(1)\n",
            "memory usage: 17.3 KB\n",
            "None\n"
          ]
        }
      ]
    },
    {
      "cell_type": "markdown",
      "source": [
        "###**- datetime 오브젝트에서 날짜 정보 추출하기**"
      ],
      "metadata": {
        "id": "xrPQvcwu7_8h"
      }
    },
    {
      "cell_type": "code",
      "source": [
        "date_series = pd.Series(['2018-05-16', '2018-05-17', '2018-05-18'])\n",
        "d1 = pd.to_datetime(date_series)\n",
        "print(d1)"
      ],
      "metadata": {
        "colab": {
          "base_uri": "https://localhost:8080/"
        },
        "id": "C_CjFn1272XY",
        "outputId": "810e682b-503d-4ba9-d483-b0a689b1e18d"
      },
      "execution_count": 15,
      "outputs": [
        {
          "output_type": "stream",
          "name": "stdout",
          "text": [
            "0   2018-05-16\n",
            "1   2018-05-17\n",
            "2   2018-05-18\n",
            "dtype: datetime64[ns]\n"
          ]
        }
      ]
    },
    {
      "cell_type": "code",
      "source": [
        "print(d1[0].year)\n",
        "print(d1[0].month)\n",
        "print(d1[0].day)"
      ],
      "metadata": {
        "colab": {
          "base_uri": "https://localhost:8080/"
        },
        "id": "Ja3dcx_D8SBX",
        "outputId": "ec6a9c36-49be-4223-cbd9-2db6bc1162bd"
      },
      "execution_count": 16,
      "outputs": [
        {
          "output_type": "stream",
          "name": "stdout",
          "text": [
            "2018\n",
            "5\n",
            "16\n"
          ]
        }
      ]
    },
    {
      "cell_type": "markdown",
      "source": [
        "###**- dt 접근자 사용하기**"
      ],
      "metadata": {
        "id": "1DqKn8Hr8cWh"
      }
    },
    {
      "cell_type": "code",
      "source": [
        "ebola = pd.read_csv('country_timeseries.csv')\n",
        "ebola['date_dt'] = pd.to_datetime(ebola['Date'])"
      ],
      "metadata": {
        "id": "btoatUfw8atp"
      },
      "execution_count": 17,
      "outputs": []
    },
    {
      "cell_type": "code",
      "source": [
        "print(ebola[['Date', 'date_dt']].head())"
      ],
      "metadata": {
        "colab": {
          "base_uri": "https://localhost:8080/"
        },
        "id": "b3md2ZUf8tQm",
        "outputId": "875b397a-8c12-4a73-a2f7-9c8b860737d5"
      },
      "execution_count": 18,
      "outputs": [
        {
          "output_type": "stream",
          "name": "stdout",
          "text": [
            "         Date    date_dt\n",
            "0    1/5/2015 2015-01-05\n",
            "1    1/4/2015 2015-01-04\n",
            "2    1/3/2015 2015-01-03\n",
            "3    1/2/2015 2015-01-02\n",
            "4  12/31/2014 2014-12-31\n"
          ]
        }
      ]
    },
    {
      "cell_type": "code",
      "source": [
        "print(ebola['date_dt'][3].year)\n",
        "print(ebola['date_dt'][3].month)\n",
        "print(ebola['date_dt'][3].day)"
      ],
      "metadata": {
        "colab": {
          "base_uri": "https://localhost:8080/"
        },
        "id": "I4grPs0H8yhK",
        "outputId": "2b8bf01d-8a1c-4f22-eb58-fa0355e5afa0"
      },
      "execution_count": 19,
      "outputs": [
        {
          "output_type": "stream",
          "name": "stdout",
          "text": [
            "2015\n",
            "1\n",
            "2\n"
          ]
        }
      ]
    },
    {
      "cell_type": "markdown",
      "source": [
        "위 방법은 열의 특정 데이터를 인덱스로 접근해야해서 불편함 > dt접근자로 한 번에 접근한 후 year 속성을 이용하여 연도값 추출"
      ],
      "metadata": {
        "id": "VGWDxC0c9QC7"
      }
    },
    {
      "cell_type": "code",
      "source": [
        "ebola['year'] = ebola['date_dt'].dt.year\n",
        "print(ebola[['Date','date_dt','year']].head())"
      ],
      "metadata": {
        "colab": {
          "base_uri": "https://localhost:8080/"
        },
        "id": "yxFEUvPe8_gM",
        "outputId": "5bd3ba0e-843f-48fc-970f-7cdc739b5bbe"
      },
      "execution_count": 20,
      "outputs": [
        {
          "output_type": "stream",
          "name": "stdout",
          "text": [
            "         Date    date_dt  year\n",
            "0    1/5/2015 2015-01-05  2015\n",
            "1    1/4/2015 2015-01-04  2015\n",
            "2    1/3/2015 2015-01-03  2015\n",
            "3    1/2/2015 2015-01-02  2015\n",
            "4  12/31/2014 2014-12-31  2014\n"
          ]
        }
      ]
    },
    {
      "cell_type": "code",
      "source": [
        "ebola['month'],ebola['day'] = (ebola['date_dt'].dt.month,ebola['date_dt'].dt.day)\n",
        "\n",
        "print(ebola[['Date', 'date_dt', 'year', 'month', 'day']].head())"
      ],
      "metadata": {
        "colab": {
          "base_uri": "https://localhost:8080/"
        },
        "id": "QBadVYgb9NsD",
        "outputId": "c8fb2178-029b-47c8-acf9-5569343e47f6"
      },
      "execution_count": 21,
      "outputs": [
        {
          "output_type": "stream",
          "name": "stdout",
          "text": [
            "         Date    date_dt  year  month  day\n",
            "0    1/5/2015 2015-01-05  2015      1    5\n",
            "1    1/4/2015 2015-01-04  2015      1    4\n",
            "2    1/3/2015 2015-01-03  2015      1    3\n",
            "3    1/2/2015 2015-01-02  2015      1    2\n",
            "4  12/31/2014 2014-12-31  2014     12   31\n"
          ]
        }
      ]
    },
    {
      "cell_type": "code",
      "source": [
        "print(ebola.info())"
      ],
      "metadata": {
        "colab": {
          "base_uri": "https://localhost:8080/"
        },
        "id": "ASYdZAsp9rM-",
        "outputId": "89c4ac76-1583-4e65-8fe2-62845ca9453a"
      },
      "execution_count": 22,
      "outputs": [
        {
          "output_type": "stream",
          "name": "stdout",
          "text": [
            "<class 'pandas.core.frame.DataFrame'>\n",
            "RangeIndex: 122 entries, 0 to 121\n",
            "Data columns (total 22 columns):\n",
            " #   Column               Non-Null Count  Dtype         \n",
            "---  ------               --------------  -----         \n",
            " 0   Date                 122 non-null    object        \n",
            " 1   Day                  122 non-null    int64         \n",
            " 2   Cases_Guinea         93 non-null     float64       \n",
            " 3   Cases_Liberia        83 non-null     float64       \n",
            " 4   Cases_SierraLeone    87 non-null     float64       \n",
            " 5   Cases_Nigeria        38 non-null     float64       \n",
            " 6   Cases_Senegal        25 non-null     float64       \n",
            " 7   Cases_UnitedStates   18 non-null     float64       \n",
            " 8   Cases_Spain          16 non-null     float64       \n",
            " 9   Cases_Mali           12 non-null     float64       \n",
            " 10  Deaths_Guinea        92 non-null     float64       \n",
            " 11  Deaths_Liberia       81 non-null     float64       \n",
            " 12  Deaths_SierraLeone   87 non-null     float64       \n",
            " 13  Deaths_Nigeria       38 non-null     float64       \n",
            " 14  Deaths_Senegal       22 non-null     float64       \n",
            " 15  Deaths_UnitedStates  18 non-null     float64       \n",
            " 16  Deaths_Spain         16 non-null     float64       \n",
            " 17  Deaths_Mali          12 non-null     float64       \n",
            " 18  date_dt              122 non-null    datetime64[ns]\n",
            " 19  year                 122 non-null    int64         \n",
            " 20  month                122 non-null    int64         \n",
            " 21  day                  122 non-null    int64         \n",
            "dtypes: datetime64[ns](1), float64(16), int64(4), object(1)\n",
            "memory usage: 21.1+ KB\n",
            "None\n"
          ]
        }
      ]
    },
    {
      "cell_type": "markdown",
      "source": [
        "###**- 사례별 시계열 데이터 계산하기**"
      ],
      "metadata": {
        "id": "tYtYPJoJ9wS4"
      }
    },
    {
      "cell_type": "markdown",
      "source": [
        "에볼라 최초 발병일 계산"
      ],
      "metadata": {
        "id": "xR6fC4yx-V2a"
      }
    },
    {
      "cell_type": "code",
      "source": [
        "print(ebola.iloc[-5:, :5])"
      ],
      "metadata": {
        "colab": {
          "base_uri": "https://localhost:8080/"
        },
        "id": "I_wzbKdy9tQn",
        "outputId": "25514460-ef9a-47ee-e7b0-0c6be24066ab"
      },
      "execution_count": 23,
      "outputs": [
        {
          "output_type": "stream",
          "name": "stdout",
          "text": [
            "          Date  Day  Cases_Guinea  Cases_Liberia  Cases_SierraLeone\n",
            "117  3/27/2014    5         103.0            8.0                6.0\n",
            "118  3/26/2014    4          86.0            NaN                NaN\n",
            "119  3/25/2014    3          86.0            NaN                NaN\n",
            "120  3/24/2014    2          86.0            NaN                NaN\n",
            "121  3/22/2014    0          49.0            NaN                NaN\n"
          ]
        }
      ]
    },
    {
      "cell_type": "code",
      "source": [
        "print(ebola['date_dt'].min())\n",
        "print(type(ebola['date_dt'].min()))"
      ],
      "metadata": {
        "colab": {
          "base_uri": "https://localhost:8080/"
        },
        "id": "JCUnRpBY96g5",
        "outputId": "a3687e3e-f287-456b-b2bf-72af2deeeb3c"
      },
      "execution_count": 25,
      "outputs": [
        {
          "output_type": "stream",
          "name": "stdout",
          "text": [
            "2014-03-22 00:00:00\n",
            "<class 'pandas._libs.tslibs.timestamps.Timestamp'>\n"
          ]
        }
      ]
    },
    {
      "cell_type": "code",
      "source": [
        "ebola['outbreak_d'] = ebola['date_dt'] - ebola['date_dt'].min()\n",
        "print(ebola[['Date', 'Day', 'outbreak_d']].head())"
      ],
      "metadata": {
        "colab": {
          "base_uri": "https://localhost:8080/"
        },
        "id": "c1xMnVw2-GtY",
        "outputId": "5ea1d448-ebf8-4be9-a5ec-c162f84791aa"
      },
      "execution_count": 26,
      "outputs": [
        {
          "output_type": "stream",
          "name": "stdout",
          "text": [
            "         Date  Day outbreak_d\n",
            "0    1/5/2015  289   289 days\n",
            "1    1/4/2015  288   288 days\n",
            "2    1/3/2015  287   287 days\n",
            "3    1/2/2015  286   286 days\n",
            "4  12/31/2014  284   284 days\n"
          ]
        }
      ]
    },
    {
      "cell_type": "markdown",
      "source": [
        "파산한 은행의 개수 계산"
      ],
      "metadata": {
        "id": "s0E0b1zQ-aSb"
      }
    },
    {
      "cell_type": "code",
      "source": [
        "banks = pd.read_csv('banklist.csv')\n",
        "print(banks.head())"
      ],
      "metadata": {
        "colab": {
          "base_uri": "https://localhost:8080/"
        },
        "id": "S2b-nctE-TaG",
        "outputId": "61906b9f-aa21-4cb4-b917-ce014696fb10"
      },
      "execution_count": 27,
      "outputs": [
        {
          "output_type": "stream",
          "name": "stdout",
          "text": [
            "                                           Bank Name         City  ST   CERT  \\\n",
            "0                Washington Federal Bank for Savings      Chicago  IL  30570   \n",
            "1    The Farmers and Merchants State Bank of Argonia      Argonia  KS  17719   \n",
            "2                                Fayette County Bank   Saint Elmo  IL   1802   \n",
            "3  Guaranty Bank, (d/b/a BestBank in Georgia & Mi...    Milwaukee  WI  30003   \n",
            "4                                     First NBC Bank  New Orleans  LA  58302   \n",
            "\n",
            "                 Acquiring Institution Closing Date Updated Date  \n",
            "0                   Royal Savings Bank    15-Dec-17    20-Dec-17  \n",
            "1                          Conway Bank    13-Oct-17    20-Oct-17  \n",
            "2            United Fidelity Bank, fsb    26-May-17    26-Jul-17  \n",
            "3  First-Citizens Bank & Trust Company     5-May-17    26-Jul-17  \n",
            "4                         Whitney Bank    28-Apr-17     5-Dec-17  \n"
          ]
        }
      ]
    },
    {
      "cell_type": "code",
      "source": [
        "banks_no_dates = pd.read_csv('banklist.csv')\n",
        "print(banks_no_dates.info())\n",
        "banks=pd.read_csv('banklist.csv',parse_dates=[5,6])\n",
        "print(banks.info())"
      ],
      "metadata": {
        "colab": {
          "base_uri": "https://localhost:8080/"
        },
        "id": "n2u4SlMu-neG",
        "outputId": "49094728-c594-4c1b-80f5-939cdc3bd866"
      },
      "execution_count": 31,
      "outputs": [
        {
          "output_type": "stream",
          "name": "stdout",
          "text": [
            "<class 'pandas.core.frame.DataFrame'>\n",
            "RangeIndex: 555 entries, 0 to 554\n",
            "Data columns (total 7 columns):\n",
            " #   Column                 Non-Null Count  Dtype \n",
            "---  ------                 --------------  ----- \n",
            " 0   Bank Name              555 non-null    object\n",
            " 1   City                   555 non-null    object\n",
            " 2   ST                     555 non-null    object\n",
            " 3   CERT                   555 non-null    int64 \n",
            " 4   Acquiring Institution  555 non-null    object\n",
            " 5   Closing Date           555 non-null    object\n",
            " 6   Updated Date           555 non-null    object\n",
            "dtypes: int64(1), object(6)\n",
            "memory usage: 30.5+ KB\n",
            "None\n",
            "<class 'pandas.core.frame.DataFrame'>\n",
            "RangeIndex: 555 entries, 0 to 554\n",
            "Data columns (total 7 columns):\n",
            " #   Column                 Non-Null Count  Dtype         \n",
            "---  ------                 --------------  -----         \n",
            " 0   Bank Name              555 non-null    object        \n",
            " 1   City                   555 non-null    object        \n",
            " 2   ST                     555 non-null    object        \n",
            " 3   CERT                   555 non-null    int64         \n",
            " 4   Acquiring Institution  555 non-null    object        \n",
            " 5   Closing Date           555 non-null    datetime64[ns]\n",
            " 6   Updated Date           555 non-null    datetime64[ns]\n",
            "dtypes: datetime64[ns](2), int64(1), object(4)\n",
            "memory usage: 30.5+ KB\n",
            "None\n"
          ]
        }
      ]
    },
    {
      "cell_type": "code",
      "source": [
        "# 분기 추출\n",
        "banks['closing_quarter'], banks['closing_year'] = (banks['Closing Date'].dt.quarter, banks['Closing Date'].dt.year)\n",
        "print(banks.info())"
      ],
      "metadata": {
        "colab": {
          "base_uri": "https://localhost:8080/"
        },
        "id": "YidX115Y-usP",
        "outputId": "e394bafd-3bc8-46fc-f32b-f64b5a8a8992"
      },
      "execution_count": 33,
      "outputs": [
        {
          "output_type": "stream",
          "name": "stdout",
          "text": [
            "<class 'pandas.core.frame.DataFrame'>\n",
            "RangeIndex: 555 entries, 0 to 554\n",
            "Data columns (total 9 columns):\n",
            " #   Column                 Non-Null Count  Dtype         \n",
            "---  ------                 --------------  -----         \n",
            " 0   Bank Name              555 non-null    object        \n",
            " 1   City                   555 non-null    object        \n",
            " 2   ST                     555 non-null    object        \n",
            " 3   CERT                   555 non-null    int64         \n",
            " 4   Acquiring Institution  555 non-null    object        \n",
            " 5   Closing Date           555 non-null    datetime64[ns]\n",
            " 6   Updated Date           555 non-null    datetime64[ns]\n",
            " 7   closing_quarter        555 non-null    int64         \n",
            " 8   closing_year           555 non-null    int64         \n",
            "dtypes: datetime64[ns](2), int64(3), object(4)\n",
            "memory usage: 39.1+ KB\n",
            "None\n"
          ]
        }
      ]
    },
    {
      "cell_type": "code",
      "source": [
        "banks['closing_quarter'],banks['closing_year']=(banks['Closing Date'].dt.quarter,banks['Closing Date'].dt.year)\n",
        "print(banks.head())"
      ],
      "metadata": {
        "colab": {
          "base_uri": "https://localhost:8080/"
        },
        "id": "jzyd1H_p-99m",
        "outputId": "eb56da4d-77a3-4748-d823-d20592ef5682"
      },
      "execution_count": 34,
      "outputs": [
        {
          "output_type": "stream",
          "name": "stdout",
          "text": [
            "                                           Bank Name         City  ST   CERT  \\\n",
            "0                Washington Federal Bank for Savings      Chicago  IL  30570   \n",
            "1    The Farmers and Merchants State Bank of Argonia      Argonia  KS  17719   \n",
            "2                                Fayette County Bank   Saint Elmo  IL   1802   \n",
            "3  Guaranty Bank, (d/b/a BestBank in Georgia & Mi...    Milwaukee  WI  30003   \n",
            "4                                     First NBC Bank  New Orleans  LA  58302   \n",
            "\n",
            "                 Acquiring Institution Closing Date Updated Date  \\\n",
            "0                   Royal Savings Bank   2017-12-15   2017-12-20   \n",
            "1                          Conway Bank   2017-10-13   2017-10-20   \n",
            "2            United Fidelity Bank, fsb   2017-05-26   2017-07-26   \n",
            "3  First-Citizens Bank & Trust Company   2017-05-05   2017-07-26   \n",
            "4                         Whitney Bank   2017-04-28   2017-12-05   \n",
            "\n",
            "   closing_quarter  closing_year  \n",
            "0                4          2017  \n",
            "1                4          2017  \n",
            "2                2          2017  \n",
            "3                2          2017  \n",
            "4                2          2017  \n"
          ]
        }
      ]
    },
    {
      "cell_type": "code",
      "source": [
        "# 연도별 파산 은행 개수\n",
        "closing_year=banks.groupby(['closing_year']).size()\n",
        "print(closing_year)"
      ],
      "metadata": {
        "colab": {
          "base_uri": "https://localhost:8080/"
        },
        "id": "_vQWi6yh_Zyf",
        "outputId": "dfc3e8bf-275a-41a4-dd51-0f57f241afff"
      },
      "execution_count": 35,
      "outputs": [
        {
          "output_type": "stream",
          "name": "stdout",
          "text": [
            "closing_year\n",
            "2000      2\n",
            "2001      4\n",
            "2002     11\n",
            "2003      3\n",
            "2004      4\n",
            "2007      3\n",
            "2008     25\n",
            "2009    140\n",
            "2010    157\n",
            "2011     92\n",
            "2012     51\n",
            "2013     24\n",
            "2014     18\n",
            "2015      8\n",
            "2016      5\n",
            "2017      8\n",
            "dtype: int64\n"
          ]
        }
      ]
    },
    {
      "cell_type": "code",
      "source": [
        "# 연도별, 분기별 파산 은행 개수\n",
        "closing_year_q=banks.groupby(['closing_year','closing_quarter']).size()\n",
        "print(closing_year_q)"
      ],
      "metadata": {
        "colab": {
          "base_uri": "https://localhost:8080/"
        },
        "id": "9KbsRZue_e5G",
        "outputId": "0ac0de52-b68a-40fb-fe93-e3b18af1236e"
      },
      "execution_count": 36,
      "outputs": [
        {
          "output_type": "stream",
          "name": "stdout",
          "text": [
            "closing_year  closing_quarter\n",
            "2000          4                   2\n",
            "2001          1                   1\n",
            "              2                   1\n",
            "              3                   2\n",
            "2002          1                   6\n",
            "              2                   2\n",
            "              3                   1\n",
            "              4                   2\n",
            "2003          1                   1\n",
            "              2                   1\n",
            "              4                   1\n",
            "2004          1                   3\n",
            "              2                   1\n",
            "2007          1                   1\n",
            "              3                   1\n",
            "              4                   1\n",
            "2008          1                   2\n",
            "              2                   2\n",
            "              3                   9\n",
            "              4                  12\n",
            "2009          1                  21\n",
            "              2                  24\n",
            "              3                  50\n",
            "              4                  45\n",
            "2010          1                  41\n",
            "              2                  45\n",
            "              3                  41\n",
            "              4                  30\n",
            "2011          1                  26\n",
            "              2                  22\n",
            "              3                  26\n",
            "              4                  18\n",
            "2012          1                  16\n",
            "              2                  15\n",
            "              3                  12\n",
            "              4                   8\n",
            "2013          1                   4\n",
            "              2                  12\n",
            "              3                   6\n",
            "              4                   2\n",
            "2014          1                   5\n",
            "              2                   7\n",
            "              3                   2\n",
            "              4                   4\n",
            "2015          1                   4\n",
            "              2                   1\n",
            "              3                   1\n",
            "              4                   2\n",
            "2016          1                   1\n",
            "              2                   2\n",
            "              3                   2\n",
            "2017          1                   3\n",
            "              2                   3\n",
            "              4                   2\n",
            "dtype: int64\n"
          ]
        }
      ]
    },
    {
      "cell_type": "code",
      "source": [
        "# 시각화\n",
        "import matplotlib.pyplot as plt\n",
        "fig,ax=plt.subplots()\n",
        "ax=closing_year.plot()\n",
        "plt.show()\n",
        "fig,ax=plt.subplots()\n",
        "ax=closing_year_q.plot()\n",
        "plt.show()"
      ],
      "metadata": {
        "colab": {
          "base_uri": "https://localhost:8080/",
          "height": 543
        },
        "id": "oFr-I9uT_f7x",
        "outputId": "4f8549a6-0d54-4da7-a3d6-64375bb85bcc"
      },
      "execution_count": 37,
      "outputs": [
        {
          "output_type": "display_data",
          "data": {
            "text/plain": [
              "<Figure size 432x288 with 1 Axes>"
            ],
            "image/png": "[encoded data removed]"
          },
          "metadata": {
            "needs_background": "light"
          }
        },
        {
          "output_type": "display_data",
          "data": {
            "text/plain": [
              "<Figure size 432x288 with 1 Axes>"
            ],
            "image/png": "[encoded data removed]"
          },
          "metadata": {
            "needs_background": "light"
          }
        }
      ]
    },
    {
      "cell_type": "markdown",
      "source": [
        "###**- 시간 범위 수정하고 데이터 밀어내기: shift 메서드**"
      ],
      "metadata": {
        "id": "dur5EyZ3_-cW"
      }
    },
    {
      "cell_type": "markdown",
      "source": [
        "에볼라의 확산 속도 비교"
      ],
      "metadata": {
        "id": "nDJMSc2HACvH"
      }
    },
    {
      "cell_type": "code",
      "source": [
        "import matplotlib.pyplot as plt\n",
        "\n",
        "ebola = pd.read_csv(\"country_timeseries.csv\")\n",
        "\n",
        "ebola.index = ebola['Date']\n",
        "\n",
        "fig, ax = plt.subplots()\n",
        "ax = ebola.iloc[0:, 1:].plot(ax=ax)\n",
        "ax.legend(fontsize=7, loc=2, borderaxespad=0.)\n",
        "plt.xticks(rotation=20)\n",
        "plt.show()"
      ],
      "metadata": {
        "colab": {
          "base_uri": "https://localhost:8080/",
          "height": 298
        },
        "id": "rRo2ujQ-AFcJ",
        "outputId": "d2a5b6a2-43b5-4883-c52c-0607855b6a93"
      },
      "execution_count": 52,
      "outputs": [
        {
          "output_type": "display_data",
          "data": {
            "text/plain": [
              "<Figure size 432x288 with 1 Axes>"
            ],
            "image/png": "[encoded data removed]"
          },
          "metadata": {
            "needs_background": "light"
          }
        }
      ]
    },
    {
      "cell_type": "code",
      "source": [
        "ebola_sub = ebola[['Day', 'Cases_Guinea', 'Cases_Liberia']]\n",
        "print(ebola_sub.tail(10))"
      ],
      "metadata": {
        "colab": {
          "base_uri": "https://localhost:8080/"
        },
        "id": "cVA8ueowAYKO",
        "outputId": "da9f633b-85a9-4319-d9a3-4da0b790b3ed"
      },
      "execution_count": 53,
      "outputs": [
        {
          "output_type": "stream",
          "name": "stdout",
          "text": [
            "           Day  Cases_Guinea  Cases_Liberia\n",
            "Date                                       \n",
            "4/4/2014    13         143.0           18.0\n",
            "4/1/2014    10         127.0            8.0\n",
            "3/31/2014    9         122.0            8.0\n",
            "3/29/2014    7         112.0            7.0\n",
            "3/28/2014    6         112.0            3.0\n",
            "3/27/2014    5         103.0            8.0\n",
            "3/26/2014    4          86.0            NaN\n",
            "3/25/2014    3          86.0            NaN\n",
            "3/24/2014    2          86.0            NaN\n",
            "3/22/2014    0          49.0            NaN\n"
          ]
        }
      ]
    },
    {
      "cell_type": "code",
      "source": [
        "ebola = pd.read_csv(\"country_timeseries.csv\", parse_dates=['Date'])\n",
        "print(ebola.head().iloc[:, :5])\n",
        "print(ebola.tail().iloc[:, :5])"
      ],
      "metadata": {
        "colab": {
          "base_uri": "https://localhost:8080/"
        },
        "id": "HnIeTdDAAzwb",
        "outputId": "04664183-aef4-4f5c-a03d-eb53785f1329"
      },
      "execution_count": 68,
      "outputs": [
        {
          "output_type": "stream",
          "name": "stdout",
          "text": [
            "        Date  Day  Cases_Guinea  Cases_Liberia  Cases_SierraLeone\n",
            "0 2015-01-05  289        2776.0            NaN            10030.0\n",
            "1 2015-01-04  288        2775.0            NaN             9780.0\n",
            "2 2015-01-03  287        2769.0         8166.0             9722.0\n",
            "3 2015-01-02  286           NaN         8157.0                NaN\n",
            "4 2014-12-31  284        2730.0         8115.0             9633.0\n",
            "          Date  Day  Cases_Guinea  Cases_Liberia  Cases_SierraLeone\n",
            "117 2014-03-27    5         103.0            8.0                6.0\n",
            "118 2014-03-26    4          86.0            NaN                NaN\n",
            "119 2014-03-25    3          86.0            NaN                NaN\n",
            "120 2014-03-24    2          86.0            NaN                NaN\n",
            "121 2014-03-22    0          49.0            NaN                NaN\n"
          ]
        }
      ]
    },
    {
      "cell_type": "code",
      "source": [
        "# 시간 범위 생성\n",
        "ebola.index = ebola['Date']\n",
        "new_idx = pd.date_range(ebola.index.min(), ebola.index.max())"
      ],
      "metadata": {
        "id": "sGf5FsSOA4Fc"
      },
      "execution_count": 69,
      "outputs": []
    },
    {
      "cell_type": "code",
      "source": [
        "# 인덱스 뒤집기\n",
        "print(new_idx)\n",
        "new_idx = reversed(new_idx)"
      ],
      "metadata": {
        "colab": {
          "base_uri": "https://localhost:8080/"
        },
        "id": "U0Za_WGAA9Ua",
        "outputId": "ef516f0f-fe27-4f93-f317-400ca226885e"
      },
      "execution_count": 70,
      "outputs": [
        {
          "output_type": "stream",
          "name": "stdout",
          "text": [
            "DatetimeIndex(['2014-03-22', '2014-03-23', '2014-03-24', '2014-03-25',\n",
            "               '2014-03-26', '2014-03-27', '2014-03-28', '2014-03-29',\n",
            "               '2014-03-30', '2014-03-31',\n",
            "               ...\n",
            "               '2014-12-27', '2014-12-28', '2014-12-29', '2014-12-30',\n",
            "               '2014-12-31', '2015-01-01', '2015-01-02', '2015-01-03',\n",
            "               '2015-01-04', '2015-01-05'],\n",
            "              dtype='datetime64[ns]', length=290, freq='D')\n"
          ]
        }
      ]
    },
    {
      "cell_type": "code",
      "source": [
        "ebola = ebola.reindex(new_idx)\n",
        "print(ebola.head().iloc[:, :5])\n",
        "print(ebola.tail().iloc[:, :5])"
      ],
      "metadata": {
        "colab": {
          "base_uri": "https://localhost:8080/"
        },
        "id": "GUKPCsgLBDKo",
        "outputId": "0c738e76-f531-4d2d-d117-69fbfc18af74"
      },
      "execution_count": 71,
      "outputs": [
        {
          "output_type": "stream",
          "name": "stdout",
          "text": [
            "                 Date    Day  Cases_Guinea  Cases_Liberia  Cases_SierraLeone\n",
            "Date                                                                        \n",
            "2015-01-05 2015-01-05  289.0        2776.0            NaN            10030.0\n",
            "2015-01-04 2015-01-04  288.0        2775.0            NaN             9780.0\n",
            "2015-01-03 2015-01-03  287.0        2769.0         8166.0             9722.0\n",
            "2015-01-02 2015-01-02  286.0           NaN         8157.0                NaN\n",
            "2015-01-01        NaT    NaN           NaN            NaN                NaN\n",
            "                 Date  Day  Cases_Guinea  Cases_Liberia  Cases_SierraLeone\n",
            "Date                                                                      \n",
            "2014-03-26 2014-03-26  4.0          86.0            NaN                NaN\n",
            "2014-03-25 2014-03-25  3.0          86.0            NaN                NaN\n",
            "2014-03-24 2014-03-24  2.0          86.0            NaN                NaN\n",
            "2014-03-23        NaT  NaN           NaN            NaN                NaN\n",
            "2014-03-22 2014-03-22  0.0          49.0            NaN                NaN\n"
          ]
        }
      ]
    },
    {
      "cell_type": "markdown",
      "source": [
        "각 나라의 에볼라 발병일 옮기기"
      ],
      "metadata": {
        "id": "zPent-vXCbpM"
      }
    },
    {
      "cell_type": "code",
      "source": [
        "last_valid = ebola.apply(pd.Series.last_valid_index)\n",
        "print(last_valid)"
      ],
      "metadata": {
        "colab": {
          "base_uri": "https://localhost:8080/"
        },
        "id": "Hw90AWjpCQ7w",
        "outputId": "3590a3fd-fa1a-43d6-e938-4575e2098952"
      },
      "execution_count": 72,
      "outputs": [
        {
          "output_type": "stream",
          "name": "stdout",
          "text": [
            "Date                  2014-03-22\n",
            "Day                   2014-03-22\n",
            "Cases_Guinea          2014-03-22\n",
            "Cases_Liberia         2014-03-27\n",
            "Cases_SierraLeone     2014-03-27\n",
            "Cases_Nigeria         2014-07-23\n",
            "Cases_Senegal         2014-08-31\n",
            "Cases_UnitedStates    2014-10-01\n",
            "Cases_Spain           2014-10-08\n",
            "Cases_Mali            2014-10-22\n",
            "Deaths_Guinea         2014-03-22\n",
            "Deaths_Liberia        2014-03-27\n",
            "Deaths_SierraLeone    2014-03-27\n",
            "Deaths_Nigeria        2014-07-23\n",
            "Deaths_Senegal        2014-09-07\n",
            "Deaths_UnitedStates   2014-10-01\n",
            "Deaths_Spain          2014-10-08\n",
            "Deaths_Mali           2014-10-22\n",
            "dtype: datetime64[ns]\n"
          ]
        }
      ]
    },
    {
      "cell_type": "code",
      "source": [
        "first_valid = ebola.apply(pd.Series.first_valid_index)\n",
        "print(first_valid)"
      ],
      "metadata": {
        "colab": {
          "base_uri": "https://localhost:8080/"
        },
        "id": "juei5xhPCmWu",
        "outputId": "dff9e187-5c7a-468a-cc23-48eb6df9b680"
      },
      "execution_count": 73,
      "outputs": [
        {
          "output_type": "stream",
          "name": "stdout",
          "text": [
            "Date                  2015-01-05\n",
            "Day                   2015-01-05\n",
            "Cases_Guinea          2015-01-05\n",
            "Cases_Liberia         2015-01-03\n",
            "Cases_SierraLeone     2015-01-05\n",
            "Cases_Nigeria         2014-12-07\n",
            "Cases_Senegal         2014-12-07\n",
            "Cases_UnitedStates    2014-12-07\n",
            "Cases_Spain           2014-12-07\n",
            "Cases_Mali            2014-12-07\n",
            "Deaths_Guinea         2015-01-05\n",
            "Deaths_Liberia        2015-01-03\n",
            "Deaths_SierraLeone    2015-01-05\n",
            "Deaths_Nigeria        2014-12-07\n",
            "Deaths_Senegal        2014-12-07\n",
            "Deaths_UnitedStates   2014-12-07\n",
            "Deaths_Spain          2014-12-07\n",
            "Deaths_Mali           2014-12-07\n",
            "dtype: datetime64[ns]\n"
          ]
        }
      ]
    },
    {
      "cell_type": "code",
      "source": [
        "earliest_date = ebola.index.min()\n",
        "print(earliest_date)"
      ],
      "metadata": {
        "colab": {
          "base_uri": "https://localhost:8080/"
        },
        "id": "UMkNzMHhCsGr",
        "outputId": "71a42df6-cd4b-454c-abd0-ccc497813048"
      },
      "execution_count": 74,
      "outputs": [
        {
          "output_type": "stream",
          "name": "stdout",
          "text": [
            "2014-03-22 00:00:00\n"
          ]
        }
      ]
    },
    {
      "cell_type": "code",
      "source": [
        "shift_values = last_valid - earliest_date\n",
        "print(shift_values)"
      ],
      "metadata": {
        "colab": {
          "base_uri": "https://localhost:8080/"
        },
        "id": "hEu4rAWwCwP6",
        "outputId": "5cb807e6-8481-4bd2-ca27-62e60b9aa27d"
      },
      "execution_count": 75,
      "outputs": [
        {
          "output_type": "stream",
          "name": "stdout",
          "text": [
            "Date                    0 days\n",
            "Day                     0 days\n",
            "Cases_Guinea            0 days\n",
            "Cases_Liberia           5 days\n",
            "Cases_SierraLeone       5 days\n",
            "Cases_Nigeria         123 days\n",
            "Cases_Senegal         162 days\n",
            "Cases_UnitedStates    193 days\n",
            "Cases_Spain           200 days\n",
            "Cases_Mali            214 days\n",
            "Deaths_Guinea           0 days\n",
            "Deaths_Liberia          5 days\n",
            "Deaths_SierraLeone      5 days\n",
            "Deaths_Nigeria        123 days\n",
            "Deaths_Senegal        169 days\n",
            "Deaths_UnitedStates   193 days\n",
            "Deaths_Spain          200 days\n",
            "Deaths_Mali           214 days\n",
            "dtype: timedelta64[ns]\n"
          ]
        }
      ]
    },
    {
      "cell_type": "code",
      "source": [
        "ebola_dict = {}\n",
        "for idx, col in enumerate(ebola):\n",
        "  d = shift_values[idx].days\n",
        "  shifted = ebola[col].shift(d)\n",
        "  ebola_dict[col] = shifted"
      ],
      "metadata": {
        "id": "J0NrAisQC21m"
      },
      "execution_count": 76,
      "outputs": []
    },
    {
      "cell_type": "code",
      "source": [
        "ebola_shift = pd.DataFrame(ebola_dict)"
      ],
      "metadata": {
        "id": "FUl0n4fsDDmd"
      },
      "execution_count": 77,
      "outputs": []
    },
    {
      "cell_type": "code",
      "source": [
        "print(ebola_shift.tail())"
      ],
      "metadata": {
        "colab": {
          "base_uri": "https://localhost:8080/"
        },
        "id": "p3KrqvDXDHSA",
        "outputId": "6138ee78-26ab-4d3c-caae-31f3c267c526"
      },
      "execution_count": 78,
      "outputs": [
        {
          "output_type": "stream",
          "name": "stdout",
          "text": [
            "                 Date  Day  Cases_Guinea  Cases_Liberia  Cases_SierraLeone  \\\n",
            "Date                                                                         \n",
            "2014-03-26 2014-03-26  4.0          86.0            8.0                2.0   \n",
            "2014-03-25 2014-03-25  3.0          86.0            NaN                NaN   \n",
            "2014-03-24 2014-03-24  2.0          86.0            7.0                NaN   \n",
            "2014-03-23        NaT  NaN           NaN            3.0                2.0   \n",
            "2014-03-22 2014-03-22  0.0          49.0            8.0                6.0   \n",
            "\n",
            "            Cases_Nigeria  Cases_Senegal  Cases_UnitedStates  Cases_Spain  \\\n",
            "Date                                                                        \n",
            "2014-03-26            1.0            NaN                 1.0          1.0   \n",
            "2014-03-25            NaN            NaN                 NaN          NaN   \n",
            "2014-03-24            NaN            NaN                 NaN          NaN   \n",
            "2014-03-23            NaN            NaN                 NaN          NaN   \n",
            "2014-03-22            0.0            1.0                 1.0          1.0   \n",
            "\n",
            "            Cases_Mali  Deaths_Guinea  Deaths_Liberia  Deaths_SierraLeone  \\\n",
            "Date                                                                        \n",
            "2014-03-26         NaN           62.0             4.0                 2.0   \n",
            "2014-03-25         NaN           60.0             NaN                 NaN   \n",
            "2014-03-24         NaN           59.0             2.0                 NaN   \n",
            "2014-03-23         NaN            NaN             3.0                 2.0   \n",
            "2014-03-22         1.0           29.0             6.0                 5.0   \n",
            "\n",
            "            Deaths_Nigeria  Deaths_Senegal  Deaths_UnitedStates  Deaths_Spain  \\\n",
            "Date                                                                            \n",
            "2014-03-26             1.0             NaN                  0.0           1.0   \n",
            "2014-03-25             NaN             NaN                  NaN           NaN   \n",
            "2014-03-24             NaN             NaN                  NaN           NaN   \n",
            "2014-03-23             NaN             NaN                  NaN           NaN   \n",
            "2014-03-22             0.0             0.0                  0.0           1.0   \n",
            "\n",
            "            Deaths_Mali  \n",
            "Date                     \n",
            "2014-03-26          NaN  \n",
            "2014-03-25          NaN  \n",
            "2014-03-24          NaN  \n",
            "2014-03-23          NaN  \n",
            "2014-03-22          1.0  \n"
          ]
        }
      ]
    },
    {
      "cell_type": "code",
      "source": [
        "ebola_shift.index = ebola_shift['Day']\n",
        "ebola_shift = ebola_shift.drop(['Date','Day'], axis = 1)"
      ],
      "metadata": {
        "id": "gYkppI5mDLby"
      },
      "execution_count": 80,
      "outputs": []
    },
    {
      "cell_type": "code",
      "source": [
        "fig, ax = plt.subplots()\n",
        "ax = ebola_shift.iloc[:, :].plot(ax=ax)\n",
        "ax.legend(fontsize=7, loc=2, borderaxespad=0.)\n",
        "plt.show()"
      ],
      "metadata": {
        "colab": {
          "base_uri": "https://localhost:8080/",
          "height": 279
        },
        "id": "8B36wQGoDVrH",
        "outputId": "89f5ab3a-8088-43b7-a1a6-e0a6f0a711f2"
      },
      "execution_count": 81,
      "outputs": [
        {
          "output_type": "display_data",
          "data": {
            "text/plain": [
              "<Figure size 432x288 with 1 Axes>"
            ],
            "image/png": "[encoded data removed]"
          },
          "metadata": {
            "needs_background": "light"
          }
        }
      ]
    }
  ]
}