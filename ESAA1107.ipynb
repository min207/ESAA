{
  "nbformat": 4,
  "nbformat_minor": 0,
  "metadata": {
    "colab": {
      "provenance": [],
      "collapsed_sections": [],
      "authorship_tag": "ABX9TyMsryss1adNLqQwEHHaByMV",
      "include_colab_link": true
    },
    "kernelspec": {
      "name": "python3",
      "display_name": "Python 3"
    },
    "language_info": {
      "name": "python"
    }
  },
  "cells": [
    {
      "cell_type": "markdown",
      "metadata": {
        "id": "view-in-github",
        "colab_type": "text"
      },
      "source": [
        "<a href=\"https://colab.research.google.com/github/min207/ESAA/blob/main/ESAA1107.ipynb\" target=\"_parent\"><img src=\"https://colab.research.google.com/assets/colab-badge.svg\" alt=\"Open In Colab\"/></a>"
      ]
    },
    {
      "cell_type": "markdown",
      "source": [
        "# **4. 분류**\n",
        "### **01. 분류(Classification)의 개요**\n",
        "\n",
        "- 지도학습: 레이블, 즉 명시적인 정답이 있는 데이터가 주어진 상태에서 학습하는 머신러닝 방식\n",
        "  + 분류: 학습 데이터로 주어진 데이터의 피처와 레이블 값을 머신러닝 알고리즘으로 학습, 모델 생성, 미지의 레이블 값 예측\n",
        "    - 나이브 베이즈\n",
        "    - 로지스틱 회귀\n",
        "    - 결정 트리\n",
        "    - 서포트 벡터 머신\n",
        "    - 최소 근접 알고리즘\n",
        "    - 신경망\n",
        "    - 앙상블\n",
        "\n",
        "- 앙상블 방법: 다르거나 같은 머신러닝 알고리즘을 결합\n",
        "  + 배깅 방식\n",
        "    - 랜덤 포레스트: 뛰어난 예측 성능, 빠른 수행 시간, 유연성\n",
        "  + 부스팅 방식\n",
        "    - 그래디언트 부스팅: 뛰어난 예측 성능, 느린 수행 시간\n",
        "    - XgBoodst, LightGBM 등 단점을 보완한 알고리즘으로 정형 데이터 분류 영역에서 가장 활용도가 높은 알고리즘이 되었음\n",
        "  + 스태킹 기법: 앙상블의 앙상블\n",
        "  + 결정 트리: 앙상블의 기본 알고리즘으로 주로 사용됨\n",
        "    - 쉽고 유연성이 높음, 사전 가공의 영향이 적음\n",
        "    - 복잡한 규칙 구조, 과적합으로 인한 성능 저하\n",
        "    - 위의 단점이 앙상블 기법에서는 예측 성능을 향상시키는 장점으로 적용됨\n",
        "\n",
        "### **02. 결정 트리**\n",
        "결정 트리: 데이터에 있는 규칙을 학습을 통해 자동으로 찾아내 트리 기반의 분류 규칙을 만드는 것\n",
        "  - 규칙 노드: 규칙 조건\n",
        "  - 리프 노드: 결정된 클래스 값\n",
        "  - 서브 트리: 새로운 규칙 조건마다 생성\n",
        "> 규칙 노드가 많으면 복잡해지고, 과적합으로 이어질 수 있음. 즉 트리의 깊이가 깊어질수록 결정 트리의 예측 성능이 저하될 가능성이 높음\n",
        "  - 따라서 최대한 균일한 데이터 세트를 구성할 수 있더록 트리를 분할하는 것이 필요\n",
        "\n",
        "    > + 균일한 데이터 세트: 균일도가 높을 수록 데이터를 구분하는 데 필요한 정보의 양이 적어짐\n",
        "    + 결정 노드는 정보 균일도가 높은 데이터 세트를 먼저 선택할 수 있도록 규칙 조건을 만듦\n",
        "\n",
        "- 정보의 균일도 측정 방법\n",
        "  + 정보 이득 지수: 엔트로피 기반, 1- 엔트로피 지수\n",
        "  + 지니 계수: 경제학에서 불평등 지수를 나타낼 때 사용, 사이킷런의 DecisionTreeClassifier에서 사용됨\n",
        "\n",
        "- 결정 트리 모델의 특징\n",
        "  + 정보의 균일도를 기반으로 하고 있어서 알고리즘이 쉽고 직관적\n",
        "  + 규칙/리프 노드의 생성을 확인할 수 있고, 시각화 가능\n",
        "  + 스케일링과 정규화 같은 전처리 작업 필요x\n",
        "  > + 반면, 과적합으로 정확도가 떨어진다는 단점\n",
        "    + 이런 단점을 해결하기 위해 사전에 트리의 크기를 제한\n",
        "\n",
        "- 결정 트리 파라미터\n",
        "분류를 위한 DecisionTreeClassifier, 회귀를 위한 DecisionTreeRegressor 클래스, CART 알고리즘 기반\n",
        "  + min_samples_split: 노드를 분할하기 위한 최소한의 샘플 데이터 수(디폴트-2)\n",
        "  + min_samples_leaf: 말단 노드가 되기 위한 최소한의 샘플 데이터 수\n",
        "  + max_features: 최적의 분할을 위해 고려할 최대 피처 개수(디폴트-None)\n",
        "  + max_depth: 트리의 최대 깊이(디폴트-None)\n",
        "  + max_leaf_nodes: 말단 노드의 최대 개수\n",
        "\n",
        "- 결정 트리 모델의 시각화: Graphviz 패키지 사용\n",
        "  + Graphviz: 그래프 기반의 dot 파일로 기술된 다양한 이미지를 쉽게 시각화할 수 있는 패키지 \n",
        "    - 파이썬에서는 export_graphvix() API 제공\n",
        "    > 함수 인자로 학습이 완료된 Estimator, 피처/레이블의 이름 리스트를 입력하면 학습된 결정 트리 규칙을 실제 트리 형태로 시각화후 출력\n"
      ],
      "metadata": {
        "id": "k-1BXC0gufPu"
      }
    },
    {
      "cell_type": "code",
      "execution_count": 6,
      "metadata": {
        "id": "HHtXLVmTuSkZ"
      },
      "outputs": [],
      "source": [
        "from sklearn.tree import DecisionTreeClassifier\n",
        "from sklearn.datasets import load_iris\n",
        "from sklearn.model_selection import train_test_split\n",
        "import warnings\n",
        "warnings.filterwarnings('ignore')"
      ]
    },
    {
      "cell_type": "code",
      "source": [
        "# DecisionTree Classifier 생성\n",
        "dt_clf = DecisionTreeClassifier(random_state = 156)\n",
        "\n",
        "# 붓꽃 데이터 로딩 및 학습/테스트 데이터 세트로 분리하기\n",
        "iris_data = load_iris()\n",
        "X_train,X_test,y_train,y_test = train_test_split(iris_data.data, iris_data.target,\n",
        "                                                 test_size=0.2,random_state=11)\n",
        "\n",
        "# DecisionTreeClassifier 학습\n",
        "dt_clf.fit(X_train,y_train)"
      ],
      "metadata": {
        "colab": {
          "base_uri": "https://localhost:8080/"
        },
        "id": "nOVOtnHcGZcO",
        "outputId": "0a42e062-c446-4c5f-c48c-745967f3591a"
      },
      "execution_count": 7,
      "outputs": [
        {
          "output_type": "execute_result",
          "data": {
            "text/plain": [
              "DecisionTreeClassifier(random_state=156)"
            ]
          },
          "metadata": {},
          "execution_count": 7
        }
      ]
    },
    {
      "cell_type": "code",
      "source": [
        "# 그래프 형태로 시각화하기\n",
        "from sklearn.tree import export_graphviz\n",
        "\n",
        "## export_graphviz() 호출 결과로 out_file로 지정된 tree.dot 파일을 생성하기\n",
        "export_graphviz(dt_clf, out_file = 'tree.dot', class_names=iris_data.target_names,\n",
        "                feature_names = iris_data.feature_names, impurity=True, filled=True)"
      ],
      "metadata": {
        "id": "lNZOQOMbGdsa"
      },
      "execution_count": null,
      "outputs": []
    },
    {
      "cell_type": "code",
      "source": [
        "import graphviz\n",
        "# 위에서 생성된 tree.dot 파일을 Graphviz가 읽어서 주피터 노트북상에서 시각화\n",
        "with open('tree.dot') as f:\n",
        "  dot_graph = f.read()\n",
        "graphviz.Source(dot_graph)"
      ],
      "metadata": {
        "colab": {
          "base_uri": "https://localhost:8080/",
          "height": 935
        },
        "id": "EHemEARxGgGZ",
        "outputId": "819ce052-b635-4bda-d729-8bff514f0bcc"
      },
      "execution_count": null,
      "outputs": [
        {
          "output_type": "execute_result",
          "data": {
            "text/plain": [
              "<graphviz.files.Source at 0x7f827da3d690>"
            ],
            "image/svg+xml": "<?xml version=\"1.0\" encoding=\"UTF-8\" standalone=\"no\"?>\n<!DOCTYPE svg PUBLIC \"-//W3C//DTD SVG 1.1//EN\"\n \"http://www.w3.org/Graphics/SVG/1.1/DTD/svg11.dtd\">\n<!-- Generated by graphviz version 2.40.1 (20161225.0304)\n -->\n<!-- Title: Tree Pages: 1 -->\n<svg width=\"821pt\" height=\"671pt\"\n viewBox=\"0.00 0.00 820.50 671.00\" xmlns=\"http://www.w3.org/2000/svg\" xmlns:xlink=\"http://www.w3.org/1999/xlink\">\n<g id=\"graph0\" class=\"graph\" transform=\"scale(1 1) rotate(0) translate(4 667)\">\n<title>Tree</title>\n<polygon fill=\"#ffffff\" stroke=\"transparent\" points=\"-4,4 -4,-667 816.5,-667 816.5,4 -4,4\"/>\n<!-- 0 -->\n<g id=\"node1\" class=\"node\">\n<title>0</title>\n<polygon fill=\"#fffdfd\" stroke=\"#000000\" points=\"300,-663 124,-663 124,-580 300,-580 300,-663\"/>\n<text text-anchor=\"middle\" x=\"212\" y=\"-647.8\" font-family=\"Helvetica,sans-Serif\" font-size=\"14.00\" fill=\"#000000\">petal length (cm) &lt;= 2.45</text>\n<text text-anchor=\"middle\" x=\"212\" y=\"-632.8\" font-family=\"Helvetica,sans-Serif\" font-size=\"14.00\" fill=\"#000000\">gini = 0.667</text>\n<text text-anchor=\"middle\" x=\"212\" y=\"-617.8\" font-family=\"Helvetica,sans-Serif\" font-size=\"14.00\" fill=\"#000000\">samples = 120</text>\n<text text-anchor=\"middle\" x=\"212\" y=\"-602.8\" font-family=\"Helvetica,sans-Serif\" font-size=\"14.00\" fill=\"#000000\">value = [41, 40, 39]</text>\n<text text-anchor=\"middle\" x=\"212\" y=\"-587.8\" font-family=\"Helvetica,sans-Serif\" font-size=\"14.00\" fill=\"#000000\">class = setosa</text>\n</g>\n<!-- 1 -->\n<g id=\"node2\" class=\"node\">\n<title>1</title>\n<polygon fill=\"#e58139\" stroke=\"#000000\" points=\"191.5,-536.5 68.5,-536.5 68.5,-468.5 191.5,-468.5 191.5,-536.5\"/>\n<text text-anchor=\"middle\" x=\"130\" y=\"-521.3\" font-family=\"Helvetica,sans-Serif\" font-size=\"14.00\" fill=\"#000000\">gini = 0.0</text>\n<text text-anchor=\"middle\" x=\"130\" y=\"-506.3\" font-family=\"Helvetica,sans-Serif\" font-size=\"14.00\" fill=\"#000000\">samples = 41</text>\n<text text-anchor=\"middle\" x=\"130\" y=\"-491.3\" font-family=\"Helvetica,sans-Serif\" font-size=\"14.00\" fill=\"#000000\">value = [41, 0, 0]</text>\n<text text-anchor=\"middle\" x=\"130\" y=\"-476.3\" font-family=\"Helvetica,sans-Serif\" font-size=\"14.00\" fill=\"#000000\">class = setosa</text>\n</g>\n<!-- 0&#45;&gt;1 -->\n<g id=\"edge1\" class=\"edge\">\n<title>0&#45;&gt;1</title>\n<path fill=\"none\" stroke=\"#000000\" d=\"M183.3204,-579.8796C175.5917,-568.6636 167.2191,-556.5131 159.4492,-545.2372\"/>\n<polygon fill=\"#000000\" stroke=\"#000000\" points=\"162.2018,-543.0634 153.6456,-536.8149 156.4377,-547.0353 162.2018,-543.0634\"/>\n<text text-anchor=\"middle\" x=\"149.1196\" y=\"-557.7018\" font-family=\"Helvetica,sans-Serif\" font-size=\"14.00\" fill=\"#000000\">True</text>\n</g>\n<!-- 2 -->\n<g id=\"node3\" class=\"node\">\n<title>2</title>\n<polygon fill=\"#fafefc\" stroke=\"#000000\" points=\"380,-544 210,-544 210,-461 380,-461 380,-544\"/>\n<text text-anchor=\"middle\" x=\"295\" y=\"-528.8\" font-family=\"Helvetica,sans-Serif\" font-size=\"14.00\" fill=\"#000000\">petal width (cm) &lt;= 1.55</text>\n<text text-anchor=\"middle\" x=\"295\" y=\"-513.8\" font-family=\"Helvetica,sans-Serif\" font-size=\"14.00\" fill=\"#000000\">gini = 0.5</text>\n<text text-anchor=\"middle\" x=\"295\" y=\"-498.8\" font-family=\"Helvetica,sans-Serif\" font-size=\"14.00\" fill=\"#000000\">samples = 79</text>\n<text text-anchor=\"middle\" x=\"295\" y=\"-483.8\" font-family=\"Helvetica,sans-Serif\" font-size=\"14.00\" fill=\"#000000\">value = [0, 40, 39]</text>\n<text text-anchor=\"middle\" x=\"295\" y=\"-468.8\" font-family=\"Helvetica,sans-Serif\" font-size=\"14.00\" fill=\"#000000\">class = versicolor</text>\n</g>\n<!-- 0&#45;&gt;2 -->\n<g id=\"edge2\" class=\"edge\">\n<title>0&#45;&gt;2</title>\n<path fill=\"none\" stroke=\"#000000\" d=\"M241.0294,-579.8796C247.1855,-571.0534 253.7451,-561.6485 260.0936,-552.5466\"/>\n<polygon fill=\"#000000\" stroke=\"#000000\" points=\"262.9967,-554.5024 265.8467,-544.2981 257.2552,-550.4978 262.9967,-554.5024\"/>\n<text text-anchor=\"middle\" x=\"270.2331\" y=\"-565.2103\" font-family=\"Helvetica,sans-Serif\" font-size=\"14.00\" fill=\"#000000\">False</text>\n</g>\n<!-- 3 -->\n<g id=\"node4\" class=\"node\">\n<title>3</title>\n<polygon fill=\"#3ee684\" stroke=\"#000000\" points=\"288,-425 112,-425 112,-342 288,-342 288,-425\"/>\n<text text-anchor=\"middle\" x=\"200\" y=\"-409.8\" font-family=\"Helvetica,sans-Serif\" font-size=\"14.00\" fill=\"#000000\">petal length (cm) &lt;= 5.25</text>\n<text text-anchor=\"middle\" x=\"200\" y=\"-394.8\" font-family=\"Helvetica,sans-Serif\" font-size=\"14.00\" fill=\"#000000\">gini = 0.051</text>\n<text text-anchor=\"middle\" x=\"200\" y=\"-379.8\" font-family=\"Helvetica,sans-Serif\" font-size=\"14.00\" fill=\"#000000\">samples = 38</text>\n<text text-anchor=\"middle\" x=\"200\" y=\"-364.8\" font-family=\"Helvetica,sans-Serif\" font-size=\"14.00\" fill=\"#000000\">value = [0, 37, 1]</text>\n<text text-anchor=\"middle\" x=\"200\" y=\"-349.8\" font-family=\"Helvetica,sans-Serif\" font-size=\"14.00\" fill=\"#000000\">class = versicolor</text>\n</g>\n<!-- 2&#45;&gt;3 -->\n<g id=\"edge3\" class=\"edge\">\n<title>2&#45;&gt;3</title>\n<path fill=\"none\" stroke=\"#000000\" d=\"M261.7736,-460.8796C254.6556,-451.9633 247.0661,-442.4565 239.7308,-433.268\"/>\n<polygon fill=\"#000000\" stroke=\"#000000\" points=\"242.3425,-430.9295 233.3682,-425.2981 236.8719,-435.2968 242.3425,-430.9295\"/>\n</g>\n<!-- 6 -->\n<g id=\"node7\" class=\"node\">\n<title>6</title>\n<polygon fill=\"#8b49e7\" stroke=\"#000000\" points=\"476,-425 306,-425 306,-342 476,-342 476,-425\"/>\n<text text-anchor=\"middle\" x=\"391\" y=\"-409.8\" font-family=\"Helvetica,sans-Serif\" font-size=\"14.00\" fill=\"#000000\">petal width (cm) &lt;= 1.75</text>\n<text text-anchor=\"middle\" x=\"391\" y=\"-394.8\" font-family=\"Helvetica,sans-Serif\" font-size=\"14.00\" fill=\"#000000\">gini = 0.136</text>\n<text text-anchor=\"middle\" x=\"391\" y=\"-379.8\" font-family=\"Helvetica,sans-Serif\" font-size=\"14.00\" fill=\"#000000\">samples = 41</text>\n<text text-anchor=\"middle\" x=\"391\" y=\"-364.8\" font-family=\"Helvetica,sans-Serif\" font-size=\"14.00\" fill=\"#000000\">value = [0, 3, 38]</text>\n<text text-anchor=\"middle\" x=\"391\" y=\"-349.8\" font-family=\"Helvetica,sans-Serif\" font-size=\"14.00\" fill=\"#000000\">class = virginica</text>\n</g>\n<!-- 2&#45;&gt;6 -->\n<g id=\"edge6\" class=\"edge\">\n<title>2&#45;&gt;6</title>\n<path fill=\"none\" stroke=\"#000000\" d=\"M328.5761,-460.8796C335.7691,-451.9633 343.4384,-442.4565 350.851,-433.268\"/>\n<polygon fill=\"#000000\" stroke=\"#000000\" points=\"353.7258,-435.2788 357.2805,-425.2981 348.2776,-430.8836 353.7258,-435.2788\"/>\n</g>\n<!-- 4 -->\n<g id=\"node5\" class=\"node\">\n<title>4</title>\n<polygon fill=\"#39e581\" stroke=\"#000000\" points=\"128,-298.5 0,-298.5 0,-230.5 128,-230.5 128,-298.5\"/>\n<text text-anchor=\"middle\" x=\"64\" y=\"-283.3\" font-family=\"Helvetica,sans-Serif\" font-size=\"14.00\" fill=\"#000000\">gini = 0.0</text>\n<text text-anchor=\"middle\" x=\"64\" y=\"-268.3\" font-family=\"Helvetica,sans-Serif\" font-size=\"14.00\" fill=\"#000000\">samples = 37</text>\n<text text-anchor=\"middle\" x=\"64\" y=\"-253.3\" font-family=\"Helvetica,sans-Serif\" font-size=\"14.00\" fill=\"#000000\">value = [0, 37, 0]</text>\n<text text-anchor=\"middle\" x=\"64\" y=\"-238.3\" font-family=\"Helvetica,sans-Serif\" font-size=\"14.00\" fill=\"#000000\">class = versicolor</text>\n</g>\n<!-- 3&#45;&gt;4 -->\n<g id=\"edge4\" class=\"edge\">\n<title>3&#45;&gt;4</title>\n<path fill=\"none\" stroke=\"#000000\" d=\"M152.4338,-341.8796C138.9872,-330.1138 124.3653,-317.3197 110.9549,-305.5855\"/>\n<polygon fill=\"#000000\" stroke=\"#000000\" points=\"113.0476,-302.766 103.2171,-298.8149 108.4381,-308.034 113.0476,-302.766\"/>\n</g>\n<!-- 5 -->\n<g id=\"node6\" class=\"node\">\n<title>5</title>\n<polygon fill=\"#8139e5\" stroke=\"#000000\" points=\"265.5,-298.5 146.5,-298.5 146.5,-230.5 265.5,-230.5 265.5,-298.5\"/>\n<text text-anchor=\"middle\" x=\"206\" y=\"-283.3\" font-family=\"Helvetica,sans-Serif\" font-size=\"14.00\" fill=\"#000000\">gini = 0.0</text>\n<text text-anchor=\"middle\" x=\"206\" y=\"-268.3\" font-family=\"Helvetica,sans-Serif\" font-size=\"14.00\" fill=\"#000000\">samples = 1</text>\n<text text-anchor=\"middle\" x=\"206\" y=\"-253.3\" font-family=\"Helvetica,sans-Serif\" font-size=\"14.00\" fill=\"#000000\">value = [0, 0, 1]</text>\n<text text-anchor=\"middle\" x=\"206\" y=\"-238.3\" font-family=\"Helvetica,sans-Serif\" font-size=\"14.00\" fill=\"#000000\">class = virginica</text>\n</g>\n<!-- 3&#45;&gt;5 -->\n<g id=\"edge5\" class=\"edge\">\n<title>3&#45;&gt;5</title>\n<path fill=\"none\" stroke=\"#000000\" d=\"M202.0985,-341.8796C202.6363,-331.2134 203.2167,-319.7021 203.7613,-308.9015\"/>\n<polygon fill=\"#000000\" stroke=\"#000000\" points=\"207.2617,-308.9785 204.2698,-298.8149 200.2706,-308.626 207.2617,-308.9785\"/>\n</g>\n<!-- 7 -->\n<g id=\"node8\" class=\"node\">\n<title>7</title>\n<polygon fill=\"#ffffff\" stroke=\"#000000\" points=\"475,-306 295,-306 295,-223 475,-223 475,-306\"/>\n<text text-anchor=\"middle\" x=\"385\" y=\"-290.8\" font-family=\"Helvetica,sans-Serif\" font-size=\"14.00\" fill=\"#000000\">sepal length (cm) &lt;= 5.45</text>\n<text text-anchor=\"middle\" x=\"385\" y=\"-275.8\" font-family=\"Helvetica,sans-Serif\" font-size=\"14.00\" fill=\"#000000\">gini = 0.5</text>\n<text text-anchor=\"middle\" x=\"385\" y=\"-260.8\" font-family=\"Helvetica,sans-Serif\" font-size=\"14.00\" fill=\"#000000\">samples = 4</text>\n<text text-anchor=\"middle\" x=\"385\" y=\"-245.8\" font-family=\"Helvetica,sans-Serif\" font-size=\"14.00\" fill=\"#000000\">value = [0, 2, 2]</text>\n<text text-anchor=\"middle\" x=\"385\" y=\"-230.8\" font-family=\"Helvetica,sans-Serif\" font-size=\"14.00\" fill=\"#000000\">class = versicolor</text>\n</g>\n<!-- 6&#45;&gt;7 -->\n<g id=\"edge7\" class=\"edge\">\n<title>6&#45;&gt;7</title>\n<path fill=\"none\" stroke=\"#000000\" d=\"M388.9015,-341.8796C388.4883,-333.6838 388.0499,-324.9891 387.6219,-316.5013\"/>\n<polygon fill=\"#000000\" stroke=\"#000000\" points=\"391.1067,-316.1091 387.1075,-306.2981 384.1156,-316.4617 391.1067,-316.1091\"/>\n</g>\n<!-- 12 -->\n<g id=\"node13\" class=\"node\">\n<title>12</title>\n<polygon fill=\"#843ee6\" stroke=\"#000000\" points=\"669,-306 493,-306 493,-223 669,-223 669,-306\"/>\n<text text-anchor=\"middle\" x=\"581\" y=\"-290.8\" font-family=\"Helvetica,sans-Serif\" font-size=\"14.00\" fill=\"#000000\">petal length (cm) &lt;= 4.85</text>\n<text text-anchor=\"middle\" x=\"581\" y=\"-275.8\" font-family=\"Helvetica,sans-Serif\" font-size=\"14.00\" fill=\"#000000\">gini = 0.053</text>\n<text text-anchor=\"middle\" x=\"581\" y=\"-260.8\" font-family=\"Helvetica,sans-Serif\" font-size=\"14.00\" fill=\"#000000\">samples = 37</text>\n<text text-anchor=\"middle\" x=\"581\" y=\"-245.8\" font-family=\"Helvetica,sans-Serif\" font-size=\"14.00\" fill=\"#000000\">value = [0, 1, 36]</text>\n<text text-anchor=\"middle\" x=\"581\" y=\"-230.8\" font-family=\"Helvetica,sans-Serif\" font-size=\"14.00\" fill=\"#000000\">class = virginica</text>\n</g>\n<!-- 6&#45;&gt;12 -->\n<g id=\"edge12\" class=\"edge\">\n<title>6&#45;&gt;12</title>\n<path fill=\"none\" stroke=\"#000000\" d=\"M457.4528,-341.8796C473.0733,-332.0962 489.829,-321.6019 505.8029,-311.5971\"/>\n<polygon fill=\"#000000\" stroke=\"#000000\" points=\"507.9676,-314.3712 514.5847,-306.0969 504.2519,-308.4387 507.9676,-314.3712\"/>\n</g>\n<!-- 8 -->\n<g id=\"node9\" class=\"node\">\n<title>8</title>\n<polygon fill=\"#8139e5\" stroke=\"#000000\" points=\"278.5,-179.5 159.5,-179.5 159.5,-111.5 278.5,-111.5 278.5,-179.5\"/>\n<text text-anchor=\"middle\" x=\"219\" y=\"-164.3\" font-family=\"Helvetica,sans-Serif\" font-size=\"14.00\" fill=\"#000000\">gini = 0.0</text>\n<text text-anchor=\"middle\" x=\"219\" y=\"-149.3\" font-family=\"Helvetica,sans-Serif\" font-size=\"14.00\" fill=\"#000000\">samples = 1</text>\n<text text-anchor=\"middle\" x=\"219\" y=\"-134.3\" font-family=\"Helvetica,sans-Serif\" font-size=\"14.00\" fill=\"#000000\">value = [0, 0, 1]</text>\n<text text-anchor=\"middle\" x=\"219\" y=\"-119.3\" font-family=\"Helvetica,sans-Serif\" font-size=\"14.00\" fill=\"#000000\">class = virginica</text>\n</g>\n<!-- 7&#45;&gt;8 -->\n<g id=\"edge8\" class=\"edge\">\n<title>7&#45;&gt;8</title>\n<path fill=\"none\" stroke=\"#000000\" d=\"M326.9413,-222.8796C310.142,-210.8368 291.8401,-197.7167 275.159,-185.7586\"/>\n<polygon fill=\"#000000\" stroke=\"#000000\" points=\"276.7668,-182.6047 266.6002,-179.623 272.6884,-188.2939 276.7668,-182.6047\"/>\n</g>\n<!-- 9 -->\n<g id=\"node10\" class=\"node\">\n<title>9</title>\n<polygon fill=\"#9cf2c0\" stroke=\"#000000\" points=\"473,-187 297,-187 297,-104 473,-104 473,-187\"/>\n<text text-anchor=\"middle\" x=\"385\" y=\"-171.8\" font-family=\"Helvetica,sans-Serif\" font-size=\"14.00\" fill=\"#000000\">petal length (cm) &lt;= 5.45</text>\n<text text-anchor=\"middle\" x=\"385\" y=\"-156.8\" font-family=\"Helvetica,sans-Serif\" font-size=\"14.00\" fill=\"#000000\">gini = 0.444</text>\n<text text-anchor=\"middle\" x=\"385\" y=\"-141.8\" font-family=\"Helvetica,sans-Serif\" font-size=\"14.00\" fill=\"#000000\">samples = 3</text>\n<text text-anchor=\"middle\" x=\"385\" y=\"-126.8\" font-family=\"Helvetica,sans-Serif\" font-size=\"14.00\" fill=\"#000000\">value = [0, 2, 1]</text>\n<text text-anchor=\"middle\" x=\"385\" y=\"-111.8\" font-family=\"Helvetica,sans-Serif\" font-size=\"14.00\" fill=\"#000000\">class = versicolor</text>\n</g>\n<!-- 7&#45;&gt;9 -->\n<g id=\"edge9\" class=\"edge\">\n<title>7&#45;&gt;9</title>\n<path fill=\"none\" stroke=\"#000000\" d=\"M385,-222.8796C385,-214.6838 385,-205.9891 385,-197.5013\"/>\n<polygon fill=\"#000000\" stroke=\"#000000\" points=\"388.5001,-197.298 385,-187.2981 381.5001,-197.2981 388.5001,-197.298\"/>\n</g>\n<!-- 10 -->\n<g id=\"node11\" class=\"node\">\n<title>10</title>\n<polygon fill=\"#39e581\" stroke=\"#000000\" points=\"320,-68 192,-68 192,0 320,0 320,-68\"/>\n<text text-anchor=\"middle\" x=\"256\" y=\"-52.8\" font-family=\"Helvetica,sans-Serif\" font-size=\"14.00\" fill=\"#000000\">gini = 0.0</text>\n<text text-anchor=\"middle\" x=\"256\" y=\"-37.8\" font-family=\"Helvetica,sans-Serif\" font-size=\"14.00\" fill=\"#000000\">samples = 2</text>\n<text text-anchor=\"middle\" x=\"256\" y=\"-22.8\" font-family=\"Helvetica,sans-Serif\" font-size=\"14.00\" fill=\"#000000\">value = [0, 2, 0]</text>\n<text text-anchor=\"middle\" x=\"256\" y=\"-7.8\" font-family=\"Helvetica,sans-Serif\" font-size=\"14.00\" fill=\"#000000\">class = versicolor</text>\n</g>\n<!-- 9&#45;&gt;10 -->\n<g id=\"edge10\" class=\"edge\">\n<title>9&#45;&gt;10</title>\n<path fill=\"none\" stroke=\"#000000\" d=\"M336.9652,-103.9815C326.013,-94.5151 314.3821,-84.462 303.4544,-75.0168\"/>\n<polygon fill=\"#000000\" stroke=\"#000000\" points=\"305.4957,-72.155 295.6414,-68.2637 300.9182,-77.4509 305.4957,-72.155\"/>\n</g>\n<!-- 11 -->\n<g id=\"node12\" class=\"node\">\n<title>11</title>\n<polygon fill=\"#8139e5\" stroke=\"#000000\" points=\"457.5,-68 338.5,-68 338.5,0 457.5,0 457.5,-68\"/>\n<text text-anchor=\"middle\" x=\"398\" y=\"-52.8\" font-family=\"Helvetica,sans-Serif\" font-size=\"14.00\" fill=\"#000000\">gini = 0.0</text>\n<text text-anchor=\"middle\" x=\"398\" y=\"-37.8\" font-family=\"Helvetica,sans-Serif\" font-size=\"14.00\" fill=\"#000000\">samples = 1</text>\n<text text-anchor=\"middle\" x=\"398\" y=\"-22.8\" font-family=\"Helvetica,sans-Serif\" font-size=\"14.00\" fill=\"#000000\">value = [0, 0, 1]</text>\n<text text-anchor=\"middle\" x=\"398\" y=\"-7.8\" font-family=\"Helvetica,sans-Serif\" font-size=\"14.00\" fill=\"#000000\">class = virginica</text>\n</g>\n<!-- 9&#45;&gt;11 -->\n<g id=\"edge11\" class=\"edge\">\n<title>9&#45;&gt;11</title>\n<path fill=\"none\" stroke=\"#000000\" d=\"M389.8407,-103.9815C390.8158,-95.618 391.8443,-86.7965 392.8302,-78.3409\"/>\n<polygon fill=\"#000000\" stroke=\"#000000\" points=\"396.3234,-78.6017 394.0051,-68.2637 389.3705,-77.791 396.3234,-78.6017\"/>\n</g>\n<!-- 13 -->\n<g id=\"node14\" class=\"node\">\n<title>13</title>\n<polygon fill=\"#c09cf2\" stroke=\"#000000\" points=\"671,-187 491,-187 491,-104 671,-104 671,-187\"/>\n<text text-anchor=\"middle\" x=\"581\" y=\"-171.8\" font-family=\"Helvetica,sans-Serif\" font-size=\"14.00\" fill=\"#000000\">sepal length (cm) &lt;= 5.95</text>\n<text text-anchor=\"middle\" x=\"581\" y=\"-156.8\" font-family=\"Helvetica,sans-Serif\" font-size=\"14.00\" fill=\"#000000\">gini = 0.444</text>\n<text text-anchor=\"middle\" x=\"581\" y=\"-141.8\" font-family=\"Helvetica,sans-Serif\" font-size=\"14.00\" fill=\"#000000\">samples = 3</text>\n<text text-anchor=\"middle\" x=\"581\" y=\"-126.8\" font-family=\"Helvetica,sans-Serif\" font-size=\"14.00\" fill=\"#000000\">value = [0, 1, 2]</text>\n<text text-anchor=\"middle\" x=\"581\" y=\"-111.8\" font-family=\"Helvetica,sans-Serif\" font-size=\"14.00\" fill=\"#000000\">class = virginica</text>\n</g>\n<!-- 12&#45;&gt;13 -->\n<g id=\"edge13\" class=\"edge\">\n<title>12&#45;&gt;13</title>\n<path fill=\"none\" stroke=\"#000000\" d=\"M581,-222.8796C581,-214.6838 581,-205.9891 581,-197.5013\"/>\n<polygon fill=\"#000000\" stroke=\"#000000\" points=\"584.5001,-197.298 581,-187.2981 577.5001,-197.2981 584.5001,-197.298\"/>\n</g>\n<!-- 16 -->\n<g id=\"node17\" class=\"node\">\n<title>16</title>\n<polygon fill=\"#8139e5\" stroke=\"#000000\" points=\"812.5,-179.5 689.5,-179.5 689.5,-111.5 812.5,-111.5 812.5,-179.5\"/>\n<text text-anchor=\"middle\" x=\"751\" y=\"-164.3\" font-family=\"Helvetica,sans-Serif\" font-size=\"14.00\" fill=\"#000000\">gini = 0.0</text>\n<text text-anchor=\"middle\" x=\"751\" y=\"-149.3\" font-family=\"Helvetica,sans-Serif\" font-size=\"14.00\" fill=\"#000000\">samples = 34</text>\n<text text-anchor=\"middle\" x=\"751\" y=\"-134.3\" font-family=\"Helvetica,sans-Serif\" font-size=\"14.00\" fill=\"#000000\">value = [0, 0, 34]</text>\n<text text-anchor=\"middle\" x=\"751\" y=\"-119.3\" font-family=\"Helvetica,sans-Serif\" font-size=\"14.00\" fill=\"#000000\">class = virginica</text>\n</g>\n<!-- 12&#45;&gt;16 -->\n<g id=\"edge16\" class=\"edge\">\n<title>12&#45;&gt;16</title>\n<path fill=\"none\" stroke=\"#000000\" d=\"M640.4578,-222.8796C657.8196,-210.7263 676.7488,-197.4759 693.9575,-185.4297\"/>\n<polygon fill=\"#000000\" stroke=\"#000000\" points=\"696.0676,-188.225 702.2528,-179.623 692.0533,-182.4904 696.0676,-188.225\"/>\n</g>\n<!-- 14 -->\n<g id=\"node15\" class=\"node\">\n<title>14</title>\n<polygon fill=\"#39e581\" stroke=\"#000000\" points=\"631,-68 503,-68 503,0 631,0 631,-68\"/>\n<text text-anchor=\"middle\" x=\"567\" y=\"-52.8\" font-family=\"Helvetica,sans-Serif\" font-size=\"14.00\" fill=\"#000000\">gini = 0.0</text>\n<text text-anchor=\"middle\" x=\"567\" y=\"-37.8\" font-family=\"Helvetica,sans-Serif\" font-size=\"14.00\" fill=\"#000000\">samples = 1</text>\n<text text-anchor=\"middle\" x=\"567\" y=\"-22.8\" font-family=\"Helvetica,sans-Serif\" font-size=\"14.00\" fill=\"#000000\">value = [0, 1, 0]</text>\n<text text-anchor=\"middle\" x=\"567\" y=\"-7.8\" font-family=\"Helvetica,sans-Serif\" font-size=\"14.00\" fill=\"#000000\">class = versicolor</text>\n</g>\n<!-- 13&#45;&gt;14 -->\n<g id=\"edge14\" class=\"edge\">\n<title>13&#45;&gt;14</title>\n<path fill=\"none\" stroke=\"#000000\" d=\"M575.7869,-103.9815C574.7368,-95.618 573.6292,-86.7965 572.5675,-78.3409\"/>\n<polygon fill=\"#000000\" stroke=\"#000000\" points=\"576.0208,-77.7497 571.3022,-68.2637 569.0753,-78.6218 576.0208,-77.7497\"/>\n</g>\n<!-- 15 -->\n<g id=\"node16\" class=\"node\">\n<title>15</title>\n<polygon fill=\"#8139e5\" stroke=\"#000000\" points=\"768.5,-68 649.5,-68 649.5,0 768.5,0 768.5,-68\"/>\n<text text-anchor=\"middle\" x=\"709\" y=\"-52.8\" font-family=\"Helvetica,sans-Serif\" font-size=\"14.00\" fill=\"#000000\">gini = 0.0</text>\n<text text-anchor=\"middle\" x=\"709\" y=\"-37.8\" font-family=\"Helvetica,sans-Serif\" font-size=\"14.00\" fill=\"#000000\">samples = 2</text>\n<text text-anchor=\"middle\" x=\"709\" y=\"-22.8\" font-family=\"Helvetica,sans-Serif\" font-size=\"14.00\" fill=\"#000000\">value = [0, 0, 2]</text>\n<text text-anchor=\"middle\" x=\"709\" y=\"-7.8\" font-family=\"Helvetica,sans-Serif\" font-size=\"14.00\" fill=\"#000000\">class = virginica</text>\n</g>\n<!-- 13&#45;&gt;15 -->\n<g id=\"edge15\" class=\"edge\">\n<title>13&#45;&gt;15</title>\n<path fill=\"none\" stroke=\"#000000\" d=\"M628.6625,-103.9815C639.5297,-94.5151 651.0705,-84.462 661.9135,-75.0168\"/>\n<polygon fill=\"#000000\" stroke=\"#000000\" points=\"664.4245,-77.4712 669.6659,-68.2637 659.8266,-72.1929 664.4245,-77.4712\"/>\n</g>\n</g>\n</svg>\n"
          },
          "metadata": {},
          "execution_count": 4
        }
      ]
    },
    {
      "cell_type": "code",
      "source": [
        "# max_depth, min_samples_leaf 설정\n",
        "dt_clf1 = DecisionTreeClassifier(max_depth = 3, min_samples_leaf = 4, random_state = 156)\n",
        "dt_clf1.fit(X_train , y_train)\n",
        "\n",
        "export_graphviz(dt_clf1, out_file=\"tree.dot\", class_names=iris_data.target_names , feature_names = iris_data.feature_names, impurity=True, filled=True)\n",
        "\n",
        "with open(\"tree.dot\") as f:\n",
        "    dot_graph = f.read()\n",
        "graphviz.Source(dot_graph)"
      ],
      "metadata": {
        "colab": {
          "base_uri": "https://localhost:8080/",
          "height": 598
        },
        "id": "m1LmIZ8qGh-S",
        "outputId": "00cb2fda-2b30-409f-aad4-71a64691afb3"
      },
      "execution_count": null,
      "outputs": [
        {
          "output_type": "execute_result",
          "data": {
            "text/plain": [
              "<graphviz.files.Source at 0x7f827e78cf50>"
            ],
            "image/svg+xml": "<?xml version=\"1.0\" encoding=\"UTF-8\" standalone=\"no\"?>\n<!DOCTYPE svg PUBLIC \"-//W3C//DTD SVG 1.1//EN\"\n \"http://www.w3.org/Graphics/SVG/1.1/DTD/svg11.dtd\">\n<!-- Generated by graphviz version 2.40.1 (20161225.0304)\n -->\n<!-- Title: Tree Pages: 1 -->\n<svg width=\"592pt\" height=\"433pt\"\n viewBox=\"0.00 0.00 591.50 433.00\" xmlns=\"http://www.w3.org/2000/svg\" xmlns:xlink=\"http://www.w3.org/1999/xlink\">\n<g id=\"graph0\" class=\"graph\" transform=\"scale(1 1) rotate(0) translate(4 429)\">\n<title>Tree</title>\n<polygon fill=\"#ffffff\" stroke=\"transparent\" points=\"-4,4 -4,-429 587.5,-429 587.5,4 -4,4\"/>\n<!-- 0 -->\n<g id=\"node1\" class=\"node\">\n<title>0</title>\n<polygon fill=\"#fffdfd\" stroke=\"#000000\" points=\"298,-425 122,-425 122,-342 298,-342 298,-425\"/>\n<text text-anchor=\"middle\" x=\"210\" y=\"-409.8\" font-family=\"Helvetica,sans-Serif\" font-size=\"14.00\" fill=\"#000000\">petal length (cm) &lt;= 2.45</text>\n<text text-anchor=\"middle\" x=\"210\" y=\"-394.8\" font-family=\"Helvetica,sans-Serif\" font-size=\"14.00\" fill=\"#000000\">gini = 0.667</text>\n<text text-anchor=\"middle\" x=\"210\" y=\"-379.8\" font-family=\"Helvetica,sans-Serif\" font-size=\"14.00\" fill=\"#000000\">samples = 120</text>\n<text text-anchor=\"middle\" x=\"210\" y=\"-364.8\" font-family=\"Helvetica,sans-Serif\" font-size=\"14.00\" fill=\"#000000\">value = [41, 40, 39]</text>\n<text text-anchor=\"middle\" x=\"210\" y=\"-349.8\" font-family=\"Helvetica,sans-Serif\" font-size=\"14.00\" fill=\"#000000\">class = setosa</text>\n</g>\n<!-- 1 -->\n<g id=\"node2\" class=\"node\">\n<title>1</title>\n<polygon fill=\"#e58139\" stroke=\"#000000\" points=\"189.5,-298.5 66.5,-298.5 66.5,-230.5 189.5,-230.5 189.5,-298.5\"/>\n<text text-anchor=\"middle\" x=\"128\" y=\"-283.3\" font-family=\"Helvetica,sans-Serif\" font-size=\"14.00\" fill=\"#000000\">gini = 0.0</text>\n<text text-anchor=\"middle\" x=\"128\" y=\"-268.3\" font-family=\"Helvetica,sans-Serif\" font-size=\"14.00\" fill=\"#000000\">samples = 41</text>\n<text text-anchor=\"middle\" x=\"128\" y=\"-253.3\" font-family=\"Helvetica,sans-Serif\" font-size=\"14.00\" fill=\"#000000\">value = [41, 0, 0]</text>\n<text text-anchor=\"middle\" x=\"128\" y=\"-238.3\" font-family=\"Helvetica,sans-Serif\" font-size=\"14.00\" fill=\"#000000\">class = setosa</text>\n</g>\n<!-- 0&#45;&gt;1 -->\n<g id=\"edge1\" class=\"edge\">\n<title>0&#45;&gt;1</title>\n<path fill=\"none\" stroke=\"#000000\" d=\"M181.3204,-341.8796C173.5917,-330.6636 165.2191,-318.5131 157.4492,-307.2372\"/>\n<polygon fill=\"#000000\" stroke=\"#000000\" points=\"160.2018,-305.0634 151.6456,-298.8149 154.4377,-309.0353 160.2018,-305.0634\"/>\n<text text-anchor=\"middle\" x=\"147.1196\" y=\"-319.7018\" font-family=\"Helvetica,sans-Serif\" font-size=\"14.00\" fill=\"#000000\">True</text>\n</g>\n<!-- 2 -->\n<g id=\"node3\" class=\"node\">\n<title>2</title>\n<polygon fill=\"#fafefc\" stroke=\"#000000\" points=\"378,-306 208,-306 208,-223 378,-223 378,-306\"/>\n<text text-anchor=\"middle\" x=\"293\" y=\"-290.8\" font-family=\"Helvetica,sans-Serif\" font-size=\"14.00\" fill=\"#000000\">petal width (cm) &lt;= 1.55</text>\n<text text-anchor=\"middle\" x=\"293\" y=\"-275.8\" font-family=\"Helvetica,sans-Serif\" font-size=\"14.00\" fill=\"#000000\">gini = 0.5</text>\n<text text-anchor=\"middle\" x=\"293\" y=\"-260.8\" font-family=\"Helvetica,sans-Serif\" font-size=\"14.00\" fill=\"#000000\">samples = 79</text>\n<text text-anchor=\"middle\" x=\"293\" y=\"-245.8\" font-family=\"Helvetica,sans-Serif\" font-size=\"14.00\" fill=\"#000000\">value = [0, 40, 39]</text>\n<text text-anchor=\"middle\" x=\"293\" y=\"-230.8\" font-family=\"Helvetica,sans-Serif\" font-size=\"14.00\" fill=\"#000000\">class = versicolor</text>\n</g>\n<!-- 0&#45;&gt;2 -->\n<g id=\"edge2\" class=\"edge\">\n<title>0&#45;&gt;2</title>\n<path fill=\"none\" stroke=\"#000000\" d=\"M239.0294,-341.8796C245.1855,-333.0534 251.7451,-323.6485 258.0936,-314.5466\"/>\n<polygon fill=\"#000000\" stroke=\"#000000\" points=\"260.9967,-316.5024 263.8467,-306.2981 255.2552,-312.4978 260.9967,-316.5024\"/>\n<text text-anchor=\"middle\" x=\"268.2331\" y=\"-327.2103\" font-family=\"Helvetica,sans-Serif\" font-size=\"14.00\" fill=\"#000000\">False</text>\n</g>\n<!-- 3 -->\n<g id=\"node4\" class=\"node\">\n<title>3</title>\n<polygon fill=\"#3ee684\" stroke=\"#000000\" points=\"286,-187 110,-187 110,-104 286,-104 286,-187\"/>\n<text text-anchor=\"middle\" x=\"198\" y=\"-171.8\" font-family=\"Helvetica,sans-Serif\" font-size=\"14.00\" fill=\"#000000\">petal length (cm) &lt;= 4.75</text>\n<text text-anchor=\"middle\" x=\"198\" y=\"-156.8\" font-family=\"Helvetica,sans-Serif\" font-size=\"14.00\" fill=\"#000000\">gini = 0.051</text>\n<text text-anchor=\"middle\" x=\"198\" y=\"-141.8\" font-family=\"Helvetica,sans-Serif\" font-size=\"14.00\" fill=\"#000000\">samples = 38</text>\n<text text-anchor=\"middle\" x=\"198\" y=\"-126.8\" font-family=\"Helvetica,sans-Serif\" font-size=\"14.00\" fill=\"#000000\">value = [0, 37, 1]</text>\n<text text-anchor=\"middle\" x=\"198\" y=\"-111.8\" font-family=\"Helvetica,sans-Serif\" font-size=\"14.00\" fill=\"#000000\">class = versicolor</text>\n</g>\n<!-- 2&#45;&gt;3 -->\n<g id=\"edge3\" class=\"edge\">\n<title>2&#45;&gt;3</title>\n<path fill=\"none\" stroke=\"#000000\" d=\"M259.7736,-222.8796C252.6556,-213.9633 245.0661,-204.4565 237.7308,-195.268\"/>\n<polygon fill=\"#000000\" stroke=\"#000000\" points=\"240.3425,-192.9295 231.3682,-187.2981 234.8719,-197.2968 240.3425,-192.9295\"/>\n</g>\n<!-- 6 -->\n<g id=\"node7\" class=\"node\">\n<title>6</title>\n<polygon fill=\"#8b49e7\" stroke=\"#000000\" points=\"474,-187 304,-187 304,-104 474,-104 474,-187\"/>\n<text text-anchor=\"middle\" x=\"389\" y=\"-171.8\" font-family=\"Helvetica,sans-Serif\" font-size=\"14.00\" fill=\"#000000\">petal width (cm) &lt;= 1.75</text>\n<text text-anchor=\"middle\" x=\"389\" y=\"-156.8\" font-family=\"Helvetica,sans-Serif\" font-size=\"14.00\" fill=\"#000000\">gini = 0.136</text>\n<text text-anchor=\"middle\" x=\"389\" y=\"-141.8\" font-family=\"Helvetica,sans-Serif\" font-size=\"14.00\" fill=\"#000000\">samples = 41</text>\n<text text-anchor=\"middle\" x=\"389\" y=\"-126.8\" font-family=\"Helvetica,sans-Serif\" font-size=\"14.00\" fill=\"#000000\">value = [0, 3, 38]</text>\n<text text-anchor=\"middle\" x=\"389\" y=\"-111.8\" font-family=\"Helvetica,sans-Serif\" font-size=\"14.00\" fill=\"#000000\">class = virginica</text>\n</g>\n<!-- 2&#45;&gt;6 -->\n<g id=\"edge6\" class=\"edge\">\n<title>2&#45;&gt;6</title>\n<path fill=\"none\" stroke=\"#000000\" d=\"M326.5761,-222.8796C333.7691,-213.9633 341.4384,-204.4565 348.851,-195.268\"/>\n<polygon fill=\"#000000\" stroke=\"#000000\" points=\"351.7258,-197.2788 355.2805,-187.2981 346.2776,-192.8836 351.7258,-197.2788\"/>\n</g>\n<!-- 4 -->\n<g id=\"node5\" class=\"node\">\n<title>4</title>\n<polygon fill=\"#39e581\" stroke=\"#000000\" points=\"128,-68 0,-68 0,0 128,0 128,-68\"/>\n<text text-anchor=\"middle\" x=\"64\" y=\"-52.8\" font-family=\"Helvetica,sans-Serif\" font-size=\"14.00\" fill=\"#000000\">gini = 0.0</text>\n<text text-anchor=\"middle\" x=\"64\" y=\"-37.8\" font-family=\"Helvetica,sans-Serif\" font-size=\"14.00\" fill=\"#000000\">samples = 34</text>\n<text text-anchor=\"middle\" x=\"64\" y=\"-22.8\" font-family=\"Helvetica,sans-Serif\" font-size=\"14.00\" fill=\"#000000\">value = [0, 34, 0]</text>\n<text text-anchor=\"middle\" x=\"64\" y=\"-7.8\" font-family=\"Helvetica,sans-Serif\" font-size=\"14.00\" fill=\"#000000\">class = versicolor</text>\n</g>\n<!-- 3&#45;&gt;4 -->\n<g id=\"edge4\" class=\"edge\">\n<title>3&#45;&gt;4</title>\n<path fill=\"none\" stroke=\"#000000\" d=\"M148.1033,-103.9815C136.6162,-94.4232 124.4103,-84.2668 112.9633,-74.7419\"/>\n<polygon fill=\"#000000\" stroke=\"#000000\" points=\"115.1035,-71.9695 105.1779,-68.2637 110.6261,-77.3503 115.1035,-71.9695\"/>\n</g>\n<!-- 5 -->\n<g id=\"node6\" class=\"node\">\n<title>5</title>\n<polygon fill=\"#7beeab\" stroke=\"#000000\" points=\"274,-68 146,-68 146,0 274,0 274,-68\"/>\n<text text-anchor=\"middle\" x=\"210\" y=\"-52.8\" font-family=\"Helvetica,sans-Serif\" font-size=\"14.00\" fill=\"#000000\">gini = 0.375</text>\n<text text-anchor=\"middle\" x=\"210\" y=\"-37.8\" font-family=\"Helvetica,sans-Serif\" font-size=\"14.00\" fill=\"#000000\">samples = 4</text>\n<text text-anchor=\"middle\" x=\"210\" y=\"-22.8\" font-family=\"Helvetica,sans-Serif\" font-size=\"14.00\" fill=\"#000000\">value = [0, 3, 1]</text>\n<text text-anchor=\"middle\" x=\"210\" y=\"-7.8\" font-family=\"Helvetica,sans-Serif\" font-size=\"14.00\" fill=\"#000000\">class = versicolor</text>\n</g>\n<!-- 3&#45;&gt;5 -->\n<g id=\"edge5\" class=\"edge\">\n<title>3&#45;&gt;5</title>\n<path fill=\"none\" stroke=\"#000000\" d=\"M202.4684,-103.9815C203.3685,-95.618 204.3179,-86.7965 205.2279,-78.3409\"/>\n<polygon fill=\"#000000\" stroke=\"#000000\" points=\"208.7222,-78.5808 206.3124,-68.2637 201.7624,-77.8317 208.7222,-78.5808\"/>\n</g>\n<!-- 7 -->\n<g id=\"node8\" class=\"node\">\n<title>7</title>\n<polygon fill=\"#ffffff\" stroke=\"#000000\" points=\"442,-68 314,-68 314,0 442,0 442,-68\"/>\n<text text-anchor=\"middle\" x=\"378\" y=\"-52.8\" font-family=\"Helvetica,sans-Serif\" font-size=\"14.00\" fill=\"#000000\">gini = 0.5</text>\n<text text-anchor=\"middle\" x=\"378\" y=\"-37.8\" font-family=\"Helvetica,sans-Serif\" font-size=\"14.00\" fill=\"#000000\">samples = 4</text>\n<text text-anchor=\"middle\" x=\"378\" y=\"-22.8\" font-family=\"Helvetica,sans-Serif\" font-size=\"14.00\" fill=\"#000000\">value = [0, 2, 2]</text>\n<text text-anchor=\"middle\" x=\"378\" y=\"-7.8\" font-family=\"Helvetica,sans-Serif\" font-size=\"14.00\" fill=\"#000000\">class = versicolor</text>\n</g>\n<!-- 6&#45;&gt;7 -->\n<g id=\"edge7\" class=\"edge\">\n<title>6&#45;&gt;7</title>\n<path fill=\"none\" stroke=\"#000000\" d=\"M384.904,-103.9815C384.0789,-95.618 383.2086,-86.7965 382.3744,-78.3409\"/>\n<polygon fill=\"#000000\" stroke=\"#000000\" points=\"385.8452,-77.8717 381.3803,-68.2637 378.8791,-78.559 385.8452,-77.8717\"/>\n</g>\n<!-- 8 -->\n<g id=\"node9\" class=\"node\">\n<title>8</title>\n<polygon fill=\"#843ee6\" stroke=\"#000000\" points=\"583.5,-68 460.5,-68 460.5,0 583.5,0 583.5,-68\"/>\n<text text-anchor=\"middle\" x=\"522\" y=\"-52.8\" font-family=\"Helvetica,sans-Serif\" font-size=\"14.00\" fill=\"#000000\">gini = 0.053</text>\n<text text-anchor=\"middle\" x=\"522\" y=\"-37.8\" font-family=\"Helvetica,sans-Serif\" font-size=\"14.00\" fill=\"#000000\">samples = 37</text>\n<text text-anchor=\"middle\" x=\"522\" y=\"-22.8\" font-family=\"Helvetica,sans-Serif\" font-size=\"14.00\" fill=\"#000000\">value = [0, 1, 36]</text>\n<text text-anchor=\"middle\" x=\"522\" y=\"-7.8\" font-family=\"Helvetica,sans-Serif\" font-size=\"14.00\" fill=\"#000000\">class = virginica</text>\n</g>\n<!-- 6&#45;&gt;8 -->\n<g id=\"edge8\" class=\"edge\">\n<title>6&#45;&gt;8</title>\n<path fill=\"none\" stroke=\"#000000\" d=\"M438.5243,-103.9815C449.9257,-94.4232 462.0405,-84.2668 473.4021,-74.7419\"/>\n<polygon fill=\"#000000\" stroke=\"#000000\" points=\"475.7147,-77.3704 481.1294,-68.2637 471.2175,-72.006 475.7147,-77.3704\"/>\n</g>\n</g>\n</svg>\n"
          },
          "metadata": {},
          "execution_count": 5
        }
      ]
    },
    {
      "cell_type": "markdown",
      "source": [
        "> 결정 트리가 간결해 진 것을 확인"
      ],
      "metadata": {
        "id": "VP-y4o0JHF-D"
      }
    },
    {
      "cell_type": "code",
      "source": [
        "import seaborn as sns\n",
        "import numpy as np\n",
        "%matplotlib inline\n",
        "\n",
        "# feature importance 추출 \n",
        "print(\"Feature importances:\\n{0}\".format(np.round(dt_clf.feature_importances_, 3)))\n",
        "\n",
        "# feature별 importance 매핑\n",
        "for name, value in zip(iris_data.feature_names , dt_clf.feature_importances_):\n",
        "    print('{0} : {1:.3f}'.format(name, value))\n",
        "\n",
        "# feature importance를 column 별로 시각화 하기 \n",
        "sns.barplot(x=dt_clf.feature_importances_ , y=iris_data.feature_names)"
      ],
      "metadata": {
        "colab": {
          "base_uri": "https://localhost:8080/",
          "height": 394
        },
        "id": "73JIk8WYHEUE",
        "outputId": "117bf37e-4ad0-4bd3-b5b7-f689af1d89fb"
      },
      "execution_count": null,
      "outputs": [
        {
          "output_type": "stream",
          "name": "stdout",
          "text": [
            "Feature importances:\n",
            "[0.025 0.    0.555 0.42 ]\n",
            "sepal length (cm) : 0.025\n",
            "sepal width (cm) : 0.000\n",
            "petal length (cm) : 0.555\n",
            "petal width (cm) : 0.420\n"
          ]
        },
        {
          "output_type": "execute_result",
          "data": {
            "text/plain": [
              "<matplotlib.axes._subplots.AxesSubplot at 0x7f827a6b9490>"
            ]
          },
          "metadata": {},
          "execution_count": 6
        },
        {
          "output_type": "display_data",
          "data": {
            "text/plain": [
              "<Figure size 432x288 with 1 Axes>"
            ],
            "image/png": "[encoded data removed]"
          },
          "metadata": {
            "needs_background": "light"
          }
        }
      ]
    },
    {
      "cell_type": "markdown",
      "source": [
        "> petal_length의 피처 중요도가 가장 높음\n",
        "- 결정 트리는 규칙 트리의 시각화, featrue_importances_ 속성을 통해 직관적인 이해 가능\n",
        "\n",
        "- 결정 트리 과적합(Overfitting)\n",
        "  + make_classification(): 피처 데이터 세트, 클래스 레이블 데이터 세트를 호출 시 반환"
      ],
      "metadata": {
        "id": "NjCOJv4yHNS6"
      }
    },
    {
      "cell_type": "code",
      "source": [
        "from sklearn.datasets import make_classification\n",
        "import matplotlib.pyplot as plt\n",
        "%matplotlib inline\n",
        "\n",
        "plt.title(\"3 Class values with 2 Features Sample data creation\")\n",
        "\n",
        "# 2차원 시각화를 위해서 feature는 2개, 결정값 클래스는 3가지 유형의 classification 샘플 데이터 생성\n",
        "X_features, y_labels = make_classification(n_features = 2, n_redundant = 0, n_informative = 2, n_classes = 3, n_clusters_per_class = 1,random_state = 0)\n",
        "\n",
        "# plot 형태로 2개의 feature로 2차원 좌표 시각화, 각 클래스값은 다른 색깔로 표시됨\n",
        "plt.scatter(X_features[:, 0], X_features[:, 1], marker = 'o', c = y_labels, s = 25, cmap = 'rainbow', edgecolor = 'k')"
      ],
      "metadata": {
        "colab": {
          "base_uri": "https://localhost:8080/",
          "height": 299
        },
        "id": "yVrMBXiyHMMH",
        "outputId": "3eb96eda-a700-41b9-e464-412bde839bf5"
      },
      "execution_count": null,
      "outputs": [
        {
          "output_type": "execute_result",
          "data": {
            "text/plain": [
              "<matplotlib.collections.PathCollection at 0x7f827743e850>"
            ]
          },
          "metadata": {},
          "execution_count": 7
        },
        {
          "output_type": "display_data",
          "data": {
            "text/plain": [
              "<Figure size 432x288 with 1 Axes>"
            ],
            "image/png": "[encoded data removed]"
          },
          "metadata": {
            "needs_background": "light"
          }
        }
      ]
    },
    {
      "cell_type": "markdown",
      "source": [
        "> 2차원 그래프, 3개의 클래스 값이 색깔로 구분\n",
        "- X_features와 y_labels 데이터 세트 기반으로 결정 트리 학습\n",
        "  + 별다른 제약 없이 학습 수행\n",
        "  + visualize_boundary(): 클래스 값 예측 결정 기준을 색상과 경계로 나타냄"
      ],
      "metadata": {
        "id": "qXXL8vyLH8Dc"
      }
    },
    {
      "cell_type": "code",
      "source": [
        "import numpy as np\n",
        "\n",
        "# visualize_boundary() 함수\n",
        "# Classifier의 Decision Boundary를 시각화 하는 함수\n",
        "def visualize_boundary(model, X, y):\n",
        "    fig,ax = plt.subplots()\n",
        "    \n",
        "    # 학습 데이타 scatter plot으로 나타내기\n",
        "    ax.scatter(X[:, 0], X[:, 1], c=y, s=25, cmap='rainbow', edgecolor='k',\n",
        "               clim=(y.min(), y.max()), zorder=3)\n",
        "    ax.axis('tight')\n",
        "    ax.axis('off')\n",
        "    xlim_start , xlim_end = ax.get_xlim()\n",
        "    ylim_start , ylim_end = ax.get_ylim()\n",
        "    \n",
        "    # 호출 파라미터로 들어온 training 데이타로 model 학습\n",
        "    model.fit(X, y)\n",
        "    # meshgrid 형태인 모든 좌표값으로 예측 수행.\n",
        "    xx, yy = np.meshgrid(np.linspace(xlim_start,xlim_end, num=200),np.linspace(ylim_start,ylim_end, num=200))\n",
        "    Z = model.predict(np.c_[xx.ravel(), yy.ravel()]).reshape(xx.shape)\n",
        "    \n",
        "    # contourf() 를 이용하여 class boundary 를 visualization 수행\n",
        "    n_classes = len(np.unique(y))\n",
        "    contours = ax.contourf(xx, yy, Z, alpha=0.3,\n",
        "                           levels=np.arange(n_classes + 1) - 0.5,\n",
        "                           cmap='rainbow', clim=(y.min(), y.max()),\n",
        "                           zorder=1)"
      ],
      "metadata": {
        "id": "wm2jLmuLHpv2"
      },
      "execution_count": null,
      "outputs": []
    },
    {
      "cell_type": "code",
      "source": [
        "from sklearn.tree import DecisionTreeClassifier\n",
        "\n",
        "# 특정한 트리 생성 제약 없는 결정 트리의 학습과 결정 경계 시각화\n",
        "dt_clf = DecisionTreeClassifier().fit(X_features, y_labels)\n",
        "visualize_boundary(dt_clf, X_features, y_labels)"
      ],
      "metadata": {
        "colab": {
          "base_uri": "https://localhost:8080/",
          "height": 248
        },
        "id": "lWSZzWDNIS9D",
        "outputId": "d83337a2-3375-433b-afd9-5b757588343c"
      },
      "execution_count": null,
      "outputs": [
        {
          "output_type": "display_data",
          "data": {
            "text/plain": [
              "<Figure size 432x288 with 1 Axes>"
            ],
            "image/png": "[encoded data removed]"
          },
          "metadata": {
            "needs_background": "light"
          }
        }
      ]
    },
    {
      "cell_type": "markdown",
      "source": [
        "> 이상치 데이터 분류를 위해 분할이 많이 일어나서 결정 기준 경계가 많음\n",
        "> - 복잡한 모델은 다른 형태의 데이터 세트를 예츠 시 정확도가 떨어짐"
      ],
      "metadata": {
        "id": "bQLzqBM0Ib_c"
      }
    },
    {
      "cell_type": "code",
      "source": [
        "# min_samples_leaf = 6으로 트리 생성 조건을 제약한 Decision Boundary 시각화\n",
        "dt_clf = DecisionTreeClassifier( min_samples_leaf=6).fit(X_features, y_labels)\n",
        "visualize_boundary(dt_clf, X_features, y_labels)"
      ],
      "metadata": {
        "colab": {
          "base_uri": "https://localhost:8080/",
          "height": 248
        },
        "id": "qpF0UJ19IZ8c",
        "outputId": "2c654430-9bea-4350-9348-bd454f840acf"
      },
      "execution_count": null,
      "outputs": [
        {
          "output_type": "display_data",
          "data": {
            "text/plain": [
              "<Figure size 432x288 with 1 Axes>"
            ],
            "image/png": "[encoded data removed]"
          },
          "metadata": {
            "needs_background": "light"
          }
        }
      ]
    },
    {
      "cell_type": "markdown",
      "source": [
        "> 이상치에 크게 반응하지 않으면서 더 일반화된 분류 규칙을 따름\n",
        "> - 다른 데이터 세트에서도 낮지 않은 정확도를 보임"
      ],
      "metadata": {
        "id": "KcawEX_eIp2d"
      }
    },
    {
      "cell_type": "markdown",
      "source": [
        "### **03. 앙상블 학습**\n",
        "앙상블 학습을 통한 분류: 여러 개의 분류기를 생성하고 그 예측을 결합함으로써 보다 정확한 최종 예측을 도출하는 기법\n",
        "> 예시: 랜덤 포레스트, 그래디언트 부스팅 알고리즘, XGboost, LightGBM, 스태킹 등\n",
        "\n",
        "- 보팅(Voting): 서로 다른 알고리즘을 가진 여러 개의 분류기가 투표를 통해 최종 예측 결과를 결정\n",
        "\n",
        "- 배깅(Bagging): 서로 같은 유형의 알고리즘을 기반으로 한 여러 개의 분류기가 데이터 샘플링을 서로 다르게 가져가고(부트스트래핑 분할 방식), 투표를 통해 최종 예측 결과를 결정\n",
        "  > + 랜덤 포레스트 알고리즘\n",
        "\n",
        "- 부스팅(Boosting): 여러 개의 분류기가 순차적으로 학습을 수행하되, 앞에서 학습한 분류기가 예측이 틀린 데이터에 대해서는 올바르게 에측할 수 있도록 다음 분류기에게는 가중치를 부여하면서 학습, 예측을 진행\n",
        "  > + 그래디언트 부스트, WGBoost, LightGBM\n",
        "\n",
        "- 스태킹(Stacking): 여러 가지 다른 모델의 예측 결괏값을 다시 학습 데이터로 만들어서 다른 모델(메타 모델)로 재학습시켜 결과를 예측하는 방법\n",
        "\n",
        "\n",
        "----\n",
        "####**> 보팅**\n",
        " + 하드 보팅: 다수결 원칙처럼 예측한 결괏값들 중 다수의 분류기가 결정한 예측값을 최종 보팅 결괏값으로 선정\n",
        " + 소프트 보팅: 분류기들의 레이블 값 결정 확ㄱ률을 모두 더하고 이를 평균해서 이들 중 확률이 가장 높은 레이블 값을 최종 보팅 결괏값으로 선정(일반적으로 예측 성능이 더 높아 자주 사용됨)\n",
        " \n",
        "+ 보팅 분류기(Voting Classifier)\n",
        "    - 사이킷런은 VotingClassifier 클래스를 제공\n",
        "    - 예제: 로지스틱 회귀와 KNN을 기반으로 보팅 분류기 만들기\n"
      ],
      "metadata": {
        "id": "jGTK83OL7LX9"
      }
    },
    {
      "cell_type": "code",
      "source": [
        "import pandas as pd\n",
        "\n",
        "from sklearn.ensemble import VotingClassifier\n",
        "from sklearn.linear_model import LogisticRegression\n",
        "from sklearn.neighbors import KNeighborsClassifier\n",
        "from sklearn.datasets import load_breast_cancer\n",
        "from sklearn.model_selection import train_test_split\n",
        "from sklearn.metrics import accuracy_score\n",
        "\n",
        "cancer = load_breast_cancer()\n",
        "\n",
        "data_df = pd.DataFrame(cancer.data, columns=cancer.feature_names)\n",
        "data_df.head(3)"
      ],
      "metadata": {
        "colab": {
          "base_uri": "https://localhost:8080/",
          "height": 272
        },
        "id": "YtOvp5mb-FJy",
        "outputId": "371300f1-0a01-4aa8-e0a1-88c0f1e82bd3"
      },
      "execution_count": 8,
      "outputs": [
        {
          "output_type": "execute_result",
          "data": {
            "text/plain": [
              "   mean radius  mean texture  mean perimeter  mean area  mean smoothness  \\\n",
              "0        17.99         10.38           122.8     1001.0          0.11840   \n",
              "1        20.57         17.77           132.9     1326.0          0.08474   \n",
              "2        19.69         21.25           130.0     1203.0          0.10960   \n",
              "\n",
              "   mean compactness  mean concavity  mean concave points  mean symmetry  \\\n",
              "0           0.27760          0.3001              0.14710         0.2419   \n",
              "1           0.07864          0.0869              0.07017         0.1812   \n",
              "2           0.15990          0.1974              0.12790         0.2069   \n",
              "\n",
              "   mean fractal dimension  ...  worst radius  worst texture  worst perimeter  \\\n",
              "0                 0.07871  ...         25.38          17.33            184.6   \n",
              "1                 0.05667  ...         24.99          23.41            158.8   \n",
              "2                 0.05999  ...         23.57          25.53            152.5   \n",
              "\n",
              "   worst area  worst smoothness  worst compactness  worst concavity  \\\n",
              "0      2019.0            0.1622             0.6656           0.7119   \n",
              "1      1956.0            0.1238             0.1866           0.2416   \n",
              "2      1709.0            0.1444             0.4245           0.4504   \n",
              "\n",
              "   worst concave points  worst symmetry  worst fractal dimension  \n",
              "0                0.2654          0.4601                  0.11890  \n",
              "1                0.1860          0.2750                  0.08902  \n",
              "2                0.2430          0.3613                  0.08758  \n",
              "\n",
              "[3 rows x 30 columns]"
            ],
            "text/html": [
              "\n",
              "  <div id=\"df-bf9c56f0-1e2c-4345-82b0-bf146f86aa9f\">\n",
              "    <div class=\"colab-df-container\">\n",
              "      <div>\n",
              "<style scoped>\n",
              "    .dataframe tbody tr th:only-of-type {\n",
              "        vertical-align: middle;\n",
              "    }\n",
              "\n",
              "    .dataframe tbody tr th {\n",
              "        vertical-align: top;\n",
              "    }\n",
              "\n",
              "    .dataframe thead th {\n",
              "        text-align: right;\n",
              "    }\n",
              "</style>\n",
              "<table border=\"1\" class=\"dataframe\">\n",
              "  <thead>\n",
              "    <tr style=\"text-align: right;\">\n",
              "      <th></th>\n",
              "      <th>mean radius</th>\n",
              "      <th>mean texture</th>\n",
              "      <th>mean perimeter</th>\n",
              "      <th>mean area</th>\n",
              "      <th>mean smoothness</th>\n",
              "      <th>mean compactness</th>\n",
              "      <th>mean concavity</th>\n",
              "      <th>mean concave points</th>\n",
              "      <th>mean symmetry</th>\n",
              "      <th>mean fractal dimension</th>\n",
              "      <th>...</th>\n",
              "      <th>worst radius</th>\n",
              "      <th>worst texture</th>\n",
              "      <th>worst perimeter</th>\n",
              "      <th>worst area</th>\n",
              "      <th>worst smoothness</th>\n",
              "      <th>worst compactness</th>\n",
              "      <th>worst concavity</th>\n",
              "      <th>worst concave points</th>\n",
              "      <th>worst symmetry</th>\n",
              "      <th>worst fractal dimension</th>\n",
              "    </tr>\n",
              "  </thead>\n",
              "  <tbody>\n",
              "    <tr>\n",
              "      <th>0</th>\n",
              "      <td>17.99</td>\n",
              "      <td>10.38</td>\n",
              "      <td>122.8</td>\n",
              "      <td>1001.0</td>\n",
              "      <td>0.11840</td>\n",
              "      <td>0.27760</td>\n",
              "      <td>0.3001</td>\n",
              "      <td>0.14710</td>\n",
              "      <td>0.2419</td>\n",
              "      <td>0.07871</td>\n",
              "      <td>...</td>\n",
              "      <td>25.38</td>\n",
              "      <td>17.33</td>\n",
              "      <td>184.6</td>\n",
              "      <td>2019.0</td>\n",
              "      <td>0.1622</td>\n",
              "      <td>0.6656</td>\n",
              "      <td>0.7119</td>\n",
              "      <td>0.2654</td>\n",
              "      <td>0.4601</td>\n",
              "      <td>0.11890</td>\n",
              "    </tr>\n",
              "    <tr>\n",
              "      <th>1</th>\n",
              "      <td>20.57</td>\n",
              "      <td>17.77</td>\n",
              "      <td>132.9</td>\n",
              "      <td>1326.0</td>\n",
              "      <td>0.08474</td>\n",
              "      <td>0.07864</td>\n",
              "      <td>0.0869</td>\n",
              "      <td>0.07017</td>\n",
              "      <td>0.1812</td>\n",
              "      <td>0.05667</td>\n",
              "      <td>...</td>\n",
              "      <td>24.99</td>\n",
              "      <td>23.41</td>\n",
              "      <td>158.8</td>\n",
              "      <td>1956.0</td>\n",
              "      <td>0.1238</td>\n",
              "      <td>0.1866</td>\n",
              "      <td>0.2416</td>\n",
              "      <td>0.1860</td>\n",
              "      <td>0.2750</td>\n",
              "      <td>0.08902</td>\n",
              "    </tr>\n",
              "    <tr>\n",
              "      <th>2</th>\n",
              "      <td>19.69</td>\n",
              "      <td>21.25</td>\n",
              "      <td>130.0</td>\n",
              "      <td>1203.0</td>\n",
              "      <td>0.10960</td>\n",
              "      <td>0.15990</td>\n",
              "      <td>0.1974</td>\n",
              "      <td>0.12790</td>\n",
              "      <td>0.2069</td>\n",
              "      <td>0.05999</td>\n",
              "      <td>...</td>\n",
              "      <td>23.57</td>\n",
              "      <td>25.53</td>\n",
              "      <td>152.5</td>\n",
              "      <td>1709.0</td>\n",
              "      <td>0.1444</td>\n",
              "      <td>0.4245</td>\n",
              "      <td>0.4504</td>\n",
              "      <td>0.2430</td>\n",
              "      <td>0.3613</td>\n",
              "      <td>0.08758</td>\n",
              "    </tr>\n",
              "  </tbody>\n",
              "</table>\n",
              "<p>3 rows × 30 columns</p>\n",
              "</div>\n",
              "      <button class=\"colab-df-convert\" onclick=\"convertToInteractive('df-bf9c56f0-1e2c-4345-82b0-bf146f86aa9f')\"\n",
              "              title=\"Convert this dataframe to an interactive table.\"\n",
              "              style=\"display:none;\">\n",
              "        \n",
              "  <svg xmlns=\"http://www.w3.org/2000/svg\" height=\"24px\"viewBox=\"0 0 24 24\"\n",
              "       width=\"24px\">\n",
              "    <path d=\"M0 0h24v24H0V0z\" fill=\"none\"/>\n",
              "    <path d=\"M18.56 5.44l.94 2.06.94-2.06 2.06-.94-2.06-.94-.94-2.06-.94 2.06-2.06.94zm-11 1L8.5 8.5l.94-2.06 2.06-.94-2.06-.94L8.5 2.5l-.94 2.06-2.06.94zm10 10l.94 2.06.94-2.06 2.06-.94-2.06-.94-.94-2.06-.94 2.06-2.06.94z\"/><path d=\"M17.41 7.96l-1.37-1.37c-.4-.4-.92-.59-1.43-.59-.52 0-1.04.2-1.43.59L10.3 9.45l-7.72 7.72c-.78.78-.78 2.05 0 2.83L4 21.41c.39.39.9.59 1.41.59.51 0 1.02-.2 1.41-.59l7.78-7.78 2.81-2.81c.8-.78.8-2.07 0-2.86zM5.41 20L4 18.59l7.72-7.72 1.47 1.35L5.41 20z\"/>\n",
              "  </svg>\n",
              "      </button>\n",
              "      \n",
              "  <style>\n",
              "    .colab-df-container {\n",
              "      display:flex;\n",
              "      flex-wrap:wrap;\n",
              "      gap: 12px;\n",
              "    }\n",
              "\n",
              "    .colab-df-convert {\n",
              "      background-color: #E8F0FE;\n",
              "      border: none;\n",
              "      border-radius: 50%;\n",
              "      cursor: pointer;\n",
              "      display: none;\n",
              "      fill: #1967D2;\n",
              "      height: 32px;\n",
              "      padding: 0 0 0 0;\n",
              "      width: 32px;\n",
              "    }\n",
              "\n",
              "    .colab-df-convert:hover {\n",
              "      background-color: #E2EBFA;\n",
              "      box-shadow: 0px 1px 2px rgba(60, 64, 67, 0.3), 0px 1px 3px 1px rgba(60, 64, 67, 0.15);\n",
              "      fill: #174EA6;\n",
              "    }\n",
              "\n",
              "    [theme=dark] .colab-df-convert {\n",
              "      background-color: #3B4455;\n",
              "      fill: #D2E3FC;\n",
              "    }\n",
              "\n",
              "    [theme=dark] .colab-df-convert:hover {\n",
              "      background-color: #434B5C;\n",
              "      box-shadow: 0px 1px 3px 1px rgba(0, 0, 0, 0.15);\n",
              "      filter: drop-shadow(0px 1px 2px rgba(0, 0, 0, 0.3));\n",
              "      fill: #FFFFFF;\n",
              "    }\n",
              "  </style>\n",
              "\n",
              "      <script>\n",
              "        const buttonEl =\n",
              "          document.querySelector('#df-bf9c56f0-1e2c-4345-82b0-bf146f86aa9f button.colab-df-convert');\n",
              "        buttonEl.style.display =\n",
              "          google.colab.kernel.accessAllowed ? 'block' : 'none';\n",
              "\n",
              "        async function convertToInteractive(key) {\n",
              "          const element = document.querySelector('#df-bf9c56f0-1e2c-4345-82b0-bf146f86aa9f');\n",
              "          const dataTable =\n",
              "            await google.colab.kernel.invokeFunction('convertToInteractive',\n",
              "                                                     [key], {});\n",
              "          if (!dataTable) return;\n",
              "\n",
              "          const docLinkHtml = 'Like what you see? Visit the ' +\n",
              "            '<a target=\"_blank\" href=https://colab.research.google.com/notebooks/data_table.ipynb>data table notebook</a>'\n",
              "            + ' to learn more about interactive tables.';\n",
              "          element.innerHTML = '';\n",
              "          dataTable['output_type'] = 'display_data';\n",
              "          await google.colab.output.renderOutput(dataTable, element);\n",
              "          const docLink = document.createElement('div');\n",
              "          docLink.innerHTML = docLinkHtml;\n",
              "          element.appendChild(docLink);\n",
              "        }\n",
              "      </script>\n",
              "    </div>\n",
              "  </div>\n",
              "  "
            ]
          },
          "metadata": {},
          "execution_count": 8
        }
      ]
    },
    {
      "cell_type": "code",
      "source": [
        "# 개별 모델은 로지스틱 회귀와 KNN임\n",
        "lr_clf = LogisticRegression()\n",
        "knn_clf = KNeighborsClassifier(n_neighbors = 8)\n",
        "\n",
        "# 개별 모델을 소프트 보팅 기반의 앙상블 모델로 구현한 분류기\n",
        "vo_clf = VotingClassifier(estimators=[('LR',lr_clf),('KNN',knn_clf)] , voting='soft')\n",
        "\n",
        "X_train, X_test, y_train, y_test = train_test_split(cancer.data, cancer.target, test_size=0.2 , random_state= 156)\n",
        "\n",
        "# VotingClassifier 학습/예측/평가 \n",
        "vo_clf.fit(X_train , y_train)\n",
        "pred = vo_clf.predict(X_test)\n",
        "print('Voting 분류기 정확도: {0:.4f}'.format(accuracy_score(y_test , pred)))\n",
        "\n",
        "# 개별 모델의 학습/예측/평가\n",
        "classifiers = [lr_clf, knn_clf]\n",
        "for classifier in classifiers:\n",
        "    classifier.fit(X_train , y_train)\n",
        "    pred = classifier.predict(X_test)\n",
        "    class_name = classifier.__class__.__name__\n",
        "    print('{0} 정확도: {1:.4f}'.format(class_name, accuracy_score(y_test , pred)))"
      ],
      "metadata": {
        "colab": {
          "base_uri": "https://localhost:8080/"
        },
        "id": "xASPnIbT-LZ-",
        "outputId": "431a9f7d-99e4-4703-d468-131eae767818"
      },
      "execution_count": 9,
      "outputs": [
        {
          "output_type": "stream",
          "name": "stdout",
          "text": [
            "Voting 분류기 정확도: 0.9474\n",
            "LogisticRegression 정확도: 0.9386\n",
            "KNeighborsClassifier 정확도: 0.9386\n"
          ]
        }
      ]
    },
    {
      "cell_type": "markdown",
      "source": [
        "> VotingClassifer\n",
        "  - 주요 생성 인자로 estimatos와 voting 값 입력받음\n",
        "    + estimator: 리스트 값으로 보팅에 사용될 여러 개의 분류기 객체들을 튜플 형식으로 입력\n",
        "    + voting: hard는 하드 보팅, soft는 소프트 보팅 방식을 적용하라는 의미(디폴트-hard)\n",
        "\n",
        "> 보팅으로 여러 개의 분류기를 결합한다고 해서 무조건 기반 분류기보다 예측 성능이 향상되는 것은 아님\n",
        "\n",
        "- 머신러닝 모델의 성능은 다양한 테스트 데이터에 의해 검증되므로 높은 유연성을 가지고 대처하느냐가 중요한 평가요소가 됨\n",
        "  + 편향-분산 트레이드오프는 머신러닝이 극복해야할 중요한 과제\n",
        "    - 예시: 대부분 결정 트리 알고리즘을 기반으로 한 배깅, 부스팅은 오히려 과적합이 발생해 예측 성능이 떨어질 수 있지만, 앙상블 학습을 통해 다양한 상황을 학습함으로써 단점을 보완하고 편향-분산 트레이드오프의 효과를 극대화 가능"
      ],
      "metadata": {
        "id": "w5H2pu3J-hIq"
      }
    },
    {
      "cell_type": "markdown",
      "source": [
        "###**04. 랜덤 포레스트**\n",
        "- 같은 알고리즘으로 여러 개의 분류기를 만들어서 보팅으로 최종 결정하는 배깅\n",
        "- 비교적 빠른 수행 속도, 다양한 영역에서 높은 예측 성능을 보임\n",
        "- 결정 트리 알고리즘을 기반으로 하여 직관적임\n",
        "  + 부트스트래핑 분할 방식: 여러 개의 데이터 세트를 중첩되게 분리\n",
        "  + 사이킷런에서 RandomForestClassifier 클래스 제공"
      ],
      "metadata": {
        "id": "oIjP7ZkW_pEL"
      }
    },
    {
      "cell_type": "code",
      "source": [
        "import pandas as pd\n",
        "\n",
        "# ValueError: Duplicate names are not allowed\n",
        "# 위 오류를 수정하기 위한 코드\n",
        "def get_new_feature_name_df(old_feature_name_df):\n",
        "    feature_dup_df = pd.DataFrame(data=old_feature_name_df.groupby('column_name').cumcount(),\n",
        "                                  columns=['dup_cnt'])\n",
        "    feature_dup_df = feature_dup_df.reset_index()\n",
        "    new_feature_name_df = pd.merge(old_feature_name_df.reset_index(), feature_dup_df, how='outer')\n",
        "    new_feature_name_df['column_name'] = new_feature_name_df[['column_name', 'dup_cnt']].apply(lambda x : x[0]+'_'+str(x[1]) if x[1] >0 else x[0] ,  axis=1)\n",
        "    new_feature_name_df = new_feature_name_df.drop(['index'], axis=1)\n",
        "    return new_feature_name_df\n",
        "\n",
        "# 사용자 행동 데이터셋에 DataFrame을 반환하는 함수\n",
        "def get_human_dataset( ):\n",
        "    \n",
        "    # 각 데이터 파일들은 공백으로 분리되어 있으므로 read_csv에서 공백 문자를 sep으로 할당\n",
        "    feature_name_df = pd.read_csv('features.txt',sep='\\s+', header=None,names=['column_index','column_name'])\n",
        "\n",
        "    # 중복된 피처명을 수정하는 get_new_feature_name_df()를 이용, 신규 피처명 DataFrame생성. \n",
        "    new_feature_name_df = get_new_feature_name_df(feature_name_df)\n",
        "    \n",
        "    # DataFrame에 피처명을 컬럼으로 부여하기 위해 리스트 객체로 다시 변환\n",
        "    feature_name = new_feature_name_df.iloc[:, 1].values.tolist()\n",
        "    \n",
        "    # 학습 피처 데이터 셋과 테스트 피처 데이터을 DataFrame으로 로딩. Column 명은 feature_name 적용\n",
        "    My_X_train = pd.read_csv('X_train.txt',sep='\\s+', names = feature_name)\n",
        "    My_X_test = pd.read_csv('X_test.txt',sep='\\s+', names=feature_name)\n",
        "    \n",
        "    # 학습 레이블과 테스트 레이블 데이터을 DataFrame으로 로딩하고 컬럼명은 action으로 부여\n",
        "    My_y_train = pd.read_csv('y_train.txt',sep='\\s+',header=None,names=['action'])\n",
        "    My_y_test = pd.read_csv('y_test.txt',sep='\\s+',header=None,names=['action'])\n",
        "    \n",
        "    # 로드된 학습/테스트용 DataFrame을 모두 반환 \n",
        "    return My_X_train, My_X_test, My_y_train, My_y_test"
      ],
      "metadata": {
        "id": "FNh6SmX-Apl_"
      },
      "execution_count": 17,
      "outputs": []
    },
    {
      "cell_type": "code",
      "source": [
        "from sklearn.ensemble import RandomForestClassifier\n",
        "from sklearn.metrics import accuracy_score\n",
        "import pandas as pd\n",
        "import warnings\n",
        "warnings.filterwarnings('ignore')\n",
        "\n",
        "# get_human_dataset()을 이용해 학습/테스트용 DataFrame 반환\n",
        "X_train, X_test, y_train, y_test = get_human_dataset()\n",
        "\n",
        "# 랜덤 포레스트 학습\n",
        "rf_clf = RandomForestClassifier(random_state=0)\n",
        "rf_clf.fit(X_train , y_train)\n",
        "\n",
        "# 별도의 테스트셋으로 예측 성능 평가\n",
        "pred = rf_clf.predict(X_test)\n",
        "accuracy = accuracy_score(y_test , pred)\n",
        "print('랜덤 포레스트 정확도: {0:.4f}'.format(accuracy))"
      ],
      "metadata": {
        "colab": {
          "base_uri": "https://localhost:8080/"
        },
        "id": "aIisrPUnAVAr",
        "outputId": "b7462e94-77d9-49fa-a395-4f399889ece4"
      },
      "execution_count": 18,
      "outputs": [
        {
          "output_type": "stream",
          "name": "stdout",
          "text": [
            "랜덤 포레스트 정확도: 0.9253\n"
          ]
        }
      ]
    },
    {
      "cell_type": "markdown",
      "source": [
        "- 랜덤 포레스트 하이퍼 파라미터 및 튜님\n",
        "  + 하이퍼 파라미터가 너무 많고, 튜닝을 위한 시간이 많이 소모된다는 단점이 있음\n",
        "  + 하이퍼 파라미터\n",
        "    - n_estimators: 결정 트리의 개수 지정 / 디폴트-10\n",
        "    - max_features: 결정 트리의 max_features와 동일, 디폴트-auto(=sqrt)\n",
        "    - max_depth: 결정트리의 과적합을 개선하기 위해 사용\n",
        "    - min_samples_leaf: 결정트리의 과적합을 개선하기 위해 사용\n",
        "\n",
        "> GridSearchCV를 이용해 랜덤 포레스트의 하이퍼 파라미터 튜닝"
      ],
      "metadata": {
        "id": "LNzhkSgBG7xt"
      }
    },
    {
      "cell_type": "code",
      "source": [
        "from sklearn.model_selection import GridSearchCV\n",
        "\n",
        "params = {\n",
        "    'max_depth': [8, 16, 24],\n",
        "    'min_samples_leaf' : [1, 6, 12],\n",
        "    'min_samples_split' : [2, 8, 16]\n",
        "}\n",
        "# RandomForestClassifier 객체 생성 후 GridSearchCV 수행\n",
        "rf_clf = RandomForestClassifier(n_estimators=100, random_state=0, n_jobs=-1)\n",
        "grid_cv = GridSearchCV(rf_clf , param_grid=params , cv=2, n_jobs=-1 )\n",
        "grid_cv.fit(X_train , y_train)\n",
        "\n",
        "print('최적 하이퍼 파라미터:\\n', grid_cv.best_params_)\n",
        "print('최고 예측 정확도: {0:.4f}'.format(grid_cv.best_score_))"
      ],
      "metadata": {
        "colab": {
          "base_uri": "https://localhost:8080/"
        },
        "id": "ngCDRBkDAa_6",
        "outputId": "1c4eb749-1e6f-4163-d805-fd8c5b994547"
      },
      "execution_count": 19,
      "outputs": [
        {
          "output_type": "stream",
          "name": "stdout",
          "text": [
            "최적 하이퍼 파라미터:\n",
            " {'max_depth': 16, 'min_samples_leaf': 6, 'min_samples_split': 2}\n",
            "최고 예측 정확도: 0.9165\n"
          ]
        }
      ]
    },
    {
      "cell_type": "markdown",
      "source": [
        "> n_estimators 300으로 증가, 최적하 하이퍼 파라미터 데이터로 다시 RandomForestClassifier 학습 후 별도의 테스트 데이터 세트에서 예측 성능 측정"
      ],
      "metadata": {
        "id": "YFMycRJ3H-xI"
      }
    },
    {
      "cell_type": "code",
      "source": [
        "rf_clf1 = RandomForestClassifier(n_estimators=100,  min_samples_leaf=6, max_depth=16, min_samples_split=2, random_state=0)\n",
        "rf_clf1.fit(X_train , y_train)\n",
        "pred = rf_clf1.predict(X_test)\n",
        "print('예측 정확도: {0:.4f}'.format(accuracy_score(y_test , pred)))"
      ],
      "metadata": {
        "colab": {
          "base_uri": "https://localhost:8080/"
        },
        "id": "OamWfpSBHxrg",
        "outputId": "0133d4bc-6c5c-4962-faf8-b610e52a6b6b"
      },
      "execution_count": 20,
      "outputs": [
        {
          "output_type": "stream",
          "name": "stdout",
          "text": [
            "예측 정확도: 0.9260\n"
          ]
        }
      ]
    },
    {
      "cell_type": "markdown",
      "source": [
        "> feature_importances 속성을 이용해 피처의 중요도를 막대그래프로 시각화"
      ],
      "metadata": {
        "id": "q5o_Ef01IOFz"
      }
    },
    {
      "cell_type": "code",
      "source": [
        "import matplotlib.pyplot as plt\n",
        "import seaborn as sns\n",
        "%matplotlib inline\n",
        "\n",
        "ftr_importances_values = rf_clf1.feature_importances_\n",
        "ftr_importances = pd.Series(ftr_importances_values,index=X_train.columns  )\n",
        "ftr_top20 = ftr_importances.sort_values(ascending=False)[:20]\n",
        "\n",
        "plt.figure(figsize=(8,6))\n",
        "plt.title('Feature importances Top 20')\n",
        "sns.barplot(x=ftr_top20 , y = ftr_top20.index)\n",
        "plt.show()"
      ],
      "metadata": {
        "colab": {
          "base_uri": "https://localhost:8080/",
          "height": 390
        },
        "id": "1KJuT42zIb7c",
        "outputId": "b67b38d9-0270-41b4-c2a8-c8160f9fa844"
      },
      "execution_count": 21,
      "outputs": [
        {
          "output_type": "display_data",
          "data": {
            "text/plain": [
              "<Figure size 576x432 with 1 Axes>"
            ],
            "image/png": "[encoded data removed]"
          },
          "metadata": {
            "needs_background": "light"
          }
        }
      ]
    },
    {
      "cell_type": "markdown",
      "source": [
        "###**05. GBM**\n",
        "- 부스팅 알고리즘: 여러 개의 약한 학습기를 순차적으로 학습/예측하면서 잘못 예측한 데이터에 가중치 부여를 통해 오류를 개선해 나가면서 학습하는 방식\n",
        "  + AdBoost: 오류 데이터에 가중치를 부여하면서 부스팅 수행\n",
        "  + 그래디언트 부스트: 에이다부스트와 유사한, 가중치 업데이트를 경사 하강법 이용\n",
        "    > - 경사 하강법: 오류식 h(x) = y - F(x)를 최소화하는 방향으로 가중치를 업데이트\n",
        "    - 분류, 회귀 가능\n",
        "    - 사이킷런에서 GradientBoostingClassifier 클래스 제공"
      ],
      "metadata": {
        "id": "w8y1JJsKIgpn"
      }
    },
    {
      "cell_type": "code",
      "source": [
        "from sklearn.ensemble import GradientBoostingClassifier\n",
        "from sklearn.metrics import accuracy_score\n",
        "import time\n",
        "import warnings\n",
        "warnings.filterwarnings('ignore')\n",
        "\n",
        "X_train, X_test, y_train, y_test = get_human_dataset()\n",
        "\n",
        "# GBM 수행 시간 측정을 위함. 시작 시간 설정.\n",
        "start_time = time.time()\n",
        "\n",
        "gb_clf = GradientBoostingClassifier(random_state=0)\n",
        "gb_clf.fit(X_train , y_train)\n",
        "gb_pred = gb_clf.predict(X_test)\n",
        "gb_accuracy = accuracy_score(y_test, gb_pred)\n",
        "\n",
        "print('GBM 정확도: {0:.4f}'.format(gb_accuracy))\n",
        "print(\"GBM 수행 시간: {0:.1f} 초 \".format(time.time() - start_time))"
      ],
      "metadata": {
        "colab": {
          "base_uri": "https://localhost:8080/"
        },
        "id": "pwoT1cEaKCTw",
        "outputId": "3be34a47-ebcb-4b85-972a-8b17b52e1010"
      },
      "execution_count": 22,
      "outputs": [
        {
          "output_type": "stream",
          "name": "stdout",
          "text": [
            "GBM 정확도: 0.9386\n",
            "GBM 수행 시간: 706.4 초 \n"
          ]
        }
      ]
    },
    {
      "cell_type": "markdown",
      "source": [
        "- GBM 하이퍼 파라미터 및 튜닝\n",
        "  + loss: 경사 하강법에서 사용할 비용 함수 지정 / 디폴트-deviance\n",
        "  + learning_rate: GBM이 학습을 진행할 때마다 적용하는 학습률으로, weak learner가 순차적으로 오류 값을 보정해 나가는데 적용하는 계수 / 디폴트-0.1\n",
        "  + n_estimators: weak learner의 개수 / 디폴트-100\n",
        "  + subsample: weak learner가 학습에 사용하는 데이터의 샘플링 비율 / 디폴트-1\n",
        "\n",
        "\n",
        "> GridSearchCV를 이용한 하이퍼 파라미터 최적화"
      ],
      "metadata": {
        "id": "V9RXqr8xKLHU"
      }
    },
    {
      "cell_type": "code",
      "source": [
        "from sklearn.model_selection import GridSearchCV\n",
        "\n",
        "params = {\n",
        "    'n_estimators':[100, 500],\n",
        "    'learning_rate' : [ 0.05, 0.1]\n",
        "}\n",
        "grid_cv = GridSearchCV(gb_clf , param_grid=params , cv=2 ,verbose=1)\n",
        "grid_cv.fit(X_train , y_train)\n",
        "print('최적 하이퍼 파라미터:\\n', grid_cv.best_params_)\n",
        "print('최고 예측 정확도: {0:.4f}'.format(grid_cv.best_score_))"
      ],
      "metadata": {
        "colab": {
          "base_uri": "https://localhost:8080/"
        },
        "id": "s_TDQDLrKGg0",
        "outputId": "50a4be24-00d7-4b8e-8a34-32cff7662de4"
      },
      "execution_count": 23,
      "outputs": [
        {
          "output_type": "stream",
          "name": "stdout",
          "text": [
            "Fitting 2 folds for each of 4 candidates, totalling 8 fits\n",
            "최적 하이퍼 파라미터:\n",
            " {'learning_rate': 0.05, 'n_estimators': 500}\n",
            "최고 예측 정확도: 0.9002\n"
          ]
        }
      ]
    },
    {
      "cell_type": "markdown",
      "source": [
        "> 위의 설정을 그대로 테스트 데이터 세트에 적용하여 예측 정확도 확인"
      ],
      "metadata": {
        "id": "NjArgXd-K6ZA"
      }
    },
    {
      "cell_type": "code",
      "source": [
        "# GridSearchCV를 이용하여 최적으로 학습된 estimator로 predict 수행. \n",
        "gb_pred = grid_cv.best_estimator_.predict(X_test)\n",
        "gb_accuracy = accuracy_score(y_test, gb_pred)\n",
        "print('GBM 정확도: {0:.4f}'.format(gb_accuracy))"
      ],
      "metadata": {
        "colab": {
          "base_uri": "https://localhost:8080/"
        },
        "id": "jreiz2GvK5Vl",
        "outputId": "7928c3f7-2bdc-481c-ddbf-8bafdea1cfd2"
      },
      "execution_count": 24,
      "outputs": [
        {
          "output_type": "stream",
          "name": "stdout",
          "text": [
            "GBM 정확도: 0.9393\n"
          ]
        }
      ]
    },
    {
      "cell_type": "markdown",
      "source": [
        "> 예측 성능이 뛰어나지만 수행 시간이 오래걸린다는 단점"
      ],
      "metadata": {
        "id": "1MNFC8F9LAj0"
      }
    }
  ]
}