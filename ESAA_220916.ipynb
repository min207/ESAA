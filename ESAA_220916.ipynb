{
  "nbformat": 4,
  "nbformat_minor": 0,
  "metadata": {
    "colab": {
      "provenance": [],
      "collapsed_sections": [],
      "authorship_tag": "ABX9TyOnGxBP2dSxBpqNERo61VV2",
      "include_colab_link": true
    },
    "kernelspec": {
      "name": "python3",
      "display_name": "Python 3"
    },
    "language_info": {
      "name": "python"
    }
  },
  "cells": [
    {
      "cell_type": "markdown",
      "metadata": {
        "id": "view-in-github",
        "colab_type": "text"
      },
      "source": [
        "<a href=\"https://colab.research.google.com/github/min207/ESAA/blob/main/ESAA_220916.ipynb\" target=\"_parent\"><img src=\"https://colab.research.google.com/assets/colab-badge.svg\" alt=\"Open In Colab\"/></a>"
      ]
    },
    {
      "cell_type": "markdown",
      "source": [
        "\n",
        "# **01. 머신러닝의 개념**\n",
        "---\n",
        "- **머신러닝**: 애플리케이션을 수정하지 않고도 데이터를 기반으로 패턴을 학습하고 결과를 예측하는 알고리즘 기법\n",
        "- 소프트웨어 코드로 로직을 구성하여 일정한 패턴을 찾기 어려운 경우, 데이터를 기반으로 숨겨진 패턴을 인지해 머신러닝으로 해결 가능\n",
        "- 데이터 마이닝, 영상/음성 인식, 자연어 처리 등 난이도와 개발 복잡도가 너무 높아지는 문제를 해결 가능\n",
        "\n",
        "#### **> 머신러닝의 분류**\n",
        "- **지도학습**\n",
        "  + 분류\n",
        "  + 회귀\n",
        "  + 추천 시스템\n",
        "  + 시각/음성 감지/인지\n",
        "  + 텍스트 분석, NLP\n",
        "\n",
        "- **비지도학습**\n",
        "  + 클러스터링\n",
        "  + 차원 축소\n",
        "\n",
        "- **강화 학습**\n",
        "\n",
        "#### **> 데이터 전쟁**\n",
        "- 머신러닝은 데이터에 매우 의존적이라는 단점이 있음\n",
        "  - Garbage in, garbage out\n",
        "- 따라서 데이터를 이해하고 효율적으로 가공, 처리, 추출하여 최적의 데이터를 기반으로 알고리즘을 구동할 수 있도록 준비하는 능력이 중요함\n",
        "\n",
        "#### **> 파이썬과 R 기반의 머신러닝 비교**\n",
        "- R\n",
        "  + 통계 전용 프로그램 언어\n",
        "  + 다양하고 많은 통계 패키지 보유\n",
        "\n",
        "- 파이썬\n",
        "  + 다양한 영역에서 사용되는 개발 전문 프로그램 언어\n",
        "  + 유수의 딥러닝 프레임워크인 텐서플로, 케라스, 파이토치 등 지원\n",
        "\n",
        "\n",
        "\n",
        "# **02. 파이썬 머신러닝 생태계를 구성하는 주요 패키지**\n",
        "- 머신러닝 패키지: 사이킷런, 텐서플로, 케라스 등\n",
        "- 행렬/선형대수/통계 패키지: 넘파이, 사이파이 등\n",
        "- 데이터 핸들링: 판다스 등\n",
        "- 시각화: 맷플롯립, 시본 등\n",
        "\n",
        "\n",
        "\n",
        "# **03. 넘파이(NumPy)**\n",
        "- Numerical Python\n",
        "- 파이썬에서 선형대수 기반의 프로그램을 쉽게 만들 수 있도록 지원하는 패키지\n",
        "- 루프 없이 대량 데이터의 배열 연산 가능/ 데이터 핸들링 기능 제공\n",
        "---\n",
        "#### **넘파이 ndarray 개요**\n",
        "- 넘파이 모듈 임포트\n",
        "```python\n",
        "import numpy as np\n",
        "```\n",
        "  + 넘파이 모듈 임포트 / np(약어)로 표현\n",
        "  + 넘파이의 기반 데이터 타입: ndarray\n",
        "  + 다차원 배열을 쉽게 생성하고 다양한 연산 수행 가능\n",
        "\n",
        "- array() 함수\n",
        "  + 다양한 인자를 입력 받아서 ndarray로 변환\n",
        "  + ndarray의 shape 변수는 ndarray의 차원과 크기, 열과 행을 튜플 형태로 나타냄\n",
        "```python\n",
        "array1 = np.array([element1, element2])\n",
        "```"
      ],
      "metadata": {
        "id": "XTd8NuecN4WG"
      }
    },
    {
      "cell_type": "code",
      "source": [
        "import numpy as np\n",
        "\n",
        "array1 = np.array([1,2,3]) # 1X3 배열\n",
        "print('array1 type: ', type(array1))\n",
        "print('array1 array 형태: ', array1.shape)  #row 1개, column 3개, 1차원 데이터\n",
        "\n",
        "array2 = np.array([[1,2,3],[2,3,4]]) # 2X3 배열\n",
        "print('array2 type: ', type(array2))\n",
        "print('array2 array 형태: ', array2.shape) #row 1개, column 3개, 1차원 데이터\n",
        "\n",
        "array3 = np.array([[1,2,3]]) # 1X3 배열. 대괄호가 2개\n",
        "print('array3 type: ', type(array3))\n",
        "print('array3 array 형태: ', array3.shape) # row 1개, column 3개, 2차원 데이터"
      ],
      "metadata": {
        "colab": {
          "base_uri": "https://localhost:8080/"
        },
        "id": "g0E0bcHOjgxl",
        "outputId": "3781c2dc-0d47-4ac7-dd23-26b2f96f628e"
      },
      "execution_count": 1,
      "outputs": [
        {
          "output_type": "stream",
          "name": "stdout",
          "text": [
            "array1 type:  <class 'numpy.ndarray'>\n",
            "array1 array 형태:  (3,)\n",
            "array2 type:  <class 'numpy.ndarray'>\n",
            "array2 array 형태:  (2, 3)\n",
            "array3 type:  <class 'numpy.ndarray'>\n",
            "array3 array 형태:  (1, 3)\n"
          ]
        }
      ]
    },
    {
      "cell_type": "markdown",
      "source": [
        "  - 이때, 각 array의 차원을 ndarray.ndim을 이용해 확인 가능"
      ],
      "metadata": {
        "id": "gZPE7LdIjtfq"
      }
    },
    {
      "cell_type": "code",
      "source": [
        "print('array1: {:0}차원, array2: {:1}차원, array3: {:2}차원'.format(array1.ndim, array2.ndim, array3.ndim))"
      ],
      "metadata": {
        "colab": {
          "base_uri": "https://localhost:8080/"
        },
        "id": "rkTV812ej4Wf",
        "outputId": "d58d091f-b61d-4e2a-cc99-5c967a326ac4"
      },
      "execution_count": 2,
      "outputs": [
        {
          "output_type": "stream",
          "name": "stdout",
          "text": [
            "array1: 1차원, array2: 2차원, array3:  2차원\n"
          ]
        }
      ]
    },
    {
      "cell_type": "markdown",
      "source": [
        "#### **ndarray의 데이터 타입**\n",
        "- ndarray내의 데이터 값은 숫자, 문자열, 불 값 등 모두 가능\n",
        "- ndarray내의 데이터 타입은 연산의 특성상 같은 데이터 타입만 가능\n",
        "- ndarray내의 데이터 타입은 dtype 속성으로 확인 가능"
      ],
      "metadata": {
        "id": "VblMDF0ukQmB"
      }
    },
    {
      "cell_type": "code",
      "source": [
        "list1 = [1, 2, 3]\n",
        "print(type(list1))\n",
        "array1 = np.array(list1)\n",
        "print(type(array1))\n",
        "print(array1, array1.dtype)"
      ],
      "metadata": {
        "colab": {
          "base_uri": "https://localhost:8080/"
        },
        "id": "toyTMR-sltqN",
        "outputId": "a6fe0be8-08c8-4e3d-a2ab-7be139c719a0"
      },
      "execution_count": 3,
      "outputs": [
        {
          "output_type": "stream",
          "name": "stdout",
          "text": [
            "<class 'list'>\n",
            "<class 'numpy.ndarray'>\n",
            "[1 2 3] int64\n"
          ]
        }
      ]
    },
    {
      "cell_type": "markdown",
      "source": [
        "- 다른 데이터 유형이 섞여 있는 리스트를 ndarray로 변경하면 데이터 크기가 더 큰 데이터 타입으로 형 변환을 일괄 적용"
      ],
      "metadata": {
        "id": "cVfcktGEmJX_"
      }
    },
    {
      "cell_type": "code",
      "source": [
        "list2 = [1, 2, 'test']\n",
        "array2 = np.array(list2)\n",
        "print(array2, array2.dtype) #숫자형 값을 모두 문자열 값으로 변환\n",
        "\n",
        "list3 = [1, 2, 3.0]\n",
        "array3 = np.array(list3)\n",
        "print(array3, array3.dtype) #int가 float로 변환"
      ],
      "metadata": {
        "colab": {
          "base_uri": "https://localhost:8080/"
        },
        "id": "bdJSwpRvmI6P",
        "outputId": "c8f933b9-f3c4-4a7e-ba33-30714d8ad00e"
      },
      "execution_count": 4,
      "outputs": [
        {
          "output_type": "stream",
          "name": "stdout",
          "text": [
            "['1' '2' 'test'] <U21\n",
            "[1. 2. 3.] float64\n"
          ]
        }
      ]
    },
    {
      "cell_type": "markdown",
      "source": [
        "- asype() 메서드\n",
        "  + ndarray 내 데이터값의 타입 변경\n",
        "  + 인자로 원하는 타입을 문자열로 지정\n",
        "  + 메모리 절약하는 데에 주로 사용"
      ],
      "metadata": {
        "id": "wT73VqK7m4uO"
      }
    },
    {
      "cell_type": "code",
      "source": [
        "array_int = np.array([1, 2, 3])\n",
        "array_float = array_int.astype('float64')\n",
        "print(array_float, array_float.dtype)\n",
        "\n",
        "array_int1 = array_float.astype('int32')\n",
        "print(array_int1, array_int1.dtype)\n",
        "\n",
        "array_float1 = np.array([1.1, 2.1, 3.1])\n",
        "array_int2 = array_float1.astype('int32')\n",
        "print(array_int2, array_int2.dtype)"
      ],
      "metadata": {
        "colab": {
          "base_uri": "https://localhost:8080/"
        },
        "id": "eqYyZYU-m4_E",
        "outputId": "1def4ac3-698d-4803-8ce9-7ffd05c15f15"
      },
      "execution_count": 5,
      "outputs": [
        {
          "output_type": "stream",
          "name": "stdout",
          "text": [
            "[1. 2. 3.] float64\n",
            "[1 2 3] int32\n",
            "[1 2 3] int32\n"
          ]
        }
      ]
    },
    {
      "cell_type": "markdown",
      "source": [
        "#### **ndarray를 편리하게 생성하기 - arange, zeros, ones**\n",
        "\n",
        "- arange() 함수\n",
        "  + range() 함수와 유사한 기능\n",
        "  + 0부터 함수 인자 값 -1까지의 값을 순차적으로 ndarray의 데이터값으로 변환\n",
        "\n",
        "- zeros() 함수\n",
        "  + 함수 인자로 튜플 형태의 shape 값을 입력하면 모든 값을 0으로 채운 해당 shape를 가진 ndarray 반환\n",
        "\n",
        "- ones() 함수\n",
        "  + 함수 인자로 튜플 형태의 shape 값을 입력하면 모든 값을 1로 채운 해당 shape를 가진 ndarray 반환\n",
        "  + dtype을 지정하지 않으면 float64형의 데이터를 기본값으로 가짐"
      ],
      "metadata": {
        "id": "5Oc83ALKnwFI"
      }
    },
    {
      "cell_type": "code",
      "source": [
        "sequence_array = np.arange(10)\n",
        "print(sequence_array)\n",
        "print(sequence_array.dtype, sequence_array.shape)\n",
        "\n",
        "zero_array = np.zeros((3,2), dtype ='int32')\n",
        "print(zero_array)\n",
        "print(zero_array.dtype, zero_array.shape)\n",
        "\n",
        "one_array = np.ones((3,2))\n",
        "print(one_array)\n",
        "print(one_array.dtype, one_array.shape)"
      ],
      "metadata": {
        "colab": {
          "base_uri": "https://localhost:8080/"
        },
        "id": "V8j_oP8somj7",
        "outputId": "5fb80bc6-4332-4eb7-d129-20b1dfe5f74d"
      },
      "execution_count": 9,
      "outputs": [
        {
          "output_type": "stream",
          "name": "stdout",
          "text": [
            "[0 1 2 3 4 5 6 7 8 9]\n",
            "int64 (10,)\n",
            "[[0 0]\n",
            " [0 0]\n",
            " [0 0]]\n",
            "int32 (3, 2)\n",
            "[[1. 1.]\n",
            " [1. 1.]\n",
            " [1. 1.]]\n",
            "float64 (3, 2)\n"
          ]
        }
      ]
    },
    {
      "cell_type": "markdown",
      "source": [
        "#### **ndarray의 차원과 크기 변경**\n",
        "- reshpae() 메서드\n",
        "  + ndarray를 특정 차원 및 크기로 변환\n",
        "  + 지정된 사이즈로 변경 불가 시 오류 발생\n",
        "  + 인자로 -1을 사용하여 자동으로 지정값에 알맞는 행 또는 열이 되게하여 효율적인 사용 가능"
      ],
      "metadata": {
        "id": "FqxLx-BppTnU"
      }
    },
    {
      "cell_type": "code",
      "source": [
        "array1 = np.arange(10)\n",
        "print('array1:\\n', array1)\n",
        "\n",
        "array2 = array1.reshape(2,5)\n",
        "print('array2:\\n', array2)\n",
        "\n",
        "array3 = array1.reshape(5,2)\n",
        "print('array3:\\n', array3)"
      ],
      "metadata": {
        "colab": {
          "base_uri": "https://localhost:8080/"
        },
        "id": "xZakqwBuphhh",
        "outputId": "aeabe3bd-5349-4899-8007-f6b634157feb"
      },
      "execution_count": 10,
      "outputs": [
        {
          "output_type": "stream",
          "name": "stdout",
          "text": [
            "array1:\n",
            " [0 1 2 3 4 5 6 7 8 9]\n",
            "array2:\n",
            " [[0 1 2 3 4]\n",
            " [5 6 7 8 9]]\n",
            "array3:\n",
            " [[0 1]\n",
            " [2 3]\n",
            " [4 5]\n",
            " [6 7]\n",
            " [8 9]]\n"
          ]
        }
      ]
    },
    {
      "cell_type": "code",
      "source": [
        "array1. reshpae(4,3)  #오류 발생"
      ],
      "metadata": {
        "colab": {
          "base_uri": "https://localhost:8080/",
          "height": 174
        },
        "id": "igfaP6GgpR97",
        "outputId": "5b2ebbcb-13c4-4129-e17c-d8211a534a9a"
      },
      "execution_count": 11,
      "outputs": [
        {
          "output_type": "error",
          "ename": "AttributeError",
          "evalue": "ignored",
          "traceback": [
            "\u001b[0;31m---------------------------------------------------------------------------\u001b[0m",
            "\u001b[0;31mAttributeError\u001b[0m                            Traceback (most recent call last)",
            "\u001b[0;32m<ipython-input-11-564cf715e343>\u001b[0m in \u001b[0;36m<module>\u001b[0;34m\u001b[0m\n\u001b[0;32m----> 1\u001b[0;31m \u001b[0marray1\u001b[0m\u001b[0;34m.\u001b[0m \u001b[0mreshpae\u001b[0m\u001b[0;34m(\u001b[0m\u001b[0;36m4\u001b[0m\u001b[0;34m,\u001b[0m\u001b[0;36m3\u001b[0m\u001b[0;34m)\u001b[0m\u001b[0;34m\u001b[0m\u001b[0;34m\u001b[0m\u001b[0m\n\u001b[0m",
            "\u001b[0;31mAttributeError\u001b[0m: 'numpy.ndarray' object has no attribute 'reshpae'"
          ]
        }
      ]
    },
    {
      "cell_type": "code",
      "source": [
        "array1 = np.arange(10)\n",
        "print(array1)\n",
        "array2 = array1.reshape(-1,5)\n",
        "print('array2 shape:', array2.shape)\n",
        "array3 = array1.reshape(5,-1)\n",
        "print('array3 shape:', array3.shape)"
      ],
      "metadata": {
        "colab": {
          "base_uri": "https://localhost:8080/"
        },
        "id": "pieBmmefqGyW",
        "outputId": "cf75794e-bcaa-4a55-b78a-3eeef086c5aa"
      },
      "execution_count": 12,
      "outputs": [
        {
          "output_type": "stream",
          "name": "stdout",
          "text": [
            "[0 1 2 3 4 5 6 7 8 9]\n",
            "array2 shape: (2, 5)\n",
            "array3 shape: (5, 2)\n"
          ]
        }
      ]
    },
    {
      "cell_type": "code",
      "source": [
        "array1 = np.arange(10)\n",
        "array4 = array1.reshape(-1,4)   #10은 4로 나누어떨어지지 않아서 오류 발생"
      ],
      "metadata": {
        "colab": {
          "base_uri": "https://localhost:8080/",
          "height": 193
        },
        "id": "xrJbYKYPqk-S",
        "outputId": "48ce6bc6-7059-4dc6-c318-af22cfdc1d46"
      },
      "execution_count": 13,
      "outputs": [
        {
          "output_type": "error",
          "ename": "ValueError",
          "evalue": "ignored",
          "traceback": [
            "\u001b[0;31m---------------------------------------------------------------------------\u001b[0m",
            "\u001b[0;31mValueError\u001b[0m                                Traceback (most recent call last)",
            "\u001b[0;32m<ipython-input-13-731deaddcc04>\u001b[0m in \u001b[0;36m<module>\u001b[0;34m\u001b[0m\n\u001b[1;32m      1\u001b[0m \u001b[0marray1\u001b[0m \u001b[0;34m=\u001b[0m \u001b[0mnp\u001b[0m\u001b[0;34m.\u001b[0m\u001b[0marange\u001b[0m\u001b[0;34m(\u001b[0m\u001b[0;36m10\u001b[0m\u001b[0;34m)\u001b[0m\u001b[0;34m\u001b[0m\u001b[0;34m\u001b[0m\u001b[0m\n\u001b[0;32m----> 2\u001b[0;31m \u001b[0marray4\u001b[0m \u001b[0;34m=\u001b[0m \u001b[0marray1\u001b[0m\u001b[0;34m.\u001b[0m\u001b[0mreshape\u001b[0m\u001b[0;34m(\u001b[0m\u001b[0;34m-\u001b[0m\u001b[0;36m1\u001b[0m\u001b[0;34m,\u001b[0m\u001b[0;36m4\u001b[0m\u001b[0;34m)\u001b[0m   \u001b[0;31m#10은 4로 나누어떨어지지 않아서 오류 발생\u001b[0m\u001b[0;34m\u001b[0m\u001b[0;34m\u001b[0m\u001b[0m\n\u001b[0m",
            "\u001b[0;31mValueError\u001b[0m: cannot reshape array of size 10 into shape (4)"
          ]
        }
      ]
    },
    {
      "cell_type": "markdown",
      "source": [
        "- 원본 ndarray가 어떤 형태라도 reshape(-1,1)는 2차원이고 column이 1개인 ndarray로 변환\n",
        "  + stack이나 concat으로 여러 개의 ndarray를 결합할 때, ndarray의 형태를 통일하기 위해 유용하게 사용 가능"
      ],
      "metadata": {
        "id": "arUKW2jgq_Dj"
      }
    },
    {
      "cell_type": "code",
      "source": [
        "array1 = np.arange(8)\n",
        "array3d = array1.reshape((2,2,2)) # 3차원 배열\n",
        "print('array3d: \\n', array3d.tolist())\n",
        "\n",
        "# 3차원 ndarray를 2차원으로 변환\n",
        "array5 = array3d.reshape(-1,1)\n",
        "print('array5 : \\n', array5.tolist()) # list로 변경\n",
        "print('array5 shape:', array5.shape)\n",
        "print()\n",
        "# 1차원 ndarray를 2차원으로 변환\n",
        "array6 = array1.reshape(-1,1)\n",
        "print('array6 : \\n', array6.tolist()) # list로 변경\n",
        "print('array6 shape:', array6.shape)"
      ],
      "metadata": {
        "colab": {
          "base_uri": "https://localhost:8080/"
        },
        "id": "vLJ2Ngbkq-E_",
        "outputId": "b33bef29-3782-4b7f-d32c-eba551240430"
      },
      "execution_count": 14,
      "outputs": [
        {
          "output_type": "stream",
          "name": "stdout",
          "text": [
            "array3d: \n",
            " [[[0, 1], [2, 3]], [[4, 5], [6, 7]]]\n",
            "array5 : \n",
            " [[0], [1], [2], [3], [4], [5], [6], [7]]\n",
            "array5 shape: (8, 1)\n",
            "\n",
            "array6 : \n",
            " [[0], [1], [2], [3], [4], [5], [6], [7]]\n",
            "array6 shape: (8, 1)\n"
          ]
        }
      ]
    },
    {
      "cell_type": "markdown",
      "source": [
        "#### **넘파이의 ndarray의 데이터 세트 선택하기 - 인덱싱**\n",
        "- 특정 데이터만 추출\n",
        "```python\n",
        "value = array[i]\n",
        "```\n",
        "  + 인덱스 값을 지정하면 해당 위치의 데이터 반환\n",
        "  + 인덱스는 0부터 시작 / -1은 맨 뒤의 값을 의미\n",
        "  + 단일 인덱스를 이용해 ndarray 내의 데이터값 수정 가능"
      ],
      "metadata": {
        "id": "ufKtRDuisszb"
      }
    },
    {
      "cell_type": "code",
      "source": [
        "# 1부터 9까지의 1차원 ndarray 생성\n",
        "array1 = np.arange(start=1, stop=10)\n",
        "print('array1:', array1)\n",
        "\n",
        "#index는 0부터 시작하므로 array1[2]는 3번째 index 위치의 데이터값을 의미\n",
        "value = array1[2]\n",
        "print('value:', value)\n",
        "print(type(value))\n",
        "\n",
        "print('맨 뒤의 값:',array1[-1],'맨 뒤에서 두 번째 값:',array1[-2])"
      ],
      "metadata": {
        "colab": {
          "base_uri": "https://localhost:8080/"
        },
        "id": "6pB7xkfdtg5J",
        "outputId": "6c8f23bc-2cd6-423b-aefd-29c1a7031271"
      },
      "execution_count": 16,
      "outputs": [
        {
          "output_type": "stream",
          "name": "stdout",
          "text": [
            "array1: [1 2 3 4 5 6 7 8 9]\n",
            "value: 3\n",
            "<class 'numpy.int64'>\n",
            "맨 뒤의 값: 9 맨 뒤에서 두 번째 값: 8\n"
          ]
        }
      ]
    },
    {
      "cell_type": "code",
      "source": [
        "#ndarrya 내의 데이터 값 수정\n",
        "array1[0] = 9\n",
        "array1[8] = 0\n",
        "print('array1:', array1)"
      ],
      "metadata": {
        "colab": {
          "base_uri": "https://localhost:8080/"
        },
        "id": "CQ_EFBNaurbE",
        "outputId": "4633f3f2-6e8b-41b3-8a68-e6493e5cba9c"
      },
      "execution_count": 17,
      "outputs": [
        {
          "output_type": "stream",
          "name": "stdout",
          "text": [
            "array1: [9 2 3 4 5 6 7 8 0]\n"
          ]
        }
      ]
    },
    {
      "cell_type": "code",
      "source": [
        "# n차원 ndarray에서 단일 값 추출(n이 2 이상일 때)\n",
        "array1d = np.arange(start = 1, stop = 10)\n",
        "array2d = array1d.reshape(3,3)\n",
        "print(array2d)\n",
        "\n",
        "# axis 0 : row 방향, axis 1 : column 방향\n",
        "print('(row=0, col=0) index가 가리키는 값 : ', array2d[0,0])\n",
        "print('(row=0, col=1) index가 가리키는 값 : ', array2d[0,1])\n",
        "print('(row=1, col=0) index가 가리키는 값 : ', array2d[1,0])\n",
        "print('(row=2, col=2) index가 가리키는 값 : ', array2d[2,2])"
      ],
      "metadata": {
        "colab": {
          "base_uri": "https://localhost:8080/"
        },
        "id": "IAErx6NOu_hk",
        "outputId": "0b6e2547-e7b5-4a8a-a797-5c5e9a1a605f"
      },
      "execution_count": 18,
      "outputs": [
        {
          "output_type": "stream",
          "name": "stdout",
          "text": [
            "[[1 2 3]\n",
            " [4 5 6]\n",
            " [7 8 9]]\n",
            "(row=0, col=0) index가 가리키는 값 :  1\n",
            "(row=0, col=1) index가 가리키는 값 :  2\n",
            "(row=1, col=0) index가 가리키는 값 :  4\n",
            "(row=2, col=2) index가 가리키는 값 :  9\n"
          ]
        }
      ]
    },
    {
      "cell_type": "markdown",
      "source": [
        "- 슬라이싱\n",
        "```python\n",
        "array2 = array1[a:b]\n",
        "```\n",
        "  + 연속된 인덱스상의 ndarray를 추출\n",
        "  + 시작 인덱스에서 종료 인덱스-1 위치에 있는 데이터 반환\n",
        "  + 시작, 종료 인덱스는 생략 가능\n",
        "  + 2차원 ndarray에서는 ,를 사용해 row, col 각각의 인덱스에 슬라이싱 적용"
      ],
      "metadata": {
        "id": "nP8z3xHKtgm1"
      }
    },
    {
      "cell_type": "code",
      "source": [
        "from numpy.core.getlimits import array\n",
        "array1 = np.arange(start=1, stop=10)\n",
        "array3 = array1[0:3]\n",
        "print(array3)\n",
        "print(type(array3))"
      ],
      "metadata": {
        "colab": {
          "base_uri": "https://localhost:8080/"
        },
        "id": "cp-KT8aIthto",
        "outputId": "7d017484-178c-4053-e227-a578bcf640e2"
      },
      "execution_count": 20,
      "outputs": [
        {
          "output_type": "stream",
          "name": "stdout",
          "text": [
            "[1 2 3]\n",
            "<class 'numpy.ndarray'>\n"
          ]
        }
      ]
    },
    {
      "cell_type": "code",
      "source": [
        "array1 = np.arange(1,10)\n",
        "array4 = array1[:3] #처음부터 세번째 값까지\n",
        "print(array4)\n",
        "\n",
        "array5 = array1[3:] #네번쨰 값부터 끝까지\n",
        "print(array5)\n",
        "\n",
        "array6 = array1[:] #전체 데이터 출력\n",
        "print(array6) "
      ],
      "metadata": {
        "colab": {
          "base_uri": "https://localhost:8080/"
        },
        "id": "JREqxOm9wWwc",
        "outputId": "72350242-2f39-4048-8e78-d498b22794b6"
      },
      "execution_count": 22,
      "outputs": [
        {
          "output_type": "stream",
          "name": "stdout",
          "text": [
            "[1 2 3]\n",
            "[4 5 6 7 8 9]\n",
            "[1 2 3 4 5 6 7 8 9]\n"
          ]
        }
      ]
    },
    {
      "cell_type": "code",
      "source": [
        "# 2차원 ndarray에서의 슬라이싱\n",
        "\n",
        "array1d = np.arange(1,10)\n",
        "array2d = array1d.reshape(3,3)\n",
        "print('array2d : \\n', array2d)\n",
        "\n",
        "print('aarray2d[0:2,0:2] : \\n', array2d[0:2,0:2])\n",
        "print('aarray2d[1:3,1:3] : \\n', array2d[1:3,1:3])\n",
        "print('aarray2d[1:3,:] : \\n', array2d[1:3,:])\n",
        "print('aarray2d[:,:] : \\n', array2d[:,:])\n",
        "print('aarray2d[:2,1:] : \\n', array2d[:2,1:])\n",
        "print('aarray2d[:2,0] : \\n', array2d[:2,0]) #축 한쪽에만 슬라이싱 적용/ 다른 축에는 단일 값 인덱스 적용 가능"
      ],
      "metadata": {
        "colab": {
          "base_uri": "https://localhost:8080/"
        },
        "id": "bK_M0rI-wpWD",
        "outputId": "ba039646-f661-4ca0-a728-0e4248d8735c"
      },
      "execution_count": 23,
      "outputs": [
        {
          "output_type": "stream",
          "name": "stdout",
          "text": [
            "array2d : \n",
            " [[1 2 3]\n",
            " [4 5 6]\n",
            " [7 8 9]]\n",
            "aarray2d[0:2,0:2] : \n",
            " [[1 2]\n",
            " [4 5]]\n",
            "aarray2d[1:3,1:3] : \n",
            " [[5 6]\n",
            " [8 9]]\n",
            "aarray2d[1:3,:] : \n",
            " [[4 5 6]\n",
            " [7 8 9]]\n",
            "aarray2d[:,:] : \n",
            " [[1 2 3]\n",
            " [4 5 6]\n",
            " [7 8 9]]\n",
            "aarray2d[:2,1:] : \n",
            " [[2 3]\n",
            " [5 6]]\n",
            "aarray2d[:2,0] : \n",
            " [1 4]\n"
          ]
        }
      ]
    },
    {
      "cell_type": "code",
      "source": [
        "print(array2d[0]) # 1차원 데이터 반환\n",
        "print(array2d[1])\n",
        "print('aarray2d[0].shape :', array2d[0].shape, 'aarray2d[1].shape :', array2d[1].shape) "
      ],
      "metadata": {
        "colab": {
          "base_uri": "https://localhost:8080/"
        },
        "id": "zl_lKGL4w7k6",
        "outputId": "03a07e2a-e146-4724-b709-c10fcfd8f6eb"
      },
      "execution_count": 24,
      "outputs": [
        {
          "output_type": "stream",
          "name": "stdout",
          "text": [
            "[1 2 3]\n",
            "[4 5 6]\n",
            "aarray2d[0].shape : (3,) aarray2d[1].shape : (3,)\n"
          ]
        }
      ]
    },
    {
      "cell_type": "markdown",
      "source": [
        "- 팬시 인덱싱\n",
        "  + 일정한 인덱싱 집합을 리스트 또는 ndarray 형태로 지정해서 해당 위치의 데이터 반환"
      ],
      "metadata": {
        "id": "oAOe4yi_tiIm"
      }
    },
    {
      "cell_type": "code",
      "source": [
        "array1d = np.arange(start=1, stop=10)\n",
        "array2d = array1d.reshape(3,3)\n",
        "print(array2d)\n",
        "\n",
        "array3 = array2d[[0,1],2]\n",
        "print('array2d[[0,1],2] => ', array3.tolist())\n",
        "\n",
        "array4 = array2d[[0,1],0:2]\n",
        "print('array2d[[0,1],0:2] => ', array4.tolist()) \n",
        "\n",
        "array5 = array2d[[0,1]]\n",
        "print('array2d[[0,1]] => ', array5.tolist()) "
      ],
      "metadata": {
        "colab": {
          "base_uri": "https://localhost:8080/"
        },
        "id": "NznqrhuFtibA",
        "outputId": "3b7d75a4-f720-40ab-dbd0-4bbbc0da98da"
      },
      "execution_count": 25,
      "outputs": [
        {
          "output_type": "stream",
          "name": "stdout",
          "text": [
            "[[1 2 3]\n",
            " [4 5 6]\n",
            " [7 8 9]]\n",
            "array2d[[0,1],2] =>  [3, 6]\n",
            "array2d[[0,1],0:2] =>  [[1, 2], [4, 5]]\n",
            "array2d[[0,1]] =>  [[1, 2, 3], [4, 5, 6]]\n"
          ]
        }
      ]
    },
    {
      "cell_type": "markdown",
      "source": [
        "- 불린 인덱싱\n",
        "  + 조건 필터링과 검색을 동시에 가능\n",
        "  + 특정 조건에 해당하는지 여부인 True/False 값 인덱싱 집합을 기반으로 True에 해당하는 인덱스 위치에 있는 데이터 반환\n",
        "  + 인덱스를 지정하는 [] 내에 조건문을 그대로 기재"
      ],
      "metadata": {
        "id": "wsjg5fLLtip-"
      }
    },
    {
      "cell_type": "code",
      "source": [
        "array1d = np.arange(1,10)\n",
        "\n",
        "array3 = array1d[array1d > 5]\n",
        "print('array1d > 5인 boolean indexing 결과 값 : ', array3)\n",
        "\n",
        "array1d > 5"
      ],
      "metadata": {
        "colab": {
          "base_uri": "https://localhost:8080/"
        },
        "id": "46JR_iVMtjXl",
        "outputId": "b06e1fde-a3ab-479c-fa0c-6e36287d03fd"
      },
      "execution_count": 27,
      "outputs": [
        {
          "output_type": "stream",
          "name": "stdout",
          "text": [
            "array1d > 5인 boolean indexing 결과 값 :  [6 7 8 9]\n"
          ]
        },
        {
          "output_type": "execute_result",
          "data": {
            "text/plain": [
              "array([False, False, False, False, False,  True,  True,  True,  True])"
            ]
          },
          "metadata": {},
          "execution_count": 27
        }
      ]
    },
    {
      "cell_type": "code",
      "source": [
        "boolean_indexes = np.array([False, False, False, False, False, True, True, True, True])\n",
        "array3 = array1d[boolean_indexes]\n",
        "print('boolean 인덱스로 필터링 결과 : ', array3)"
      ],
      "metadata": {
        "colab": {
          "base_uri": "https://localhost:8080/"
        },
        "id": "6Qtdr16PyJlX",
        "outputId": "c12b4cd6-cafb-4451-b30b-b58b534f37ce"
      },
      "execution_count": 28,
      "outputs": [
        {
          "output_type": "stream",
          "name": "stdout",
          "text": [
            "boolean 인덱스로 필터링 결과 :  [6 7 8 9]\n"
          ]
        }
      ]
    },
    {
      "cell_type": "code",
      "source": [
        "# 비교\n",
        "indexes = np.array([5,6,7,8])\n",
        "array4 = array1d[indexes]\n",
        "print('일반 인덱스로 필터링한 결과 : ', array4)"
      ],
      "metadata": {
        "colab": {
          "base_uri": "https://localhost:8080/"
        },
        "id": "F2Gt-zW4yLew",
        "outputId": "489e4b35-8928-4300-ccf8-4f0b23485975"
      },
      "execution_count": 29,
      "outputs": [
        {
          "output_type": "stream",
          "name": "stdout",
          "text": [
            "일반 인덱스로 필터링한 결과 :  [6 7 8 9]\n"
          ]
        }
      ]
    },
    {
      "cell_type": "markdown",
      "source": [
        "#### **행렬의 정렬 - sort()와 argsort()**\n",
        "- 행렬 정렬 - sort()\n",
        "  + np.sort()\n",
        "    - 원 행렬 유지, 정렬된 행렬 반환\n",
        "  + ndarray.sort()\n",
        "    - 원 행렬 자체를 정렬된 형태로 변환, 반환 값 None\n",
        "  + 오름차순이 기본 / 내림차순 정렬 np.sort()[::-1]\n",
        "  + 행렬이 2차원 이상인 경우, axis 축 값 설정을 통해 row, col방향으로 정렬 수행"
      ],
      "metadata": {
        "id": "AypBRQflySbo"
      }
    },
    {
      "cell_type": "code",
      "source": [
        "org_array = np.array([3,1,9,5])\n",
        "print('원본 행렬 : ', org_array)\n",
        "\n",
        "# np.sort()로 정렬\n",
        "sort_array1 = np.sort(org_array)\n",
        "print('np.sort() 호출 후 반환된 정렬 행렬', sort_array1)\n",
        "print('np.sort() 호출 후 원본 행렬', org_array)\n",
        "\n",
        "# ndarray.sort()로 정렬\n",
        "sort_array2 = org_array.sort()\n",
        "print('org_array.sort() 호출 후 반환된 정렬 행렬', sort_array2)\n",
        "print('org_array.sort() 호출 후 원본 행렬', org_array)"
      ],
      "metadata": {
        "colab": {
          "base_uri": "https://localhost:8080/"
        },
        "id": "m-yIMp5a1d8D",
        "outputId": "8347c7b8-d461-4955-9000-1649c45509da"
      },
      "execution_count": 30,
      "outputs": [
        {
          "output_type": "stream",
          "name": "stdout",
          "text": [
            "원본 행렬 :  [3 1 9 5]\n",
            "np.sort() 호출 후 반환된 정렬 행렬 [1 3 5 9]\n",
            "np.sort() 호출 후 원본 행렬 [3 1 9 5]\n",
            "org_array.sort() 호출 후 반환된 정렬 행렬 None\n",
            "org_array.sort() 호출 후 원본 행렬 [1 3 5 9]\n"
          ]
        }
      ]
    },
    {
      "cell_type": "code",
      "source": [
        "sort_array1_desc = np.sort(org_array)[::-1]\n",
        "print('내림차순으로 정렬:', sort_array1_desc)"
      ],
      "metadata": {
        "colab": {
          "base_uri": "https://localhost:8080/"
        },
        "id": "It3mhN7K11mw",
        "outputId": "7397d11a-173d-4408-d3a6-883898227213"
      },
      "execution_count": 31,
      "outputs": [
        {
          "output_type": "stream",
          "name": "stdout",
          "text": [
            "내림차순으로 정렬: [9 5 3 1]\n"
          ]
        }
      ]
    },
    {
      "cell_type": "code",
      "source": [
        "#2차원 행렬일 경우\n",
        "array2d = np.array([[8,12],\n",
        "                    [7,1]])\n",
        "sort_array2d_axis0 = np.sort(array2d, axis = 0)\n",
        "print('row 방향으로 정렬:\\n', sort_array2d_axis0)\n",
        "\n",
        "sort_array2d_axis1 = np.sort(array2d, axis = 1)\n",
        "print('column 방향으로 정렬:\\n', sort_array2d_axis1)"
      ],
      "metadata": {
        "colab": {
          "base_uri": "https://localhost:8080/"
        },
        "id": "MjgBlCAb2P4I",
        "outputId": "f29e0436-ad0d-4a43-d18c-247d4381654c"
      },
      "execution_count": 32,
      "outputs": [
        {
          "output_type": "stream",
          "name": "stdout",
          "text": [
            "row 방향으로 정렬:\n",
            " [[ 7  1]\n",
            " [ 8 12]]\n",
            "column 방향으로 정렬:\n",
            " [[ 8 12]\n",
            " [ 1  7]]\n"
          ]
        }
      ]
    },
    {
      "cell_type": "markdown",
      "source": [
        "- 정렬된 행렬의 인덱스 반환하기 - np.argsort()\n",
        "  + 정렬 행렬의 원본 행렬 인덱스를 ndarray형으로 반환\n",
        "  + 기본은 오름차순 / 내림차순 np.argsort()[::-1]\n",
        "  + ndarray는 메타 데이터를 가질 수 없음. 따라서 별도의 ndarray가 필요한데, 이때 argsort()를 활용하면 편리함\n",
        "\n"
      ],
      "metadata": {
        "id": "l-znWjvr1mlp"
      }
    },
    {
      "cell_type": "code",
      "source": [
        "org_array = np.array([3,1,9,5])\n",
        "sort_indices = np.argsort(org_array)\n",
        "print(type(sort_indices))\n",
        "print('행렬 정렬 시 원본 행렬의 인덱스 :', sort_indices)\n",
        "print(org_array) # 원본 행렬은 변하지 않음."
      ],
      "metadata": {
        "colab": {
          "base_uri": "https://localhost:8080/"
        },
        "id": "D8kccNZr2s4i",
        "outputId": "c062d78c-1063-4fe1-dcaa-2817cb7be57a"
      },
      "execution_count": 33,
      "outputs": [
        {
          "output_type": "stream",
          "name": "stdout",
          "text": [
            "<class 'numpy.ndarray'>\n",
            "행렬 정렬 시 원본 행렬의 인덱스 : [1 0 3 2]\n",
            "[3 1 9 5]\n"
          ]
        }
      ]
    },
    {
      "cell_type": "code",
      "source": [
        "org_array = np.array([3,1,9,5])\n",
        "sort_indices_desc = np.argsort(org_array)[::-1]\n",
        "print('행렬 내림차순 정렬 시 원본 행렬의 인덱스 :', sort_indices_desc)"
      ],
      "metadata": {
        "colab": {
          "base_uri": "https://localhost:8080/"
        },
        "id": "jE_y4iu-21mJ",
        "outputId": "906598f8-5f20-4b2e-b3f4-1a84c4f96061"
      },
      "execution_count": 34,
      "outputs": [
        {
          "output_type": "stream",
          "name": "stdout",
          "text": [
            "행렬 내림차순 정렬 시 원본 행렬의 인덱스 : [2 3 0 1]\n"
          ]
        }
      ]
    },
    {
      "cell_type": "code",
      "source": [
        "# argsort()활용 예시\n",
        "import numpy as np\n",
        "\n",
        "name_array = np.array(['John', 'Mike', 'Sarah', 'Kate', 'Samuel'])\n",
        "score_array = np.array([78, 95, 84, 98, 88])\n",
        "\n",
        "sort_indices_asc = np.argsort(score_array)\n",
        "print('성적 오름차순 정렬 시 score_array의 인덱스', sort_indices_asc)\n",
        "print('성적 오름차순으로 name_array의 이름 출력', name_array[sort_indices_asc])"
      ],
      "metadata": {
        "colab": {
          "base_uri": "https://localhost:8080/"
        },
        "id": "6t55oJOy3OM5",
        "outputId": "684dee59-9288-44bd-f2f5-86a5008ca550"
      },
      "execution_count": 35,
      "outputs": [
        {
          "output_type": "stream",
          "name": "stdout",
          "text": [
            "성적 오름차순 정렬 시 score_array의 인덱스 [0 2 4 1 3]\n",
            "성적 오름차순으로 name_array의 이름 출력 ['John' 'Sarah' 'Samuel' 'Mike' 'Kate']\n"
          ]
        }
      ]
    },
    {
      "cell_type": "markdown",
      "source": [
        "#### **선형대수 연산 - 행렬 내적과 전치 행렬 구하기**\n",
        "- 행렬 내적(행렬 곱) - np.dot()\n",
        "  + 내적: 왼쪽 행렬의 행과 오른쪽 행렬의 열의 원소들을 순차적으로 곱한 뒤 그 결과를 모두 더한 값\n",
        "  + 왼쪽 행렬의 열 개수와 오른쪽 행렬의 행 개수가 동일해야 연산 가능"
      ],
      "metadata": {
        "id": "Eo7uOP5q3Uwl"
      }
    },
    {
      "cell_type": "code",
      "source": [
        "A = np.array([[1,2,3],\n",
        "              [4,5,6]])\n",
        "B = np.array([[7,8],\n",
        "              [9,10],\n",
        "              [11,12]])\n",
        "dot_product = np.dot(A,B)\n",
        "print('행렬 곱 결과: \\n', dot_product)"
      ],
      "metadata": {
        "colab": {
          "base_uri": "https://localhost:8080/"
        },
        "id": "yc5D82lF3y6s",
        "outputId": "4c0c9260-9379-4d8b-ee67-9f039537c9c2"
      },
      "execution_count": 36,
      "outputs": [
        {
          "output_type": "stream",
          "name": "stdout",
          "text": [
            "행렬 곱 결과: \n",
            " [[ 58  64]\n",
            " [139 154]]\n"
          ]
        }
      ]
    },
    {
      "cell_type": "markdown",
      "source": [
        "- 전치 행렬 - transpose()\n",
        "  + 원 행렬에서 행과 열 위치를 교환한 원소로 구성한 행렬"
      ],
      "metadata": {
        "id": "XG5r3KmZ333h"
      }
    },
    {
      "cell_type": "code",
      "source": [
        "A = np.array([[1,2],\n",
        "              [3,4]])\n",
        "transpose_mat = np.transpose(A)\n",
        "print('A의 전치행렬: \\n', transpose_mat)"
      ],
      "metadata": {
        "colab": {
          "base_uri": "https://localhost:8080/"
        },
        "id": "1mtJxCXl33WM",
        "outputId": "828444aa-1385-4dba-d7a4-925f54e5eba7"
      },
      "execution_count": 37,
      "outputs": [
        {
          "output_type": "stream",
          "name": "stdout",
          "text": [
            "A의 전치행렬: \n",
            " [[1 3]\n",
            " [2 4]]\n"
          ]
        }
      ]
    }
  ]
}