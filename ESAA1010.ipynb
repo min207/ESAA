{
  "nbformat": 4,
  "nbformat_minor": 0,
  "metadata": {
    "colab": {
      "provenance": [],
      "collapsed_sections": [],
      "authorship_tag": "ABX9TyO/Px8XSTD8PugEQV9pAJIO",
      "include_colab_link": true
    },
    "kernelspec": {
      "name": "python3",
      "display_name": "Python 3"
    },
    "language_info": {
      "name": "python"
    }
  },
  "cells": [
    {
      "cell_type": "markdown",
      "metadata": {
        "id": "view-in-github",
        "colab_type": "text"
      },
      "source": [
        "<a href=\"https://colab.research.google.com/github/min207/ESAA/blob/main/ESAA1010.ipynb\" target=\"_parent\"><img src=\"https://colab.research.google.com/assets/colab-badge.svg\" alt=\"Open In Colab\"/></a>"
      ]
    },
    {
      "cell_type": "markdown",
      "source": [
        "# **datetime 오브젝트**\n",
        "\n",
        "- datetime 라이브러리: 날짜와 시간을 처리하는 등의 다양한 기능을 제공하는 파이썬 라이브러리\n",
        "- date(날짜), time(시간), datetime(날짜와 시간)"
      ],
      "metadata": {
        "id": "6OTxpCpBEbcK"
      }
    },
    {
      "cell_type": "code",
      "execution_count": 1,
      "metadata": {
        "colab": {
          "base_uri": "https://localhost:8080/"
        },
        "id": "Xv2luSOoEWmc",
        "outputId": "7fb09948-6f54-4876-c184-d5ce1150c4d0"
      },
      "outputs": [
        {
          "output_type": "stream",
          "name": "stdout",
          "text": [
            "2022-10-09 14:13:40.690097\n",
            "2022-10-09 14:13:40.693849\n"
          ]
        }
      ],
      "source": [
        "from datetime import datetime   # 라이브러리 불러오기\n",
        "\n",
        "# 현재 시간 출력\n",
        "now1 = datetime.now()\n",
        "print(now1)\n",
        "\n",
        "now2 = datetime.today()\n",
        "print(now2)"
      ]
    },
    {
      "cell_type": "code",
      "source": [
        "# datetime에 시간 직접 입력\n",
        "t1 = datetime.now()\n",
        "t2 = datetime(1970,1,1)\n",
        "t3 = datetime(1970,12,12,13,24,34)\n",
        "\n",
        "print(t1)\n",
        "print(t2)\n",
        "print(t3)"
      ],
      "metadata": {
        "colab": {
          "base_uri": "https://localhost:8080/"
        },
        "id": "etGVS7zpGU25",
        "outputId": "914fd2d9-0dd5-4e73-edee-9cc436e07083"
      },
      "execution_count": 2,
      "outputs": [
        {
          "output_type": "stream",
          "name": "stdout",
          "text": [
            "2022-10-09 14:16:23.240063\n",
            "1970-01-01 00:00:00\n",
            "1970-12-12 13:24:34\n"
          ]
        }
      ]
    },
    {
      "cell_type": "code",
      "source": [
        "# 시간 계산\n",
        "diff1 = t1 - t2\n",
        "\n",
        "print(diff1)\n",
        "print(type(diff1))\n",
        "\n",
        "diff2 = t2 - t1\n",
        "\n",
        "print(diff2)\n",
        "print(type(diff2))"
      ],
      "metadata": {
        "colab": {
          "base_uri": "https://localhost:8080/"
        },
        "id": "R7jNey7WG1L5",
        "outputId": "e8754f9f-3de2-46ab-995b-eaa26b832c99"
      },
      "execution_count": 3,
      "outputs": [
        {
          "output_type": "stream",
          "name": "stdout",
          "text": [
            "19274 days, 14:16:23.240063\n",
            "<class 'datetime.timedelta'>\n",
            "-19275 days, 9:43:36.759937\n",
            "<class 'datetime.timedelta'>\n"
          ]
        }
      ]
    },
    {
      "cell_type": "markdown",
      "source": [
        "# **테슬라 주식 데이터로 시간 계산하기**"
      ],
      "metadata": {
        "id": "gv2MCeDKJtRE"
      }
    },
    {
      "cell_type": "code",
      "source": [
        "pip install pandas-datareader"
      ],
      "metadata": {
        "colab": {
          "base_uri": "https://localhost:8080/"
        },
        "id": "Rk7VNkAXJ3pD",
        "outputId": "f967052f-6c4d-4d4e-df72-9b83f8d4fde4"
      },
      "execution_count": 4,
      "outputs": [
        {
          "output_type": "stream",
          "name": "stdout",
          "text": [
            "Looking in indexes: https://pypi.org/simple, https://us-python.pkg.dev/colab-wheels/public/simple/\n",
            "Requirement already satisfied: pandas-datareader in /usr/local/lib/python3.7/dist-packages (0.9.0)\n",
            "Requirement already satisfied: requests>=2.19.0 in /usr/local/lib/python3.7/dist-packages (from pandas-datareader) (2.23.0)\n",
            "Requirement already satisfied: pandas>=0.23 in /usr/local/lib/python3.7/dist-packages (from pandas-datareader) (1.3.5)\n",
            "Requirement already satisfied: lxml in /usr/local/lib/python3.7/dist-packages (from pandas-datareader) (4.9.1)\n",
            "Requirement already satisfied: numpy>=1.17.3 in /usr/local/lib/python3.7/dist-packages (from pandas>=0.23->pandas-datareader) (1.21.6)\n",
            "Requirement already satisfied: python-dateutil>=2.7.3 in /usr/local/lib/python3.7/dist-packages (from pandas>=0.23->pandas-datareader) (2.8.2)\n",
            "Requirement already satisfied: pytz>=2017.3 in /usr/local/lib/python3.7/dist-packages (from pandas>=0.23->pandas-datareader) (2022.4)\n",
            "Requirement already satisfied: six>=1.5 in /usr/local/lib/python3.7/dist-packages (from python-dateutil>=2.7.3->pandas>=0.23->pandas-datareader) (1.15.0)\n",
            "Requirement already satisfied: urllib3!=1.25.0,!=1.25.1,<1.26,>=1.21.1 in /usr/local/lib/python3.7/dist-packages (from requests>=2.19.0->pandas-datareader) (1.24.3)\n",
            "Requirement already satisfied: certifi>=2017.4.17 in /usr/local/lib/python3.7/dist-packages (from requests>=2.19.0->pandas-datareader) (2022.9.24)\n",
            "Requirement already satisfied: chardet<4,>=3.0.2 in /usr/local/lib/python3.7/dist-packages (from requests>=2.19.0->pandas-datareader) (3.0.4)\n",
            "Requirement already satisfied: idna<3,>=2.5 in /usr/local/lib/python3.7/dist-packages (from requests>=2.19.0->pandas-datareader) (2.10)\n"
          ]
        }
      ]
    },
    {
      "cell_type": "code",
      "source": [
        "import pandas as pd\n",
        "pd.core.common.is_list_like=pd.api.types.is_list_like\n",
        "import pandas_datareader as pdr\n",
        "\n",
        "# tesla에는 데이터 프레임이 저장됨\n",
        "tesla = pdr.get_data_quandl('TSLA', api_key = 'wxmC4j191nJFHPWy3HHu')\n",
        "\n",
        "# tesla에 저장된 데이터프레임을 파일로 저장하기\n",
        "tesla.to_csv('/content/tesla_stock_quandl.csv')"
      ],
      "metadata": {
        "id": "j1D8QKxCKMpC"
      },
      "execution_count": 12,
      "outputs": []
    },
    {
      "cell_type": "code",
      "source": [
        "# 데이터 확인\n",
        "print(tesla.head())"
      ],
      "metadata": {
        "colab": {
          "base_uri": "https://localhost:8080/"
        },
        "id": "BbZv41zZMED0",
        "outputId": "c61b0d7f-922c-4d68-abc4-e3f18cf732ee"
      },
      "execution_count": 13,
      "outputs": [
        {
          "output_type": "stream",
          "name": "stdout",
          "text": [
            "              Open    High     Low   Close      Volume  ExDividend  \\\n",
            "Date                                                                 \n",
            "2018-03-27  304.00  304.27  277.18  279.18  13696168.0         0.0   \n",
            "2018-03-26  307.34  307.59  291.36  304.18   8324639.0         0.0   \n",
            "2018-03-23  311.25  311.61  300.45  301.54   6600538.0         0.0   \n",
            "2018-03-22  313.89  318.82  308.18  309.10   4914307.0         0.0   \n",
            "2018-03-21  310.25  322.44  310.19  316.53   5927881.0         0.0   \n",
            "\n",
            "            SplitRatio  AdjOpen  AdjHigh  AdjLow  AdjClose   AdjVolume  \n",
            "Date                                                                    \n",
            "2018-03-27         1.0   304.00   304.27  277.18    279.18  13696168.0  \n",
            "2018-03-26         1.0   307.34   307.59  291.36    304.18   8324639.0  \n",
            "2018-03-23         1.0   311.25   311.61  300.45    301.54   6600538.0  \n",
            "2018-03-22         1.0   313.89   318.82  308.18    309.10   4914307.0  \n",
            "2018-03-21         1.0   310.25   322.44  310.19    316.53   5927881.0  \n"
          ]
        }
      ]
    },
    {
      "cell_type": "code",
      "source": [
        "tesla.tail()"
      ],
      "metadata": {
        "colab": {
          "base_uri": "https://localhost:8080/",
          "height": 388
        },
        "id": "ft-lXIE0Sbzq",
        "outputId": "08b0d29a-d030-4fd2-a202-e1600e7936fa"
      },
      "execution_count": 18,
      "outputs": [
        {
          "output_type": "execute_result",
          "data": {
            "text/plain": [
              "                 Date    Open    High       Low   Close     Volume  \\\n",
              "Date                                                                 \n",
              "2017-10-16 2017-10-16  353.76  354.48  347.1600  350.60  5353262.0   \n",
              "2017-10-13 2017-10-13  356.98  358.49  353.6800  355.57  3528413.0   \n",
              "2017-10-12 2017-10-12  352.95  359.78  352.6400  355.68  4047318.0   \n",
              "2017-10-11 2017-10-11  353.89  357.60  351.1500  354.60  4476769.0   \n",
              "2017-10-10 2017-10-10  346.80  355.63  345.5305  355.59  6914972.0   \n",
              "\n",
              "            ExDividend  SplitRatio  AdjOpen  AdjHigh    AdjLow  AdjClose  \\\n",
              "Date                                                                       \n",
              "2017-10-16         0.0         1.0   353.76   354.48  347.1600    350.60   \n",
              "2017-10-13         0.0         1.0   356.98   358.49  353.6800    355.57   \n",
              "2017-10-12         0.0         1.0   352.95   359.78  352.6400    355.68   \n",
              "2017-10-11         0.0         1.0   353.89   357.60  351.1500    354.60   \n",
              "2017-10-10         0.0         1.0   346.80   355.63  345.5305    355.59   \n",
              "\n",
              "            AdjVolume  \n",
              "Date                   \n",
              "2017-10-16  5353262.0  \n",
              "2017-10-13  3528413.0  \n",
              "2017-10-12  4047318.0  \n",
              "2017-10-11  4476769.0  \n",
              "2017-10-10  6914972.0  "
            ],
            "text/html": [
              "\n",
              "  <div id=\"df-973c6a4e-bce0-482c-9428-a27b21b687de\">\n",
              "    <div class=\"colab-df-container\">\n",
              "      <div>\n",
              "<style scoped>\n",
              "    .dataframe tbody tr th:only-of-type {\n",
              "        vertical-align: middle;\n",
              "    }\n",
              "\n",
              "    .dataframe tbody tr th {\n",
              "        vertical-align: top;\n",
              "    }\n",
              "\n",
              "    .dataframe thead th {\n",
              "        text-align: right;\n",
              "    }\n",
              "</style>\n",
              "<table border=\"1\" class=\"dataframe\">\n",
              "  <thead>\n",
              "    <tr style=\"text-align: right;\">\n",
              "      <th></th>\n",
              "      <th>Date</th>\n",
              "      <th>Open</th>\n",
              "      <th>High</th>\n",
              "      <th>Low</th>\n",
              "      <th>Close</th>\n",
              "      <th>Volume</th>\n",
              "      <th>ExDividend</th>\n",
              "      <th>SplitRatio</th>\n",
              "      <th>AdjOpen</th>\n",
              "      <th>AdjHigh</th>\n",
              "      <th>AdjLow</th>\n",
              "      <th>AdjClose</th>\n",
              "      <th>AdjVolume</th>\n",
              "    </tr>\n",
              "    <tr>\n",
              "      <th>Date</th>\n",
              "      <th></th>\n",
              "      <th></th>\n",
              "      <th></th>\n",
              "      <th></th>\n",
              "      <th></th>\n",
              "      <th></th>\n",
              "      <th></th>\n",
              "      <th></th>\n",
              "      <th></th>\n",
              "      <th></th>\n",
              "      <th></th>\n",
              "      <th></th>\n",
              "      <th></th>\n",
              "    </tr>\n",
              "  </thead>\n",
              "  <tbody>\n",
              "    <tr>\n",
              "      <th>2017-10-16</th>\n",
              "      <td>2017-10-16</td>\n",
              "      <td>353.76</td>\n",
              "      <td>354.48</td>\n",
              "      <td>347.1600</td>\n",
              "      <td>350.60</td>\n",
              "      <td>5353262.0</td>\n",
              "      <td>0.0</td>\n",
              "      <td>1.0</td>\n",
              "      <td>353.76</td>\n",
              "      <td>354.48</td>\n",
              "      <td>347.1600</td>\n",
              "      <td>350.60</td>\n",
              "      <td>5353262.0</td>\n",
              "    </tr>\n",
              "    <tr>\n",
              "      <th>2017-10-13</th>\n",
              "      <td>2017-10-13</td>\n",
              "      <td>356.98</td>\n",
              "      <td>358.49</td>\n",
              "      <td>353.6800</td>\n",
              "      <td>355.57</td>\n",
              "      <td>3528413.0</td>\n",
              "      <td>0.0</td>\n",
              "      <td>1.0</td>\n",
              "      <td>356.98</td>\n",
              "      <td>358.49</td>\n",
              "      <td>353.6800</td>\n",
              "      <td>355.57</td>\n",
              "      <td>3528413.0</td>\n",
              "    </tr>\n",
              "    <tr>\n",
              "      <th>2017-10-12</th>\n",
              "      <td>2017-10-12</td>\n",
              "      <td>352.95</td>\n",
              "      <td>359.78</td>\n",
              "      <td>352.6400</td>\n",
              "      <td>355.68</td>\n",
              "      <td>4047318.0</td>\n",
              "      <td>0.0</td>\n",
              "      <td>1.0</td>\n",
              "      <td>352.95</td>\n",
              "      <td>359.78</td>\n",
              "      <td>352.6400</td>\n",
              "      <td>355.68</td>\n",
              "      <td>4047318.0</td>\n",
              "    </tr>\n",
              "    <tr>\n",
              "      <th>2017-10-11</th>\n",
              "      <td>2017-10-11</td>\n",
              "      <td>353.89</td>\n",
              "      <td>357.60</td>\n",
              "      <td>351.1500</td>\n",
              "      <td>354.60</td>\n",
              "      <td>4476769.0</td>\n",
              "      <td>0.0</td>\n",
              "      <td>1.0</td>\n",
              "      <td>353.89</td>\n",
              "      <td>357.60</td>\n",
              "      <td>351.1500</td>\n",
              "      <td>354.60</td>\n",
              "      <td>4476769.0</td>\n",
              "    </tr>\n",
              "    <tr>\n",
              "      <th>2017-10-10</th>\n",
              "      <td>2017-10-10</td>\n",
              "      <td>346.80</td>\n",
              "      <td>355.63</td>\n",
              "      <td>345.5305</td>\n",
              "      <td>355.59</td>\n",
              "      <td>6914972.0</td>\n",
              "      <td>0.0</td>\n",
              "      <td>1.0</td>\n",
              "      <td>346.80</td>\n",
              "      <td>355.63</td>\n",
              "      <td>345.5305</td>\n",
              "      <td>355.59</td>\n",
              "      <td>6914972.0</td>\n",
              "    </tr>\n",
              "  </tbody>\n",
              "</table>\n",
              "</div>\n",
              "      <button class=\"colab-df-convert\" onclick=\"convertToInteractive('df-973c6a4e-bce0-482c-9428-a27b21b687de')\"\n",
              "              title=\"Convert this dataframe to an interactive table.\"\n",
              "              style=\"display:none;\">\n",
              "        \n",
              "  <svg xmlns=\"http://www.w3.org/2000/svg\" height=\"24px\"viewBox=\"0 0 24 24\"\n",
              "       width=\"24px\">\n",
              "    <path d=\"M0 0h24v24H0V0z\" fill=\"none\"/>\n",
              "    <path d=\"M18.56 5.44l.94 2.06.94-2.06 2.06-.94-2.06-.94-.94-2.06-.94 2.06-2.06.94zm-11 1L8.5 8.5l.94-2.06 2.06-.94-2.06-.94L8.5 2.5l-.94 2.06-2.06.94zm10 10l.94 2.06.94-2.06 2.06-.94-2.06-.94-.94-2.06-.94 2.06-2.06.94z\"/><path d=\"M17.41 7.96l-1.37-1.37c-.4-.4-.92-.59-1.43-.59-.52 0-1.04.2-1.43.59L10.3 9.45l-7.72 7.72c-.78.78-.78 2.05 0 2.83L4 21.41c.39.39.9.59 1.41.59.51 0 1.02-.2 1.41-.59l7.78-7.78 2.81-2.81c.8-.78.8-2.07 0-2.86zM5.41 20L4 18.59l7.72-7.72 1.47 1.35L5.41 20z\"/>\n",
              "  </svg>\n",
              "      </button>\n",
              "      \n",
              "  <style>\n",
              "    .colab-df-container {\n",
              "      display:flex;\n",
              "      flex-wrap:wrap;\n",
              "      gap: 12px;\n",
              "    }\n",
              "\n",
              "    .colab-df-convert {\n",
              "      background-color: #E8F0FE;\n",
              "      border: none;\n",
              "      border-radius: 50%;\n",
              "      cursor: pointer;\n",
              "      display: none;\n",
              "      fill: #1967D2;\n",
              "      height: 32px;\n",
              "      padding: 0 0 0 0;\n",
              "      width: 32px;\n",
              "    }\n",
              "\n",
              "    .colab-df-convert:hover {\n",
              "      background-color: #E2EBFA;\n",
              "      box-shadow: 0px 1px 2px rgba(60, 64, 67, 0.3), 0px 1px 3px 1px rgba(60, 64, 67, 0.15);\n",
              "      fill: #174EA6;\n",
              "    }\n",
              "\n",
              "    [theme=dark] .colab-df-convert {\n",
              "      background-color: #3B4455;\n",
              "      fill: #D2E3FC;\n",
              "    }\n",
              "\n",
              "    [theme=dark] .colab-df-convert:hover {\n",
              "      background-color: #434B5C;\n",
              "      box-shadow: 0px 1px 3px 1px rgba(0, 0, 0, 0.15);\n",
              "      filter: drop-shadow(0px 1px 2px rgba(0, 0, 0, 0.3));\n",
              "      fill: #FFFFFF;\n",
              "    }\n",
              "  </style>\n",
              "\n",
              "      <script>\n",
              "        const buttonEl =\n",
              "          document.querySelector('#df-973c6a4e-bce0-482c-9428-a27b21b687de button.colab-df-convert');\n",
              "        buttonEl.style.display =\n",
              "          google.colab.kernel.accessAllowed ? 'block' : 'none';\n",
              "\n",
              "        async function convertToInteractive(key) {\n",
              "          const element = document.querySelector('#df-973c6a4e-bce0-482c-9428-a27b21b687de');\n",
              "          const dataTable =\n",
              "            await google.colab.kernel.invokeFunction('convertToInteractive',\n",
              "                                                     [key], {});\n",
              "          if (!dataTable) return;\n",
              "\n",
              "          const docLinkHtml = 'Like what you see? Visit the ' +\n",
              "            '<a target=\"_blank\" href=https://colab.research.google.com/notebooks/data_table.ipynb>data table notebook</a>'\n",
              "            + ' to learn more about interactive tables.';\n",
              "          element.innerHTML = '';\n",
              "          dataTable['output_type'] = 'display_data';\n",
              "          await google.colab.output.renderOutput(dataTable, element);\n",
              "          const docLink = document.createElement('div');\n",
              "          docLink.innerHTML = docLinkHtml;\n",
              "          element.appendChild(docLink);\n",
              "        }\n",
              "      </script>\n",
              "    </div>\n",
              "  </div>\n",
              "  "
            ]
          },
          "metadata": {},
          "execution_count": 18
        }
      ]
    },
    {
      "cell_type": "code",
      "source": [
        "# 데이터프레임으로 전환\n",
        "tesla = pd.read_csv('/content/tesla_stock_quandl.csv', parse_dates=[0])\n",
        "print(tesla.info())"
      ],
      "metadata": {
        "colab": {
          "base_uri": "https://localhost:8080/"
        },
        "id": "Tcoidr8OQiy_",
        "outputId": "420f2daf-387f-42ce-f587-0e52600c3e03"
      },
      "execution_count": 14,
      "outputs": [
        {
          "output_type": "stream",
          "name": "stdout",
          "text": [
            "<class 'pandas.core.frame.DataFrame'>\n",
            "RangeIndex: 115 entries, 0 to 114\n",
            "Data columns (total 13 columns):\n",
            " #   Column      Non-Null Count  Dtype         \n",
            "---  ------      --------------  -----         \n",
            " 0   Date        115 non-null    datetime64[ns]\n",
            " 1   Open        115 non-null    float64       \n",
            " 2   High        115 non-null    float64       \n",
            " 3   Low         115 non-null    float64       \n",
            " 4   Close       115 non-null    float64       \n",
            " 5   Volume      115 non-null    float64       \n",
            " 6   ExDividend  115 non-null    float64       \n",
            " 7   SplitRatio  115 non-null    float64       \n",
            " 8   AdjOpen     115 non-null    float64       \n",
            " 9   AdjHigh     115 non-null    float64       \n",
            " 10  AdjLow      115 non-null    float64       \n",
            " 11  AdjClose    115 non-null    float64       \n",
            " 12  AdjVolume   115 non-null    float64       \n",
            "dtypes: datetime64[ns](1), float64(12)\n",
            "memory usage: 11.8 KB\n",
            "None\n"
          ]
        }
      ]
    },
    {
      "cell_type": "code",
      "source": [
        "# 2010년 6월 데이터 추출\n",
        "print(tesla.loc[(tesla.Date.dt.year == 2010)&(tesla.Date.dt.month == 6)])"
      ],
      "metadata": {
        "colab": {
          "base_uri": "https://localhost:8080/"
        },
        "id": "8y3X-KTkRUpC",
        "outputId": "3ae137db-442a-4e24-84c0-cce688f5fc58"
      },
      "execution_count": 15,
      "outputs": [
        {
          "output_type": "stream",
          "name": "stdout",
          "text": [
            "Empty DataFrame\n",
            "Columns: [Date, Open, High, Low, Close, Volume, ExDividend, SplitRatio, AdjOpen, AdjHigh, AdjLow, AdjClose, AdjVolume]\n",
            "Index: []\n"
          ]
        }
      ]
    },
    {
      "cell_type": "code",
      "source": [
        "#datetime 오브젝트를 인덱스로 지정하기\n",
        "tesla.index = tesla['Date']\n",
        "print(tesla.index)"
      ],
      "metadata": {
        "colab": {
          "base_uri": "https://localhost:8080/"
        },
        "id": "SBcORR7ORpPs",
        "outputId": "a4af71a7-5425-49f8-934d-38118fa6d5e3"
      },
      "execution_count": 28,
      "outputs": [
        {
          "output_type": "stream",
          "name": "stdout",
          "text": [
            "DatetimeIndex(['2018-03-27', '2018-03-26', '2018-03-23', '2018-03-22',\n",
            "               '2018-03-21', '2018-03-20', '2018-03-19', '2018-03-16',\n",
            "               '2018-03-15', '2018-03-14',\n",
            "               ...\n",
            "               '2017-10-23', '2017-10-20', '2017-10-19', '2017-10-18',\n",
            "               '2017-10-17', '2017-10-16', '2017-10-13', '2017-10-12',\n",
            "               '2017-10-11', '2017-10-10'],\n",
            "              dtype='datetime64[ns]', name='Date', length=115, freq=None)\n"
          ]
        }
      ]
    },
    {
      "cell_type": "code",
      "source": [
        "print(tesla['2018'].iloc[:5,:5])"
      ],
      "metadata": {
        "colab": {
          "base_uri": "https://localhost:8080/"
        },
        "id": "iYPe-x__SAI-",
        "outputId": "c30c8db7-38b8-4b67-e7ab-294555cc1b10"
      },
      "execution_count": 29,
      "outputs": [
        {
          "output_type": "stream",
          "name": "stdout",
          "text": [
            "                 Date    Open    High     Low   Close\n",
            "Date                                                 \n",
            "2018-03-27 2018-03-27  304.00  304.27  277.18  279.18\n",
            "2018-03-26 2018-03-26  307.34  307.59  291.36  304.18\n",
            "2018-03-23 2018-03-23  311.25  311.61  300.45  301.54\n",
            "2018-03-22 2018-03-22  313.89  318.82  308.18  309.10\n",
            "2018-03-21 2018-03-21  310.25  322.44  310.19  316.53\n"
          ]
        },
        {
          "output_type": "stream",
          "name": "stderr",
          "text": [
            "/usr/local/lib/python3.7/dist-packages/ipykernel_launcher.py:1: FutureWarning: Indexing a DataFrame with a datetimelike index using a single string to slice the rows, like `frame[string]`, is deprecated and will be removed in a future version. Use `frame.loc[string]` instead.\n",
            "  \"\"\"Entry point for launching an IPython kernel.\n"
          ]
        }
      ]
    },
    {
      "cell_type": "code",
      "source": [
        "print(tesla['2017-10'].iloc[:,:5])"
      ],
      "metadata": {
        "colab": {
          "base_uri": "https://localhost:8080/"
        },
        "id": "-vMak8URSKwy",
        "outputId": "9d69a3d8-c6b2-4b6b-9aee-282c9e930690"
      },
      "execution_count": 31,
      "outputs": [
        {
          "output_type": "stream",
          "name": "stdout",
          "text": [
            "                 Date    Open      High       Low   Close\n",
            "Date                                                     \n",
            "2017-10-31 2017-10-31  320.23  331.9500  320.1800  331.53\n",
            "2017-10-30 2017-10-30  319.18  323.7800  317.2500  320.08\n",
            "2017-10-27 2017-10-27  319.75  324.5900  316.6600  320.87\n",
            "2017-10-26 2017-10-26  327.78  330.2300  323.2000  326.17\n",
            "2017-10-25 2017-10-25  336.70  337.5000  323.5600  325.84\n",
            "2017-10-24 2017-10-24  338.80  342.8000  336.1600  337.34\n",
            "2017-10-23 2017-10-23  349.88  349.9500  336.2500  337.02\n",
            "2017-10-20 2017-10-20  352.69  354.5500  344.3400  345.10\n",
            "2017-10-19 2017-10-19  355.56  357.1465  348.2000  351.81\n",
            "2017-10-18 2017-10-18  355.97  363.0000  354.1300  359.65\n",
            "2017-10-17 2017-10-17  350.91  356.2200  350.0700  355.75\n",
            "2017-10-16 2017-10-16  353.76  354.4800  347.1600  350.60\n",
            "2017-10-13 2017-10-13  356.98  358.4900  353.6800  355.57\n",
            "2017-10-12 2017-10-12  352.95  359.7800  352.6400  355.68\n",
            "2017-10-11 2017-10-11  353.89  357.6000  351.1500  354.60\n",
            "2017-10-10 2017-10-10  346.80  355.6300  345.5305  355.59\n"
          ]
        },
        {
          "output_type": "stream",
          "name": "stderr",
          "text": [
            "/usr/local/lib/python3.7/dist-packages/ipykernel_launcher.py:1: FutureWarning: Indexing a DataFrame with a datetimelike index using a single string to slice the rows, like `frame[string]`, is deprecated and will be removed in a future version. Use `frame.loc[string]` instead.\n",
            "  \"\"\"Entry point for launching an IPython kernel.\n"
          ]
        }
      ]
    },
    {
      "cell_type": "code",
      "source": [
        "# 시간 간격을 인덱스로 지정해 데이터 추출하기\n",
        "tesla['ref_date'] = tesla['Date'] - tesla['Date'].min()\n",
        "print(tesla.head())"
      ],
      "metadata": {
        "colab": {
          "base_uri": "https://localhost:8080/"
        },
        "id": "9glyWuRgS-ic",
        "outputId": "774a47cf-eff2-463f-84ba-7a6b1bb08633"
      },
      "execution_count": 20,
      "outputs": [
        {
          "output_type": "stream",
          "name": "stdout",
          "text": [
            "                 Date    Open    High     Low   Close      Volume  ExDividend  \\\n",
            "Date                                                                            \n",
            "2018-03-27 2018-03-27  304.00  304.27  277.18  279.18  13696168.0         0.0   \n",
            "2018-03-26 2018-03-26  307.34  307.59  291.36  304.18   8324639.0         0.0   \n",
            "2018-03-23 2018-03-23  311.25  311.61  300.45  301.54   6600538.0         0.0   \n",
            "2018-03-22 2018-03-22  313.89  318.82  308.18  309.10   4914307.0         0.0   \n",
            "2018-03-21 2018-03-21  310.25  322.44  310.19  316.53   5927881.0         0.0   \n",
            "\n",
            "            SplitRatio  AdjOpen  AdjHigh  AdjLow  AdjClose   AdjVolume  \\\n",
            "Date                                                                     \n",
            "2018-03-27         1.0   304.00   304.27  277.18    279.18  13696168.0   \n",
            "2018-03-26         1.0   307.34   307.59  291.36    304.18   8324639.0   \n",
            "2018-03-23         1.0   311.25   311.61  300.45    301.54   6600538.0   \n",
            "2018-03-22         1.0   313.89   318.82  308.18    309.10   4914307.0   \n",
            "2018-03-21         1.0   310.25   322.44  310.19    316.53   5927881.0   \n",
            "\n",
            "           ref_date  \n",
            "Date                 \n",
            "2018-03-27 168 days  \n",
            "2018-03-26 167 days  \n",
            "2018-03-23 164 days  \n",
            "2018-03-22 163 days  \n",
            "2018-03-21 162 days  \n"
          ]
        }
      ]
    },
    {
      "cell_type": "code",
      "source": [
        "tesla.index = tesla['ref_date']\n",
        "print(tesla.iloc[:5,:5])"
      ],
      "metadata": {
        "colab": {
          "base_uri": "https://localhost:8080/"
        },
        "id": "My4ATGiUTYV0",
        "outputId": "6a8c5abc-194f-44bd-f24c-7510a750b27d"
      },
      "execution_count": 21,
      "outputs": [
        {
          "output_type": "stream",
          "name": "stdout",
          "text": [
            "               Date    Open    High     Low   Close\n",
            "ref_date                                           \n",
            "168 days 2018-03-27  304.00  304.27  277.18  279.18\n",
            "167 days 2018-03-26  307.34  307.59  291.36  304.18\n",
            "164 days 2018-03-23  311.25  311.61  300.45  301.54\n",
            "163 days 2018-03-22  313.89  318.82  308.18  309.10\n",
            "162 days 2018-03-21  310.25  322.44  310.19  316.53\n"
          ]
        }
      ]
    },
    {
      "cell_type": "code",
      "source": [
        "print(tesla['5 days':].iloc[:5,:5])"
      ],
      "metadata": {
        "colab": {
          "base_uri": "https://localhost:8080/"
        },
        "id": "4SlKGMRPTjKb",
        "outputId": "724a0311-f26c-48be-dd7a-0252cb547a73"
      },
      "execution_count": 22,
      "outputs": [
        {
          "output_type": "stream",
          "name": "stdout",
          "text": [
            "               Date    Open    High       Low   Close\n",
            "ref_date                                             \n",
            "3 days   2017-10-13  356.98  358.49  353.6800  355.57\n",
            "2 days   2017-10-12  352.95  359.78  352.6400  355.68\n",
            "1 days   2017-10-11  353.89  357.60  351.1500  354.60\n",
            "0 days   2017-10-10  346.80  355.63  345.5305  355.59\n"
          ]
        }
      ]
    },
    {
      "cell_type": "code",
      "source": [
        "# 시간 범위 생성해 인덱스로 지정하기\n",
        "ebola = pd.read_csv('/content/tesla_stock_quandl.csv', parse_dates=[0])\n",
        "print(ebola.iloc[:5,:5])"
      ],
      "metadata": {
        "colab": {
          "base_uri": "https://localhost:8080/"
        },
        "id": "VGuhSPFYTuzp",
        "outputId": "f0f3ce6c-d8f1-4d5a-d3d0-11cf2308c1cc"
      },
      "execution_count": 32,
      "outputs": [
        {
          "output_type": "stream",
          "name": "stdout",
          "text": [
            "        Date    Open    High     Low   Close\n",
            "0 2018-03-27  304.00  304.27  277.18  279.18\n",
            "1 2018-03-26  307.34  307.59  291.36  304.18\n",
            "2 2018-03-23  311.25  311.61  300.45  301.54\n",
            "3 2018-03-22  313.89  318.82  308.18  309.10\n",
            "4 2018-03-21  310.25  322.44  310.19  316.53\n"
          ]
        }
      ]
    },
    {
      "cell_type": "code",
      "source": [
        "print(ebola.iloc[-5:,:5])"
      ],
      "metadata": {
        "colab": {
          "base_uri": "https://localhost:8080/"
        },
        "id": "aos5frQwT-go",
        "outputId": "4454e896-5cc7-4197-8c65-5da1adb74396"
      },
      "execution_count": 33,
      "outputs": [
        {
          "output_type": "stream",
          "name": "stdout",
          "text": [
            "          Date    Open    High       Low   Close\n",
            "110 2017-10-16  353.76  354.48  347.1600  350.60\n",
            "111 2017-10-13  356.98  358.49  353.6800  355.57\n",
            "112 2017-10-12  352.95  359.78  352.6400  355.68\n",
            "113 2017-10-11  353.89  357.60  351.1500  354.60\n",
            "114 2017-10-10  346.80  355.63  345.5305  355.59\n"
          ]
        }
      ]
    },
    {
      "cell_type": "code",
      "source": [
        "head_range = pd.date_range(start='2017-12-31', end='2018-01-05')\n",
        "print(head_range)"
      ],
      "metadata": {
        "colab": {
          "base_uri": "https://localhost:8080/"
        },
        "id": "HQhMCgUhUG6V",
        "outputId": "8726f8c8-b393-458b-daea-2639cbd86320"
      },
      "execution_count": 35,
      "outputs": [
        {
          "output_type": "stream",
          "name": "stdout",
          "text": [
            "DatetimeIndex(['2017-12-31', '2018-01-01', '2018-01-02', '2018-01-03',\n",
            "               '2018-01-04', '2018-01-05'],\n",
            "              dtype='datetime64[ns]', freq='D')\n"
          ]
        }
      ]
    },
    {
      "cell_type": "code",
      "source": [
        "ebola_5 = ebola.head()\n",
        "ebola_5.index = ebola_5['Date']\n",
        "ebola_5.reindex(head_range)\n",
        "print(ebola_5.iloc[:5,:5])"
      ],
      "metadata": {
        "colab": {
          "base_uri": "https://localhost:8080/"
        },
        "id": "6YRNQ_9lU4I3",
        "outputId": "0ebc054a-339a-432c-c516-361e7a66214e"
      },
      "execution_count": 36,
      "outputs": [
        {
          "output_type": "stream",
          "name": "stdout",
          "text": [
            "                 Date    Open    High     Low   Close\n",
            "Date                                                 \n",
            "2018-03-27 2018-03-27  304.00  304.27  277.18  279.18\n",
            "2018-03-26 2018-03-26  307.34  307.59  291.36  304.18\n",
            "2018-03-23 2018-03-23  311.25  311.61  300.45  301.54\n",
            "2018-03-22 2018-03-22  313.89  318.82  308.18  309.10\n",
            "2018-03-21 2018-03-21  310.25  322.44  310.19  316.53\n"
          ]
        }
      ]
    },
    {
      "cell_type": "markdown",
      "source": [
        "시간 범위의 주기 설정하기\n",
        "- DatetimeIndex의 freq 속성값을 지정하여 시간 간격을 조정할 수 있다\n",
        "\n",
        "  + B: 평일만 포함\n",
        "  + C: 사용자가 정의한 평일만 포함\n",
        "  + D: 달력 일자 단위\n",
        "  + W: 주간 단위\n",
        "  + M: 월 마지막 날만 포함\n",
        "  + SM: 15일과 월 마지막 날만 포함\n",
        "  + BM: M 주기의 값이 휴일이면 제외하고 평일만 포함\n",
        "  + CBM: BM에 사용자 정의 평일을 적용\n",
        "  + MS: 월 시작일만 포함\n",
        "  + SMS: 월 시작일과 15일만 포함\n",
        "  + BMS: MS 주기의 값이 휴일이면 제외하고 평일만 포함\n",
        "  + CBMS: BMS에 사용자 정의 평일을 적용\n",
        "  + Q: 3,6,9,12월 분기 마지막 날만 포함\n",
        "  + BQ: 3,6,9,12월 분기 마지막 날이 휴일이면 제외하고 평일만 포함\n",
        "  + QS: 3,6,9,12월 분기 시작일만 포함\n",
        "  + BQS: 3,6,9,12월 분기 시작일이 휴일이면 제외하고 평일만 포함\n",
        "  + A: 년의 마지막 날만 포함\n",
        "  + BA: 년의 마지막 날이 휴일이면 제외하고 평일만 포함\n",
        "  + AS:년의 시작일만 포함\n",
        "  + BAS: 년의 시작일이 휴일이면 제외하고 평일만 포함\n",
        "  + BH: 평일을 시간 단위로 포함(09:00~16:00)\n",
        "  + H: 시간 단위로 포함(00:00~00:00)\n",
        "  + T: 분 단위 포함\n",
        "  + S: 초 단위 포함\n",
        "  + L: 밀리초 단위 포함\n",
        "  + U: 마이크로초 단위포함\n",
        "  + N: 나노초 단위 포함"
      ],
      "metadata": {
        "id": "bUjconrUVUAq"
      }
    }
  ]
}